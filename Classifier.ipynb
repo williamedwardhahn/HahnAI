{
 "cells": [
  {
   "cell_type": "markdown",
   "metadata": {
    "id": "PQsLStfxfRrO"
   },
   "source": [
    "## Setup"
   ]
  },
  {
   "cell_type": "markdown",
   "metadata": {
    "id": "imuIDUkvUjqt"
   },
   "source": [
    "https://towardsdatascience.com/understanding-binary-cross-entropy-log-loss-a-visual-explanation-a3ac6025181a"
   ]
  },
  {
   "cell_type": "markdown",
   "metadata": {
    "id": "X2noEVRFmHTi"
   },
   "source": [
    "### Imports"
   ]
  },
  {
   "cell_type": "code",
   "execution_count": 111,
   "metadata": {
    "id": "aGu2hYn5VgKS"
   },
   "outputs": [],
   "source": [
    "import numpy as np\n",
    "import matplotlib.pyplot as plt\n",
    "import urllib.request\n",
    "from PIL import Image\n",
    "from imageio import *\n",
    "import torch\n",
    "from skimage.transform import resize\n",
    "from mpl_toolkits.axes_grid1.axes_rgb import make_rgb_axes, RGBAxes\n",
    "from torchvision.models import *\n",
    "from torchvision.datasets import MNIST,KMNIST,FashionMNIST\n",
    "from skimage.util import montage\n",
    "from scipy import stats\n",
    "from torchvision import *\n",
    "from torch.nn.functional import *"
   ]
  },
  {
   "cell_type": "code",
   "execution_count": 100,
   "metadata": {
    "colab": {
     "base_uri": "https://localhost:8080/"
    },
    "id": "O1xRGxv7AfoZ",
    "outputId": "079459c6-1389-4656-9d23-5d8bcab496a9"
   },
   "outputs": [
    {
     "name": "stdout",
     "output_type": "stream",
     "text": [
      "Defaulting to user installation because normal site-packages is not writeable\n",
      "Requirement already satisfied: wandb in /home/deepzoo/.local/lib/python3.10/site-packages (0.12.21)\n",
      "Requirement already satisfied: requests<3,>=2.0.0 in /usr/lib/python3/dist-packages (from wandb) (2.25.1)\n",
      "Requirement already satisfied: sentry-sdk>=1.0.0 in /home/deepzoo/.local/lib/python3.10/site-packages (from wandb) (1.9.0)\n",
      "Requirement already satisfied: six>=1.13.0 in /usr/lib/python3/dist-packages (from wandb) (1.16.0)\n",
      "Requirement already satisfied: promise<3,>=2.0 in /home/deepzoo/.local/lib/python3.10/site-packages (from wandb) (2.3)\n",
      "Requirement already satisfied: pathtools in /home/deepzoo/.local/lib/python3.10/site-packages (from wandb) (0.1.2)\n",
      "Requirement already satisfied: docker-pycreds>=0.4.0 in /home/deepzoo/.local/lib/python3.10/site-packages (from wandb) (0.4.0)\n",
      "Requirement already satisfied: psutil>=5.0.0 in /home/deepzoo/.local/lib/python3.10/site-packages (from wandb) (5.9.1)\n",
      "Requirement already satisfied: PyYAML in /usr/lib/python3/dist-packages (from wandb) (5.4.1)\n",
      "Requirement already satisfied: Click!=8.0.0,>=7.0 in /usr/lib/python3/dist-packages (from wandb) (8.0.3)\n",
      "Requirement already satisfied: shortuuid>=0.5.0 in /home/deepzoo/.local/lib/python3.10/site-packages (from wandb) (1.0.9)\n",
      "Requirement already satisfied: GitPython>=1.0.0 in /home/deepzoo/.local/lib/python3.10/site-packages (from wandb) (3.1.27)\n",
      "Requirement already satisfied: protobuf<4.0dev,>=3.12.0 in /usr/lib/python3/dist-packages (from wandb) (3.12.4)\n",
      "Requirement already satisfied: setproctitle in /home/deepzoo/.local/lib/python3.10/site-packages (from wandb) (1.3.0)\n",
      "Requirement already satisfied: setuptools in /home/deepzoo/.local/lib/python3.10/site-packages (from wandb) (45.0.0)\n",
      "Requirement already satisfied: gitdb<5,>=4.0.1 in /home/deepzoo/.local/lib/python3.10/site-packages (from GitPython>=1.0.0->wandb) (4.0.9)\n",
      "Requirement already satisfied: certifi in /home/deepzoo/.local/lib/python3.10/site-packages (from sentry-sdk>=1.0.0->wandb) (2022.6.15)\n",
      "Requirement already satisfied: urllib3>=1.10.0 in /usr/lib/python3/dist-packages (from sentry-sdk>=1.0.0->wandb) (1.26.5)\n",
      "Requirement already satisfied: smmap<6,>=3.0.1 in /home/deepzoo/.local/lib/python3.10/site-packages (from gitdb<5,>=4.0.1->GitPython>=1.0.0->wandb) (5.0.0)\n"
     ]
    }
   ],
   "source": [
    "!pip install wandb\n",
    "import wandb as wb"
   ]
  },
  {
   "cell_type": "code",
   "execution_count": null,
   "metadata": {
    "id": "49UyUZ7KoHKG"
   },
   "outputs": [],
   "source": [
    "# import os\n",
    "# import sys\n",
    "# import time\n",
    "# import copy\n",
    "# import json\n",
    "# import pylab\n",
    "# \n",
    "# import random\n",
    "# import imageio\n",
    "# import requests\n",
    "# import subprocess\n",
    "# import torchvision\n",
    "\n",
    "# import pandas as pd\n",
    "# import seaborn as sns\n",
    "# \n",
    "# from torchvision.models import *\n",
    "# import torch.nn as nn\n",
    "# \n",
    "# \n",
    "# from torch import matmul\n",
    "# import torchvision.utils\n",
    "# from scipy import signal\n",
    "# from bisect import bisect\n",
    "# import torch.optim as optim\n",
    "# from skimage import io as io\n",
    "# from numpy import linalg as LA\n",
    "# from google.colab import drive\n",
    "# from torchvision import models\n",
    "# from skimage import io as skio\n",
    "# import torch.nn.functional as F\n",
    "# \n",
    "# from torchvision.models import *\n",
    "# from torchsummary import summary\n",
    "# \n",
    "# from torch.nn.functional import *\n",
    "# from random import random, randint\n",
    "# from torchvision import transforms\n",
    "# from torch.autograd import Variable\n",
    "# from torch.optim import lr_scheduler\n",
    "# \n",
    "# from sklearn.decomposition import PCA\n",
    "# from torchvision.datasets import MNIST\n",
    "# from mpl_toolkits.mplot3d import Axes3D\n",
    "# from torch.utils.data import DataLoader\n",
    "# from torchvision.utils import save_image\n",
    "# from sklearn.metrics import roc_auc_score\n",
    "# from torchvision import models, transforms\n",
    "# from urllib.request import Request, urlopen\n",
    "# import torchvision.transforms as transforms\n",
    "# from torchvision import datasets, transforms\n",
    "# from sklearn.metrics import confusion_matrix\n",
    "# from torch.utils.data import Dataset, DataLoader\n",
    "# from torchvision import datasets, models, transforms\n",
    "# from sklearn.linear_model import LogisticRegression as LR\n",
    "# \n",
    "# from torch.utils.data import DataLoader, TensorDataset, random_split\n",
    "# from torchvision.transforms.functional import normalize"
   ]
  },
  {
   "cell_type": "code",
   "execution_count": 31,
   "metadata": {
    "id": "49UyUZ7KoHKG"
   },
   "outputs": [],
   "source": [
    "def plot(x):\n",
    "    if type(x) == torch.Tensor :\n",
    "        x = x.cpu().detach().numpy()\n",
    "\n",
    "    fig, ax = plt.subplots()\n",
    "    im = ax.imshow(x, cmap = 'gray')\n",
    "    ax.axis('off')\n",
    "    fig.set_size_inches(5, 5)\n",
    "    plt.show()\n",
    "\n",
    "def montage_plot(x):\n",
    "    x = np.pad(x, pad_width=((0, 0), (1, 1), (1, 1)), mode='constant', constant_values=0)\n",
    "    plot(montage(x))\n",
    "\n",
    "def GPU(data):\n",
    "    return torch.tensor(data, requires_grad=True, dtype=torch.float, device=torch.device('cuda'))\n",
    "\n",
    "def GPU_data(data):\n",
    "    return torch.tensor(data, requires_grad=False, dtype=torch.float, device=torch.device('cuda'))\n",
    "    \n",
    "def one_hot(y):\n",
    "    y2 = GPU_data(torch.zeros((y.shape[0],10)))\n",
    "    for i in range(y.shape[0]):\n",
    "        y2[i,int(y[i])] = 1\n",
    "    return y2\n",
    "\n",
    "\n",
    "\n",
    "def softmax(x):\n",
    "    s1 = torch.exp(x - torch.max(x,1)[0][:,None])\n",
    "    s = s1 / s1.sum(1)[:,None]\n",
    "    return s\n",
    "\n",
    "\n",
    "\n",
    "def cross_entropy(outputs, labels):            \n",
    "    return -torch.sum(softmax(outputs).log()[range(outputs.size()[0]), labels.long()])/outputs.size()[0]  \n",
    "\n",
    "\n",
    "\n",
    "def randn_trunc(s): #Truncated Normal Random Numbers\n",
    "    mu = 0 \n",
    "    sigma = 0.1\n",
    "    R = stats.truncnorm((-2*sigma - mu) / sigma, (2*sigma - mu) / sigma, loc=mu, scale=sigma)\n",
    "    return R.rvs(s)\n",
    "\n",
    "\n",
    "def acc(out,y):\n",
    "    with torch.no_grad():\n",
    "        return (torch.sum(torch.max(out,1)[1] == y).item())/y.shape[0]\n",
    "\n",
    "\n",
    "\n",
    "\n",
    "def GPU(data):\n",
    "    return torch.tensor(data, requires_grad=True, dtype=torch.float, device=torch.device('cuda'))\n",
    "\n",
    "def GPU_data(data):\n",
    "    return torch.tensor(data, requires_grad=False, dtype=torch.float, device=torch.device('cuda'))\n",
    "\n",
    "\n",
    "def CPU(data):\n",
    "    return torch.tensor(data, requires_grad=True, dtype=torch.float, device=torch.device('cpu'))\n",
    "\n",
    "def CPU_data(data):\n",
    "    return torch.tensor(data, requires_grad=False, dtype=torch.float, device=torch.device('cpu'))\n",
    "\n",
    "\n",
    "\n",
    "def plot(x):\n",
    "    if type(x) == torch.Tensor :\n",
    "        x = x.cpu().detach().numpy()\n",
    "\n",
    "    fig, ax = plt.subplots()\n",
    "    im = ax.imshow(x, cmap = 'gray')\n",
    "    ax.axis('off')\n",
    "    fig.set_size_inches(10, 10)\n",
    "    plt.show()\n",
    "    \n",
    "    \n",
    "def montage_plot(x):\n",
    "    x = np.pad(x, pad_width=((0, 0), (1, 1), (1, 1)), mode='constant', constant_values=0)\n",
    "    plot(montage(x))    \n",
    "\n",
    "\n",
    "def get_batch(mode):\n",
    "    b = c.b\n",
    "    if mode == \"train\":\n",
    "        r = np.random.randint(X.shape[0]-b) \n",
    "        x = X[r:r+b,:,:,:]\n",
    "        y = Y[r:r+b]\n",
    "    elif mode == \"test\":\n",
    "        r = np.random.randint(X_test.shape[0]-b)\n",
    "        x = X_test[r:r+b,:,:,:]\n",
    "        y = Y_test[r:r+b]\n",
    "    return x,y\n",
    "\n",
    "\n",
    "\n",
    "def vizvec(x): \n",
    "\n",
    "    fig, ax = plt.subplots()\n",
    "\n",
    "    min_val, max_val = 0, 15\n",
    "\n",
    "    ax.matshow(x, cmap=plt.cm.Blues)\n",
    "    \n",
    "    plt.axis('off')\n",
    "\n",
    "    for i in range(x.shape[0]):\n",
    "        for j in range(x.shape[1]):\n",
    "            c = x[i,j]\n",
    "            ax.text(j, i, str(c), va='center', ha='center')\n",
    "\n",
    "\n",
    "def gradient_step(w):\n",
    "\n",
    "    for j in range(len(w)): \n",
    "\n",
    "            w[j].data = w[j].data - c.h*w[j].grad.data\n",
    "            \n",
    "            w[j].grad.data.zero_()\n",
    "\n",
    "\n",
    "def make_plots():\n",
    "    \n",
    "    acc_train = acc(model(x,w),y)\n",
    "    \n",
    "    xt,yt = get_batch('test')\n",
    "\n",
    "    acc_test = acc(model(xt,w),yt)\n",
    "\n",
    "    wb.log({\"acc_train\": acc_train, \"acc_test\": acc_test})\n",
    "    \n",
    "    "
   ]
  },
  {
   "cell_type": "code",
   "execution_count": 32,
   "metadata": {
    "id": "NZaGcRW6Igar"
   },
   "outputs": [],
   "source": [
    "b = 1000\n",
    "\n",
    "def get_batch(mode):\n",
    "    if mode == \"train\":\n",
    "        r = np.random.randint(X.shape[0]-b) \n",
    "        x = X[r:r+b,:]\n",
    "        y = Y[r:r+b]\n",
    "    elif mode == \"test\":\n",
    "        r = np.random.randint(X_test.shape[0]-b)\n",
    "        x = X_test[r:r+b,:]\n",
    "        y = Y_test[r:r+b]\n",
    "    return x,y"
   ]
  },
  {
   "cell_type": "code",
   "execution_count": 33,
   "metadata": {
    "colab": {
     "base_uri": "https://localhost:8080/",
     "height": 64
    },
    "id": "2BBc8BsVRuFg",
    "outputId": "64f1d952-72ca-4fb4-b7dd-c689d4d9d704"
   },
   "outputs": [
    {
     "data": {
      "image/png": "[encoded data removed]",
      "text/plain": [
       "<Figure size 432x288 with 1 Axes>"
      ]
     },
     "metadata": {
      "needs_background": "light"
     },
     "output_type": "display_data"
    }
   ],
   "source": [
    "x = np.random.randint(0, 255, size=(1, 10))\n",
    "vizvec(x)"
   ]
  },
  {
   "cell_type": "code",
   "execution_count": 34,
   "metadata": {
    "colab": {
     "base_uri": "https://localhost:8080/",
     "height": 248
    },
    "id": "04c3mTPjSIBD",
    "outputId": "f0b7b7da-b788-4448-f16f-0d43d573a270"
   },
   "outputs": [
    {
     "data": {
      "image/png": "[encoded data removed]",
      "text/plain": [
       "<Figure size 432x288 with 1 Axes>"
      ]
     },
     "metadata": {
      "needs_background": "light"
     },
     "output_type": "display_data"
    }
   ],
   "source": [
    "x = np.random.randint(0, 255, size=(3, 3))\n",
    "vizvec(x)"
   ]
  },
  {
   "cell_type": "code",
   "execution_count": 35,
   "metadata": {
    "colab": {
     "base_uri": "https://localhost:8080/",
     "height": 248
    },
    "id": "aBQ2WEAKSIC7",
    "outputId": "b0cb4c97-e3c6-4031-be79-4269af527bcc"
   },
   "outputs": [
    {
     "data": {
      "image/png": "[encoded data removed]",
      "text/plain": [
       "<Figure size 432x288 with 1 Axes>"
      ]
     },
     "metadata": {
      "needs_background": "light"
     },
     "output_type": "display_data"
    }
   ],
   "source": [
    "x = np.random.randint(0, 255, size=(10, 1))\n",
    "vizvec(x)"
   ]
  },
  {
   "cell_type": "code",
   "execution_count": 36,
   "metadata": {
    "colab": {
     "base_uri": "https://localhost:8080/",
     "height": 64
    },
    "id": "2xcHh6EZSIJr",
    "outputId": "a48431c0-5a4e-4231-f6e2-b1220d9bde33"
   },
   "outputs": [
    {
     "data": {
      "image/png": "[encoded data removed]",
      "text/plain": [
       "<Figure size 432x288 with 1 Axes>"
      ]
     },
     "metadata": {
      "needs_background": "light"
     },
     "output_type": "display_data"
    }
   ],
   "source": [
    "x = np.random.randint(0, 255, size=(1, 10))\n",
    "vizvec(x)"
   ]
  },
  {
   "cell_type": "markdown",
   "metadata": {
    "id": "gkw9kmV4NyRo"
   },
   "source": [
    "\n",
    "## MNIST\n",
    "    "
   ]
  },
  {
   "cell_type": "markdown",
   "metadata": {
    "id": "Dc8TF76WPY1e"
   },
   "source": [
    "### Load Data"
   ]
  },
  {
   "cell_type": "code",
   "execution_count": 9,
   "metadata": {
    "colab": {
     "base_uri": "https://localhost:8080/",
     "height": 437,
     "referenced_widgets": [
      "e3492771442d4f51987a1110cb9c597c",
      "fbe84bcf07124584b546b9502e8d94b6",
      "b5d32061a4f74ca0a604ea2a422b7c05",
      "5a55176582bb400c826b96c2137f74ce",
      "0c6a1dda56bf43b0a9067f470ca4fc87",
      "0948f7d31d2443438a75a249fd923dc3",
      "d8a864b8fdea4a7d976f70b9a5822e31",
      "1187e03ae062437c80629b458ed0bc92",
      "72c6a97d007b450c9c010cd0ed655f18",
      "b60642e2ba664bfc8569e924c6ad1200",
      "a8040701bc364430ab4b0cda7632a141",
      "77651612bfdd43cc8c5713efe93646fc",
      "73a89374cbc44dd4b427a65d9db3bd85",
      "428619ec3687490aba5387922614cff0",
      "42539b87d043401f92dc6b43601b89e8",
      "283353d44ec943aea16fbce2b9ab4021",
      "e94384a90b4749b0bb416a2ce3837322",
      "6f6ab657eb4f404fb2f0be83429ca4c9",
      "db657f4281874c30bc4aa591456d9323",
      "3632c3cd720e4e10a257ada1ce648f2a",
      "7c8ab9c641314c91b7a51337dbece5db",
      "8fcfc540e7c649758c33462d31224c29",
      "e2c8f7a549c6489694bb88a3f5fd76de",
      "6dfd7182111a43d1944b22f45d0a19c0",
      "f920dd2fa90445a58cadd0e380ae4e9f",
      "e32a296eaaef40aaa975d075b4a7f23e",
      "0bfa056c21814945b0f0391b5ab4586e",
      "1f684b942c75456e82fd7109f46eb191",
      "8d9b0c20c70d461bb33e55e4575906b4",
      "4df1f458d7864054a3977a68b092cffc",
      "4fd23458319e4116b1409770e89d362a",
      "2cb1ad043dd447db9aaeac213799c6f5",
      "9bcbd31c33034126adeab4464e3ef73d",
      "b41e163541cc4d9baf18a3f18908deb3",
      "6cb9acdda6484bfdb2b3c8489e4488de",
      "231bcacb60d34d8ca6616631b7d09198",
      "f0e3f28a1c7641e3bf1f47ad05aa7063",
      "0c712b356bb746dcae33c69f06c2d2d0",
      "92308f803af74b5ab74062d000529d27",
      "babcf99269d7486982edf2fc0b5cf7d5",
      "681f428deb214852b42bc99efd3be3ff",
      "0adb8adecd2f436ca0e26989496d506b",
      "a32aef8210804968900721dba6b6d4e9",
      "c223000b0ee845c0b4e3441358ea4bf6"
     ]
    },
    "id": "mm7ZMYrVEdMX",
    "outputId": "8cc65104-9042-4919-b48b-ad769366ffcb"
   },
   "outputs": [],
   "source": [
    "# #MNIST\n",
    "train_set = MNIST('./data', train=True, download=True)\n",
    "test_set  = MNIST('./data', train=False, download=True)\n",
    "\n",
    "#KMNIST\n",
    "# train_set = KMNIST('./data', train=True, download=True)\n",
    "# test_set =  KMNIST('./data', train=False, download=True)\n",
    "\n",
    "# Fashion MNIST\n",
    "# train_set = FashionMNIST('./data', train=True, download=True)\n",
    "# test_set =  FashionMNIST('./data', train=False, download=True)"
   ]
  },
  {
   "cell_type": "code",
   "execution_count": 10,
   "metadata": {
    "id": "Ols0HivADS6a"
   },
   "outputs": [],
   "source": [
    "X = train_set.data.numpy()\n",
    "X_test = test_set.data.numpy()\n",
    "Y = train_set.targets.numpy()\n",
    "Y_test = test_set.targets.numpy()\n",
    "\n",
    "X = X[:,None,:,:]/255\n",
    "X_test = X_test[:,None,:,:]/255"
   ]
  },
  {
   "cell_type": "code",
   "execution_count": 11,
   "metadata": {
    "colab": {
     "base_uri": "https://localhost:8080/"
    },
    "id": "gfAjr0UBjgfs",
    "outputId": "7bf3eb63-dfb6-4854-d645-7fe30611cdc8"
   },
   "outputs": [
    {
     "data": {
      "text/plain": [
       "(60000, 1, 28, 28)"
      ]
     },
     "execution_count": 11,
     "metadata": {},
     "output_type": "execute_result"
    }
   ],
   "source": [
    "X.shape"
   ]
  },
  {
   "cell_type": "code",
   "execution_count": 12,
   "metadata": {
    "colab": {
     "base_uri": "https://localhost:8080/",
     "height": 575
    },
    "id": "Ye809_jCAAxr",
    "outputId": "daf3d56c-d46f-49c4-b1bd-00857b0149bb"
   },
   "outputs": [
    {
     "data": {
      "image/png": "[encoded data removed]",
      "text/plain": [
       "<Figure size 720x720 with 1 Axes>"
      ]
     },
     "metadata": {
      "needs_background": "light"
     },
     "output_type": "display_data"
    }
   ],
   "source": [
    "plot(X[100,0,:,:])"
   ]
  },
  {
   "cell_type": "code",
   "execution_count": 13,
   "metadata": {
    "colab": {
     "base_uri": "https://localhost:8080/"
    },
    "id": "evX7gb0YBzpe",
    "outputId": "f4f6447e-26eb-45c8-c9fa-de059f8bf710"
   },
   "outputs": [
    {
     "data": {
      "text/plain": [
       "5"
      ]
     },
     "execution_count": 13,
     "metadata": {},
     "output_type": "execute_result"
    }
   ],
   "source": [
    "Y[100]"
   ]
  },
  {
   "cell_type": "code",
   "execution_count": 14,
   "metadata": {
    "colab": {
     "base_uri": "https://localhost:8080/"
    },
    "id": "b1ExpQONSaC_",
    "outputId": "134b7a4b-30b6-49b5-aa39-90bd1fbb9bbe"
   },
   "outputs": [
    {
     "data": {
      "text/plain": [
       "(25, 28, 28)"
      ]
     },
     "execution_count": 14,
     "metadata": {},
     "output_type": "execute_result"
    }
   ],
   "source": [
    "X[0:25,0,:,:].shape"
   ]
  },
  {
   "cell_type": "code",
   "execution_count": 15,
   "metadata": {
    "colab": {
     "base_uri": "https://localhost:8080/",
     "height": 575
    },
    "id": "CHoMXjA6pWoa",
    "outputId": "ce335b2a-54c2-464f-97bd-ba0206ac20f4"
   },
   "outputs": [
    {
     "data": {
      "image/png": "[encoded data removed]",
      "text/plain": [
       "<Figure size 720x720 with 1 Axes>"
      ]
     },
     "metadata": {
      "needs_background": "light"
     },
     "output_type": "display_data"
    }
   ],
   "source": [
    "montage_plot(X[125:150,0,:,:])"
   ]
  },
  {
   "cell_type": "code",
   "execution_count": 16,
   "metadata": {
    "colab": {
     "base_uri": "https://localhost:8080/"
    },
    "id": "fQPM_KQpD7Qd",
    "outputId": "f9197e04-cca3-4a90-94e8-9ea3ebfa4414"
   },
   "outputs": [
    {
     "data": {
      "text/plain": [
       "60000"
      ]
     },
     "execution_count": 16,
     "metadata": {},
     "output_type": "execute_result"
    }
   ],
   "source": [
    "X.shape[0]"
   ]
  },
  {
   "cell_type": "code",
   "execution_count": 17,
   "metadata": {
    "colab": {
     "base_uri": "https://localhost:8080/"
    },
    "id": "QFqBciL5EPgM",
    "outputId": "1d619719-acdf-4ef0-f082-a7a58ae803e1"
   },
   "outputs": [
    {
     "data": {
      "text/plain": [
       "(10000, 1, 28, 28)"
      ]
     },
     "execution_count": 17,
     "metadata": {},
     "output_type": "execute_result"
    }
   ],
   "source": [
    "X_test.shape"
   ]
  },
  {
   "cell_type": "code",
   "execution_count": 18,
   "metadata": {
    "colab": {
     "base_uri": "https://localhost:8080/"
    },
    "id": "_eAq9FpWES_1",
    "outputId": "c75e6e39-cfa3-45e9-e88b-753548980690"
   },
   "outputs": [
    {
     "data": {
      "text/plain": [
       "60000"
      ]
     },
     "execution_count": 18,
     "metadata": {},
     "output_type": "execute_result"
    }
   ],
   "source": [
    "X.shape[0]"
   ]
  },
  {
   "cell_type": "code",
   "execution_count": 19,
   "metadata": {
    "colab": {
     "base_uri": "https://localhost:8080/"
    },
    "id": "zjqCYVv7EX1d",
    "outputId": "6bac1d84-d0a7-44bd-f0ba-0286af30e549"
   },
   "outputs": [
    {
     "data": {
      "text/plain": [
       "10000"
      ]
     },
     "execution_count": 19,
     "metadata": {},
     "output_type": "execute_result"
    }
   ],
   "source": [
    "X_test.shape[0]"
   ]
  },
  {
   "cell_type": "code",
   "execution_count": 43,
   "metadata": {
    "id": "zBt4rsdIefV_"
   },
   "outputs": [],
   "source": [
    "X = CPU_data(X)\n",
    "Y = CPU_data(Y)\n",
    "X_test = CPU_data(X_test)\n",
    "Y_test = CPU_data(Y_test)"
   ]
  },
  {
   "cell_type": "code",
   "execution_count": 44,
   "metadata": {
    "id": "qd6QY2wJ3DPk"
   },
   "outputs": [],
   "source": [
    "X = X.reshape(X.shape[0],784)\n",
    "X_test = X_test.reshape(X_test.shape[0],784)"
   ]
  },
  {
   "cell_type": "markdown",
   "metadata": {
    "id": "aqdMV6v-2o3h"
   },
   "source": [
    "\n",
    "### Classifier\n"
   ]
  },
  {
   "cell_type": "code",
   "execution_count": 45,
   "metadata": {
    "id": "OqMKS4LqeBzy"
   },
   "outputs": [],
   "source": [
    "x,y = get_batch('train')"
   ]
  },
  {
   "cell_type": "code",
   "execution_count": 46,
   "metadata": {
    "colab": {
     "base_uri": "https://localhost:8080/"
    },
    "id": "NvewlRZCeB20",
    "outputId": "05dbeeba-3d74-47c0-db27-9890ca2c9b70"
   },
   "outputs": [
    {
     "data": {
      "text/plain": [
       "torch.Size([1000, 784])"
      ]
     },
     "execution_count": 46,
     "metadata": {},
     "output_type": "execute_result"
    }
   ],
   "source": [
    "x.shape"
   ]
  },
  {
   "cell_type": "code",
   "execution_count": 47,
   "metadata": {
    "colab": {
     "base_uri": "https://localhost:8080/",
     "height": 575
    },
    "id": "Dfywj66KFh8Y",
    "outputId": "1ede591b-1724-42d6-b0a4-87b9ef8db20b"
   },
   "outputs": [
    {
     "data": {
      "image/png": "[encoded data removed]",
      "text/plain": [
       "<Figure size 720x720 with 1 Axes>"
      ]
     },
     "metadata": {
      "needs_background": "light"
     },
     "output_type": "display_data"
    }
   ],
   "source": [
    "plot(x[0].reshape(28,28))"
   ]
  },
  {
   "cell_type": "code",
   "execution_count": 48,
   "metadata": {
    "colab": {
     "base_uri": "https://localhost:8080/"
    },
    "id": "hTYYsbmzGZzq",
    "outputId": "cd062651-e586-48fa-9c35-47f15e34bfd8"
   },
   "outputs": [
    {
     "data": {
      "text/plain": [
       "tensor([4., 3., 3., 4., 7., 5., 4., 6., 6., 7.])"
      ]
     },
     "execution_count": 48,
     "metadata": {},
     "output_type": "execute_result"
    }
   ],
   "source": [
    "y[:10]"
   ]
  },
  {
   "cell_type": "code",
   "execution_count": 49,
   "metadata": {
    "id": "G1MmJuRKC20Q"
   },
   "outputs": [],
   "source": [
    "W = CPU(np.random.randn(784,10))"
   ]
  },
  {
   "cell_type": "code",
   "execution_count": 50,
   "metadata": {
    "id": "xNugjEScFiCC"
   },
   "outputs": [
    {
     "data": {
      "text/plain": [
       "(torch.Size([1000, 784]), torch.Size([784, 10]))"
      ]
     },
     "execution_count": 50,
     "metadata": {},
     "output_type": "execute_result"
    }
   ],
   "source": [
    "x.shape, W.shape"
   ]
  },
  {
   "cell_type": "code",
   "execution_count": 51,
   "metadata": {
    "id": "2fKhesUrFrYo"
   },
   "outputs": [
    {
     "data": {
      "text/plain": [
       "torch.Size([1000, 10])"
      ]
     },
     "execution_count": 51,
     "metadata": {},
     "output_type": "execute_result"
    }
   ],
   "source": [
    "torch.matmul(x,W).shape"
   ]
  },
  {
   "cell_type": "code",
   "execution_count": 52,
   "metadata": {
    "id": "vXUJJil7VyS_"
   },
   "outputs": [
    {
     "data": {
      "text/plain": [
       "torch.Size([1000, 10])"
      ]
     },
     "execution_count": 52,
     "metadata": {},
     "output_type": "execute_result"
    }
   ],
   "source": [
    "(x@W).shape"
   ]
  },
  {
   "cell_type": "code",
   "execution_count": 53,
   "metadata": {
    "id": "CCUIYKR-Il3c"
   },
   "outputs": [
    {
     "name": "stdout",
     "output_type": "stream",
     "text": [
      "100 µs ± 11.8 µs per loop (mean ± std. dev. of 7 runs, 10,000 loops each)\n"
     ]
    }
   ],
   "source": [
    "%%timeit\n",
    "x@W"
   ]
  },
  {
   "cell_type": "code",
   "execution_count": 54,
   "metadata": {
    "id": "GlQwtdaSeB5S"
   },
   "outputs": [
    {
     "data": {
      "text/plain": [
       "tensor([[ -3.4433,  -7.2274,  -3.7274,  ...,  -3.0752,  -3.7035,  -0.0885],\n",
       "        [ 13.2444,   7.7709, -11.5580,  ...,  -2.4692,  -4.6470,   0.7906],\n",
       "        [ -4.7207,  -1.3198, -14.6008,  ...,  10.5559,  19.2411,   5.8715],\n",
       "        ...,\n",
       "        [  4.7927,  -3.9181, -10.8222,  ...,  18.6696,   8.4304,   6.7348],\n",
       "        [ -0.9282,   0.2128,   5.8925,  ...,   8.8149,   7.1642,  -1.5175],\n",
       "        [ 14.2059,  13.2351, -15.2072,  ...,   2.4481,  -7.5184,   2.3048]],\n",
       "       grad_fn=<MmBackward0>)"
      ]
     },
     "execution_count": 54,
     "metadata": {},
     "output_type": "execute_result"
    }
   ],
   "source": [
    "x@W"
   ]
  },
  {
   "cell_type": "code",
   "execution_count": 55,
   "metadata": {
    "id": "E2hgdUkmeB8W"
   },
   "outputs": [],
   "source": [
    "y2 = x@W "
   ]
  },
  {
   "cell_type": "code",
   "execution_count": 58,
   "metadata": {
    "id": "asy5jw0oy_F7"
   },
   "outputs": [
    {
     "data": {
      "text/plain": [
       "torch.Size([1000])"
      ]
     },
     "execution_count": 58,
     "metadata": {},
     "output_type": "execute_result"
    }
   ],
   "source": [
    "y.shape"
   ]
  },
  {
   "cell_type": "code",
   "execution_count": 66,
   "metadata": {
    "id": "BEgs4-skzhTC"
   },
   "outputs": [],
   "source": [
    "def one_hot(y):\n",
    "    y2 = CPU_data(torch.zeros((y.shape[0],10)))\n",
    "    for i in range(y.shape[0]):\n",
    "        y2[i,int(y[i])] = 1\n",
    "    return y2"
   ]
  },
  {
   "cell_type": "code",
   "execution_count": 69,
   "metadata": {
    "id": "v91JZyTQeCMp"
   },
   "outputs": [
    {
     "data": {
      "text/plain": [
       "tensor([5, 0, 8, 3, 8, 3, 9, 3, 6, 9, 9, 3, 8, 9, 7, 1, 8, 8, 3, 5, 8, 0, 0, 9,\n",
       "        7, 3, 9, 5, 3, 9, 8, 3, 8, 9, 8, 3, 7, 8, 7, 5, 7, 5, 9, 9, 8, 3, 8, 3,\n",
       "        9, 3, 8, 8, 8, 7, 3, 3, 0, 9, 7, 7, 7, 5, 3, 3, 3, 1, 7, 0, 9, 6, 7, 3,\n",
       "        8, 0, 7, 0, 7, 3, 3, 5, 3, 8, 0, 3, 7, 9, 8, 3, 8, 3, 3, 5, 0, 3, 9, 9,\n",
       "        0, 8, 3, 9, 7, 3, 3, 3, 9, 9, 8, 7, 8, 3, 3, 9, 3, 8, 3, 8, 7, 6, 7, 8,\n",
       "        7, 8, 5, 7, 3, 8, 5, 7, 0, 7, 1, 0, 9, 8, 3, 8, 7, 3, 0, 3, 0, 9, 8, 9,\n",
       "        7, 7, 7, 0, 9, 9, 8, 8, 8, 3, 3, 7, 3, 3, 9, 8, 3, 7, 3, 9, 7, 8, 3, 8,\n",
       "        8, 5, 9, 9, 9, 8, 7, 8, 9, 3, 3, 9, 9, 8, 9, 9, 3, 8, 3, 3, 9, 9, 6, 0,\n",
       "        3, 7, 7, 0, 3, 9, 7, 8, 8, 1, 7, 3, 9, 3, 8, 5, 9, 9, 9, 7, 7, 9, 0, 7,\n",
       "        0, 7, 7, 3, 7, 3, 8, 8, 9, 3, 9, 8, 0, 3, 8, 3, 5, 3, 8, 8, 8, 3, 3, 8,\n",
       "        8, 3, 5, 3, 7, 3, 6, 0, 9, 3, 9, 3, 7, 3, 8, 8, 3, 7, 8, 8, 7, 3, 9, 8,\n",
       "        8, 3, 9, 9, 8, 3, 9, 3, 8, 7, 7, 8, 0, 3, 3, 8, 8, 3, 8, 8, 9, 3, 9, 8,\n",
       "        5, 7, 8, 3, 3, 7, 9, 3, 7, 8, 7, 3, 1, 3, 3, 8, 7, 9, 1, 3, 0, 3, 7, 3,\n",
       "        3, 8, 6, 8, 8, 3, 9, 7, 8, 8, 8, 0, 8, 8, 5, 8, 9, 3, 7, 3, 3, 8, 5, 8,\n",
       "        8, 3, 3, 3, 7, 3, 0, 7, 7, 3, 3, 8, 3, 7, 3, 7, 3, 0, 9, 9, 3, 3, 3, 7,\n",
       "        8, 7, 7, 3, 6, 3, 0, 3, 1, 8, 7, 3, 3, 7, 7, 8, 3, 9, 7, 7, 8, 5, 5, 9,\n",
       "        7, 3, 3, 8, 1, 3, 3, 3, 7, 7, 9, 8, 0, 3, 1, 3, 8, 3, 3, 3, 9, 1, 7, 8,\n",
       "        6, 3, 5, 3, 8, 3, 9, 3, 3, 7, 9, 3, 7, 0, 7, 9, 7, 8, 3, 9, 0, 8, 8, 9,\n",
       "        7, 7, 8, 7, 8, 7, 8, 3, 8, 3, 3, 3, 3, 3, 7, 3, 3, 3, 8, 3, 0, 3, 8, 9,\n",
       "        8, 3, 8, 8, 0, 0, 8, 9, 9, 8, 3, 8, 3, 3, 9, 3, 3, 9, 3, 8, 8, 5, 5, 8,\n",
       "        8, 9, 3, 3, 7, 8, 3, 7, 9, 7, 8, 7, 8, 9, 0, 8, 5, 5, 5, 8, 3, 7, 7, 8,\n",
       "        9, 3, 9, 9, 8, 7, 1, 7, 9, 9, 8, 8, 8, 5, 7, 8, 9, 8, 7, 8, 0, 3, 0, 7,\n",
       "        3, 3, 0, 7, 5, 0, 3, 9, 0, 8, 3, 5, 9, 9, 7, 5, 5, 8, 1, 8, 0, 3, 7, 8,\n",
       "        7, 9, 9, 3, 3, 8, 3, 8, 7, 9, 5, 8, 8, 5, 7, 8, 5, 3, 7, 7, 8, 7, 8, 8,\n",
       "        8, 3, 1, 3, 9, 7, 8, 9, 7, 8, 7, 1, 3, 8, 0, 3, 8, 3, 7, 8, 1, 8, 7, 7,\n",
       "        5, 3, 0, 7, 0, 9, 9, 8, 8, 8, 0, 8, 6, 7, 1, 3, 9, 9, 9, 8, 9, 7, 5, 7,\n",
       "        0, 5, 9, 7, 7, 5, 7, 9, 3, 8, 0, 7, 5, 7, 7, 3, 0, 9, 9, 7, 3, 8, 7, 3,\n",
       "        0, 8, 9, 6, 7, 8, 3, 7, 3, 8, 9, 8, 3, 8, 5, 0, 0, 8, 0, 7, 9, 7, 3, 5,\n",
       "        8, 7, 9, 3, 8, 3, 8, 5, 8, 8, 3, 7, 5, 8, 7, 8, 9, 8, 7, 9, 8, 7, 7, 8,\n",
       "        7, 8, 3, 8, 3, 8, 3, 7, 5, 9, 8, 3, 9, 7, 0, 3, 3, 7, 3, 8, 7, 1, 8, 9,\n",
       "        7, 8, 3, 9, 3, 8, 8, 7, 9, 7, 8, 7, 1, 3, 6, 3, 9, 8, 0, 7, 3, 3, 0, 3,\n",
       "        3, 8, 8, 7, 1, 7, 9, 3, 7, 8, 3, 3, 0, 8, 8, 0, 7, 8, 0, 3, 9, 8, 3, 3,\n",
       "        6, 8, 9, 0, 7, 0, 3, 3, 9, 3, 8, 3, 8, 7, 4, 3, 7, 3, 8, 7, 0, 7, 7, 7,\n",
       "        9, 3, 8, 9, 3, 9, 8, 8, 0, 8, 3, 8, 3, 3, 0, 7, 0, 3, 3, 8, 9, 8, 7, 7,\n",
       "        6, 3, 8, 8, 3, 7, 1, 3, 8, 7, 8, 8, 9, 9, 8, 7, 3, 8, 3, 3, 8, 4, 3, 7,\n",
       "        7, 3, 7, 8, 9, 8, 8, 3, 8, 7, 3, 7, 8, 3, 5, 8, 9, 8, 7, 3, 0, 8, 3, 3,\n",
       "        3, 8, 8, 7, 3, 7, 7, 8, 7, 8, 5, 3, 0, 8, 5, 9, 8, 3, 3, 3, 7, 3, 7, 8,\n",
       "        3, 8, 7, 6, 8, 8, 8, 3, 8, 8, 3, 3, 6, 8, 8, 3, 8, 3, 7, 3, 8, 9, 3, 7,\n",
       "        3, 3, 3, 0, 9, 3, 9, 7, 3, 3, 5, 8, 8, 3, 5, 7, 9, 8, 0, 7, 0, 9, 3, 3,\n",
       "        3, 3, 3, 3, 3, 3, 7, 3, 8, 7, 3, 7, 8, 3, 0, 9, 0, 3, 8, 3, 3, 3, 9, 3,\n",
       "        5, 9, 9, 3, 7, 3, 9, 0, 0, 8, 5, 3, 9, 3, 6, 3, 8, 3, 3, 3, 8, 8, 0, 7,\n",
       "        1, 3, 7, 9, 3, 8, 1, 8, 3, 8, 8, 3, 0, 7, 3, 3])"
      ]
     },
     "execution_count": 69,
     "metadata": {},
     "output_type": "execute_result"
    }
   ],
   "source": [
    "# torch.argmax(y2,1)"
   ]
  },
  {
   "cell_type": "code",
   "execution_count": 70,
   "metadata": {
    "id": "0hfl1lKrguTg"
   },
   "outputs": [
    {
     "data": {
      "text/plain": [
       "tensor(0.0810)"
      ]
     },
     "execution_count": 70,
     "metadata": {},
     "output_type": "execute_result"
    }
   ],
   "source": [
    "torch.sum(y == torch.argmax(y2,1))/b"
   ]
  },
  {
   "cell_type": "code",
   "execution_count": 71,
   "metadata": {
    "id": "xz7Ea13HwarC"
   },
   "outputs": [
    {
     "data": {
      "text/plain": [
       "torch.Size([60000, 784])"
      ]
     },
     "execution_count": 71,
     "metadata": {},
     "output_type": "execute_result"
    }
   ],
   "source": [
    "X.shape"
   ]
  },
  {
   "cell_type": "code",
   "execution_count": 72,
   "metadata": {
    "id": "FNP2ahywwatJ"
   },
   "outputs": [
    {
     "data": {
      "text/plain": [
       "tensor([[ -3.6039,   2.4667, -14.4161,  ...,  11.4036,  11.9709,  -0.7131],\n",
       "        [  2.4630,  11.2720, -21.1050,  ...,  -2.9693,   4.8950,  15.0804],\n",
       "        [ 12.8557,  15.1278,  -2.8070,  ...,  -1.1038,  12.4378,  -6.4998],\n",
       "        ...,\n",
       "        [  4.6226,  -7.6351,  -4.1846,  ...,   7.4829,  10.7826,  -0.2045],\n",
       "        [  4.0571,   8.6827,  -5.5265,  ...,  -0.9810,  -5.8689,   6.2294],\n",
       "        [  7.2702,   1.0522,  -2.8120,  ...,   5.8191,   6.1671,   4.0778]],\n",
       "       grad_fn=<MmBackward0>)"
      ]
     },
     "execution_count": 72,
     "metadata": {},
     "output_type": "execute_result"
    }
   ],
   "source": [
    "X@W"
   ]
  },
  {
   "cell_type": "code",
   "execution_count": 73,
   "metadata": {
    "id": "WbGDRj7BwavA"
   },
   "outputs": [
    {
     "data": {
      "text/plain": [
       "tensor([8, 9, 1,  ..., 8, 1, 3])"
      ]
     },
     "execution_count": 73,
     "metadata": {},
     "output_type": "execute_result"
    }
   ],
   "source": [
    "torch.argmax(X@W,1)"
   ]
  },
  {
   "cell_type": "code",
   "execution_count": 74,
   "metadata": {
    "id": "EXTb4Y4ywaw3"
   },
   "outputs": [
    {
     "data": {
      "text/plain": [
       "tensor([5., 0., 4.,  ..., 5., 6., 8.])"
      ]
     },
     "execution_count": 74,
     "metadata": {},
     "output_type": "execute_result"
    }
   ],
   "source": [
    "Y"
   ]
  },
  {
   "cell_type": "code",
   "execution_count": 75,
   "metadata": {
    "id": "h_w3ksHVjQwu"
   },
   "outputs": [
    {
     "data": {
      "text/plain": [
       "tensor(0.1068)"
      ]
     },
     "execution_count": 75,
     "metadata": {},
     "output_type": "execute_result"
    }
   ],
   "source": [
    "torch.sum(torch.argmax(X@W,1) == Y)/60000"
   ]
  },
  {
   "cell_type": "code",
   "execution_count": 76,
   "metadata": {
    "id": "n6RKfzVLnOTD"
   },
   "outputs": [
    {
     "data": {
      "text/plain": [
       "tensor([[ -3.6039,   2.4667, -14.4161,  ...,  11.4036,  11.9709,  -0.7131],\n",
       "        [  2.4630,  11.2720, -21.1050,  ...,  -2.9693,   4.8950,  15.0804],\n",
       "        [ 12.8557,  15.1278,  -2.8070,  ...,  -1.1038,  12.4378,  -6.4998],\n",
       "        ...,\n",
       "        [  4.6226,  -7.6351,  -4.1846,  ...,   7.4829,  10.7826,  -0.2045],\n",
       "        [  4.0571,   8.6827,  -5.5265,  ...,  -0.9810,  -5.8689,   6.2294],\n",
       "        [  7.2702,   1.0522,  -2.8120,  ...,   5.8191,   6.1671,   4.0778]],\n",
       "       grad_fn=<MmBackward0>)"
      ]
     },
     "execution_count": 76,
     "metadata": {},
     "output_type": "execute_result"
    }
   ],
   "source": [
    "X@W"
   ]
  },
  {
   "cell_type": "code",
   "execution_count": 77,
   "metadata": {
    "id": "GpOVv7nInOUw"
   },
   "outputs": [
    {
     "data": {
      "text/plain": [
       "torch.Size([784, 10])"
      ]
     },
     "execution_count": 77,
     "metadata": {},
     "output_type": "execute_result"
    }
   ],
   "source": [
    "W.shape"
   ]
  },
  {
   "cell_type": "code",
   "execution_count": 78,
   "metadata": {
    "id": "IRq_ouBUnOWx"
   },
   "outputs": [
    {
     "data": {
      "text/plain": [
       "torch.Size([784])"
      ]
     },
     "execution_count": 78,
     "metadata": {},
     "output_type": "execute_result"
    }
   ],
   "source": [
    "W[:,0].shape"
   ]
  },
  {
   "cell_type": "code",
   "execution_count": 79,
   "metadata": {
    "id": "uYWJulTHnOa1"
   },
   "outputs": [
    {
     "data": {
      "image/png": "[encoded data removed]",
      "text/plain": [
       "<Figure size 720x720 with 1 Axes>"
      ]
     },
     "metadata": {
      "needs_background": "light"
     },
     "output_type": "display_data"
    }
   ],
   "source": [
    "plot(W[:,0].reshape(28,28))"
   ]
  },
  {
   "cell_type": "code",
   "execution_count": 80,
   "metadata": {
    "id": "tupFwuSZnOk9"
   },
   "outputs": [
    {
     "data": {
      "image/png": "[encoded data removed]",
      "text/plain": [
       "<Figure size 720x720 with 1 Axes>"
      ]
     },
     "metadata": {
      "needs_background": "light"
     },
     "output_type": "display_data"
    }
   ],
   "source": [
    "plot(W[:,2].reshape(28,28))"
   ]
  },
  {
   "cell_type": "code",
   "execution_count": 81,
   "metadata": {
    "id": "Wvvy6MrAkC5Z"
   },
   "outputs": [
    {
     "data": {
      "text/plain": [
       "torch.Size([784, 10])"
      ]
     },
     "execution_count": 81,
     "metadata": {},
     "output_type": "execute_result"
    }
   ],
   "source": [
    "W.shape"
   ]
  },
  {
   "cell_type": "code",
   "execution_count": 82,
   "metadata": {
    "id": "MCrJ9cNPkC76"
   },
   "outputs": [
    {
     "data": {
      "text/plain": [
       "torch.Size([10, 784])"
      ]
     },
     "execution_count": 82,
     "metadata": {},
     "output_type": "execute_result"
    }
   ],
   "source": [
    "(W.T).shape"
   ]
  },
  {
   "cell_type": "code",
   "execution_count": 83,
   "metadata": {
    "id": "wAkEKB2_jQyy"
   },
   "outputs": [
    {
     "data": {
      "image/png": "[encoded data removed]",
      "text/plain": [
       "<Figure size 720x720 with 1 Axes>"
      ]
     },
     "metadata": {
      "needs_background": "light"
     },
     "output_type": "display_data"
    }
   ],
   "source": [
    "montage_plot((W.T).reshape(10,28,28).cpu().detach().numpy())"
   ]
  },
  {
   "cell_type": "code",
   "execution_count": 84,
   "metadata": {
    "id": "m4BlYG-CgC2z"
   },
   "outputs": [],
   "source": [
    "def softmax(x):\n",
    "    s1 = torch.exp(x - torch.max(x,1)[0][:,None])\n",
    "    s = s1 / s1.sum(1)[:,None]\n",
    "    return s"
   ]
  },
  {
   "cell_type": "code",
   "execution_count": 85,
   "metadata": {
    "id": "XZ-UV8W_c_9o"
   },
   "outputs": [],
   "source": [
    "def cross_entropy(outputs, labels):            \n",
    "    return -torch.sum(softmax(outputs).log()[range(outputs.size()[0]), labels.long()])/outputs.size()[0]  "
   ]
  },
  {
   "cell_type": "code",
   "execution_count": 86,
   "metadata": {
    "id": "LW3ttVcq1sI9"
   },
   "outputs": [],
   "source": [
    "def acc(out,y):\n",
    "    return (torch.sum(torch.max(out,1)[1] == y).item())/y.shape[0]"
   ]
  },
  {
   "cell_type": "code",
   "execution_count": 87,
   "metadata": {
    "id": "x79Sie8XKPOC"
   },
   "outputs": [],
   "source": [
    "def get_batch(mode):\n",
    "    b = c.b\n",
    "    if mode == \"train\":\n",
    "        r = np.random.randint(X.shape[0]-b) \n",
    "        x = X[r:r+b,:]\n",
    "        y = Y[r:r+b]\n",
    "    elif mode == \"test\":\n",
    "        r = np.random.randint(X_test.shape[0]-b)\n",
    "        x = X_test[r:r+b,:]\n",
    "        y = Y_test[r:r+b]\n",
    "    return x,y"
   ]
  },
  {
   "cell_type": "code",
   "execution_count": 88,
   "metadata": {
    "id": "vXOr9aM8A8P-"
   },
   "outputs": [],
   "source": [
    "def model(x,w):\n",
    "\n",
    "    return x@w[0]"
   ]
  },
  {
   "cell_type": "code",
   "execution_count": 89,
   "metadata": {
    "id": "-k6j0lacnYYk"
   },
   "outputs": [],
   "source": [
    "def gradient_step(w):\n",
    "\n",
    "    w[0].data = w[0].data - c.L*w[0].grad.data\n",
    "    \n",
    "    w[0].grad.data.zero_()"
   ]
  },
  {
   "cell_type": "code",
   "execution_count": 90,
   "metadata": {
    "id": "uzRsuDek9Fve"
   },
   "outputs": [],
   "source": [
    "def make_plots():\n",
    "    \n",
    "    acc_train = acc(model(x,w),y)\n",
    "    \n",
    "    xt,yt = get_batch('test')\n",
    "\n",
    "    acc_test = acc(model(xt,w),yt)\n",
    "\n",
    "    wb.log({\"acc_train\": acc_train, \"acc_test\": acc_test})"
   ]
  },
  {
   "cell_type": "code",
   "execution_count": 95,
   "metadata": {
    "id": "v_6a6qnKA7zP"
   },
   "outputs": [
    {
     "data": {
      "text/html": [
       "Finishing last run (ID:1umsghgx) before initializing another..."
      ],
      "text/plain": [
       "<IPython.core.display.HTML object>"
      ]
     },
     "metadata": {},
     "output_type": "display_data"
    },
    {
     "data": {
      "text/html": [
       "Waiting for W&B process to finish... <strong style=\"color:green\">(success).</strong>"
      ],
      "text/plain": [
       "<IPython.core.display.HTML object>"
      ]
     },
     "metadata": {},
     "output_type": "display_data"
    },
    {
     "data": {
      "application/vnd.jupyter.widget-view+json": {
       "model_id": "",
       "version_major": 2,
       "version_minor": 0
      },
      "text/plain": [
       "VBox(children=(Label(value='0.001 MB of 0.001 MB uploaded (0.000 MB deduped)\\r'), FloatProgress(value=1.0, max…"
      ]
     },
     "metadata": {},
     "output_type": "display_data"
    },
    {
     "data": {
      "text/html": [
       "Synced <strong style=\"color:#cdcd00\">lively-meadow-103</strong>: <a href=\"https://wandb.ai/williamedwardhahn/Simple_Linear_SGD_Book_2/runs/1umsghgx\" target=\"_blank\">https://wandb.ai/williamedwardhahn/Simple_Linear_SGD_Book_2/runs/1umsghgx</a><br/>Synced 4 W&B file(s), 0 media file(s), 0 artifact file(s) and 0 other file(s)"
      ],
      "text/plain": [
       "<IPython.core.display.HTML object>"
      ]
     },
     "metadata": {},
     "output_type": "display_data"
    },
    {
     "data": {
      "text/html": [
       "Find logs at: <code>./wandb/run-20220728_143539-1umsghgx/logs</code>"
      ],
      "text/plain": [
       "<IPython.core.display.HTML object>"
      ]
     },
     "metadata": {},
     "output_type": "display_data"
    },
    {
     "data": {
      "text/html": [
       "Successfully finished last run (ID:1umsghgx). Initializing new run:<br/>"
      ],
      "text/plain": [
       "<IPython.core.display.HTML object>"
      ]
     },
     "metadata": {},
     "output_type": "display_data"
    },
    {
     "data": {
      "text/html": [
       "Tracking run with wandb version 0.12.21"
      ],
      "text/plain": [
       "<IPython.core.display.HTML object>"
      ]
     },
     "metadata": {},
     "output_type": "display_data"
    },
    {
     "data": {
      "text/html": [
       "Run data is saved locally in <code>/home/deepzoo/Desktop/HahnAI/wandb/run-20220728_143556-2r6y88gf</code>"
      ],
      "text/plain": [
       "<IPython.core.display.HTML object>"
      ]
     },
     "metadata": {},
     "output_type": "display_data"
    },
    {
     "data": {
      "text/html": [
       "Syncing run <strong><a href=\"https://wandb.ai/williamedwardhahn/Simple_Linear_SGD_Book_2/runs/2r6y88gf\" target=\"_blank\">rose-spaceship-104</a></strong> to <a href=\"https://wandb.ai/williamedwardhahn/Simple_Linear_SGD_Book_2\" target=\"_blank\">Weights & Biases</a> (<a href=\"https://wandb.me/run\" target=\"_blank\">docs</a>)<br/>"
      ],
      "text/plain": [
       "<IPython.core.display.HTML object>"
      ]
     },
     "metadata": {},
     "output_type": "display_data"
    },
    {
     "data": {
      "image/png": "[encoded data removed]",
      "text/plain": [
       "<Figure size 720x720 with 1 Axes>"
      ]
     },
     "metadata": {
      "needs_background": "light"
     },
     "output_type": "display_data"
    },
    {
     "data": {
      "text/html": [
       "Finishing last run (ID:2r6y88gf) before initializing another..."
      ],
      "text/plain": [
       "<IPython.core.display.HTML object>"
      ]
     },
     "metadata": {},
     "output_type": "display_data"
    },
    {
     "data": {
      "text/html": [
       "Waiting for W&B process to finish... <strong style=\"color:green\">(success).</strong>"
      ],
      "text/plain": [
       "<IPython.core.display.HTML object>"
      ]
     },
     "metadata": {},
     "output_type": "display_data"
    },
    {
     "data": {
      "application/vnd.jupyter.widget-view+json": {
       "model_id": "",
       "version_major": 2,
       "version_minor": 0
      },
      "text/plain": [
       "VBox(children=(Label(value='0.001 MB of 0.001 MB uploaded (0.000 MB deduped)\\r'), FloatProgress(value=1.0, max…"
      ]
     },
     "metadata": {},
     "output_type": "display_data"
    },
    {
     "data": {
      "text/html": [
       "<style>\n",
       "    table.wandb td:nth-child(1) { padding: 0 10px; text-align: left ; width: auto;} td:nth-child(2) {text-align: left ; width: 100%}\n",
       "    .wandb-row { display: flex; flex-direction: row; flex-wrap: wrap; justify-content: flex-start; width: 100% }\n",
       "    .wandb-col { display: flex; flex-direction: column; flex-basis: 100%; flex: 1; padding: 10px; }\n",
       "    </style>\n",
       "<div class=\"wandb-row\"><div class=\"wandb-col\"><h3>Run history:</h3><br/><table class=\"wandb\"><tr><td>acc_test</td><td>▁▄▅▆▇▆██▇▇▇██▇█▇▇▇█▇███▇█▇▇▇██▇█▇▇██▇██▇</td></tr><tr><td>acc_train</td><td>▁▃▅▆▇▇▇▇▇▇▇▇█▇▇▇▇█▇█▇▇▇▇▇▇█▇▇▇█▇▇▇▇▇▇██▇</td></tr></table><br/></div><div class=\"wandb-col\"><h3>Run summary:</h3><br/><table class=\"wandb\"><tr><td>acc_test</td><td>0.94629</td></tr><tr><td>acc_train</td><td>0.91895</td></tr></table><br/></div></div>"
      ],
      "text/plain": [
       "<IPython.core.display.HTML object>"
      ]
     },
     "metadata": {},
     "output_type": "display_data"
    },
    {
     "data": {
      "text/html": [
       "Synced <strong style=\"color:#cdcd00\">rose-spaceship-104</strong>: <a href=\"https://wandb.ai/williamedwardhahn/Simple_Linear_SGD_Book_2/runs/2r6y88gf\" target=\"_blank\">https://wandb.ai/williamedwardhahn/Simple_Linear_SGD_Book_2/runs/2r6y88gf</a><br/>Synced 4 W&B file(s), 0 media file(s), 0 artifact file(s) and 0 other file(s)"
      ],
      "text/plain": [
       "<IPython.core.display.HTML object>"
      ]
     },
     "metadata": {},
     "output_type": "display_data"
    },
    {
     "data": {
      "text/html": [
       "Find logs at: <code>./wandb/run-20220728_143556-2r6y88gf/logs</code>"
      ],
      "text/plain": [
       "<IPython.core.display.HTML object>"
      ]
     },
     "metadata": {},
     "output_type": "display_data"
    },
    {
     "data": {
      "text/html": [
       "Successfully finished last run (ID:2r6y88gf). Initializing new run:<br/>"
      ],
      "text/plain": [
       "<IPython.core.display.HTML object>"
      ]
     },
     "metadata": {},
     "output_type": "display_data"
    },
    {
     "data": {
      "text/html": [
       "Tracking run with wandb version 0.12.21"
      ],
      "text/plain": [
       "<IPython.core.display.HTML object>"
      ]
     },
     "metadata": {},
     "output_type": "display_data"
    },
    {
     "data": {
      "text/html": [
       "Run data is saved locally in <code>/home/deepzoo/Desktop/HahnAI/wandb/run-20220728_143643-3vcgbyq2</code>"
      ],
      "text/plain": [
       "<IPython.core.display.HTML object>"
      ]
     },
     "metadata": {},
     "output_type": "display_data"
    },
    {
     "data": {
      "text/html": [
       "Syncing run <strong><a href=\"https://wandb.ai/williamedwardhahn/Simple_Linear_SGD_Book_2/runs/3vcgbyq2\" target=\"_blank\">balmy-sound-105</a></strong> to <a href=\"https://wandb.ai/williamedwardhahn/Simple_Linear_SGD_Book_2\" target=\"_blank\">Weights & Biases</a> (<a href=\"https://wandb.me/run\" target=\"_blank\">docs</a>)<br/>"
      ],
      "text/plain": [
       "<IPython.core.display.HTML object>"
      ]
     },
     "metadata": {},
     "output_type": "display_data"
    },
    {
     "data": {
      "image/png": "[encoded data removed]",
      "text/plain": [
       "<Figure size 720x720 with 1 Axes>"
      ]
     },
     "metadata": {
      "needs_background": "light"
     },
     "output_type": "display_data"
    },
    {
     "data": {
      "text/html": [
       "Finishing last run (ID:3vcgbyq2) before initializing another..."
      ],
      "text/plain": [
       "<IPython.core.display.HTML object>"
      ]
     },
     "metadata": {},
     "output_type": "display_data"
    },
    {
     "data": {
      "text/html": [
       "Waiting for W&B process to finish... <strong style=\"color:green\">(success).</strong>"
      ],
      "text/plain": [
       "<IPython.core.display.HTML object>"
      ]
     },
     "metadata": {},
     "output_type": "display_data"
    },
    {
     "data": {
      "application/vnd.jupyter.widget-view+json": {
       "model_id": "",
       "version_major": 2,
       "version_minor": 0
      },
      "text/plain": [
       "VBox(children=(Label(value='0.001 MB of 0.001 MB uploaded (0.000 MB deduped)\\r'), FloatProgress(value=1.0, max…"
      ]
     },
     "metadata": {},
     "output_type": "display_data"
    },
    {
     "data": {
      "text/html": [
       "<style>\n",
       "    table.wandb td:nth-child(1) { padding: 0 10px; text-align: left ; width: auto;} td:nth-child(2) {text-align: left ; width: 100%}\n",
       "    .wandb-row { display: flex; flex-direction: row; flex-wrap: wrap; justify-content: flex-start; width: 100% }\n",
       "    .wandb-col { display: flex; flex-direction: column; flex-basis: 100%; flex: 1; padding: 10px; }\n",
       "    </style>\n",
       "<div class=\"wandb-row\"><div class=\"wandb-col\"><h3>Run history:</h3><br/><table class=\"wandb\"><tr><td>acc_test</td><td>▁▅▇▇▆▆▇▇▆▆▇▆▇▇▆▇▇█▆▆██▆▇█▆▇▇▇▇▆▆▆▇▇▇▇▇█▇</td></tr><tr><td>acc_train</td><td>▁▄▇▇▇▇▇▆▇█▇██▇█▇▇▇▇▇▇▇▇▇▇██▇▇▇█▇▇▇███▇▇█</td></tr></table><br/></div><div class=\"wandb-col\"><h3>Run summary:</h3><br/><table class=\"wandb\"><tr><td>acc_test</td><td>0.875</td></tr><tr><td>acc_train</td><td>0.90723</td></tr></table><br/></div></div>"
      ],
      "text/plain": [
       "<IPython.core.display.HTML object>"
      ]
     },
     "metadata": {},
     "output_type": "display_data"
    },
    {
     "data": {
      "text/html": [
       "Synced <strong style=\"color:#cdcd00\">balmy-sound-105</strong>: <a href=\"https://wandb.ai/williamedwardhahn/Simple_Linear_SGD_Book_2/runs/3vcgbyq2\" target=\"_blank\">https://wandb.ai/williamedwardhahn/Simple_Linear_SGD_Book_2/runs/3vcgbyq2</a><br/>Synced 4 W&B file(s), 0 media file(s), 0 artifact file(s) and 0 other file(s)"
      ],
      "text/plain": [
       "<IPython.core.display.HTML object>"
      ]
     },
     "metadata": {},
     "output_type": "display_data"
    },
    {
     "data": {
      "text/html": [
       "Find logs at: <code>./wandb/run-20220728_143643-3vcgbyq2/logs</code>"
      ],
      "text/plain": [
       "<IPython.core.display.HTML object>"
      ]
     },
     "metadata": {},
     "output_type": "display_data"
    },
    {
     "data": {
      "text/html": [
       "Successfully finished last run (ID:3vcgbyq2). Initializing new run:<br/>"
      ],
      "text/plain": [
       "<IPython.core.display.HTML object>"
      ]
     },
     "metadata": {},
     "output_type": "display_data"
    },
    {
     "data": {
      "text/html": [
       "Tracking run with wandb version 0.12.21"
      ],
      "text/plain": [
       "<IPython.core.display.HTML object>"
      ]
     },
     "metadata": {},
     "output_type": "display_data"
    },
    {
     "data": {
      "text/html": [
       "Run data is saved locally in <code>/home/deepzoo/Desktop/HahnAI/wandb/run-20220728_143734-26k1lwu7</code>"
      ],
      "text/plain": [
       "<IPython.core.display.HTML object>"
      ]
     },
     "metadata": {},
     "output_type": "display_data"
    },
    {
     "data": {
      "text/html": [
       "Syncing run <strong><a href=\"https://wandb.ai/williamedwardhahn/Simple_Linear_SGD_Book_2/runs/26k1lwu7\" target=\"_blank\">fast-armadillo-106</a></strong> to <a href=\"https://wandb.ai/williamedwardhahn/Simple_Linear_SGD_Book_2\" target=\"_blank\">Weights & Biases</a> (<a href=\"https://wandb.me/run\" target=\"_blank\">docs</a>)<br/>"
      ],
      "text/plain": [
       "<IPython.core.display.HTML object>"
      ]
     },
     "metadata": {},
     "output_type": "display_data"
    },
    {
     "data": {
      "image/png": "[encoded data removed]",
      "text/plain": [
       "<Figure size 720x720 with 1 Axes>"
      ]
     },
     "metadata": {
      "needs_background": "light"
     },
     "output_type": "display_data"
    },
    {
     "data": {
      "text/html": [
       "Finishing last run (ID:26k1lwu7) before initializing another..."
      ],
      "text/plain": [
       "<IPython.core.display.HTML object>"
      ]
     },
     "metadata": {},
     "output_type": "display_data"
    },
    {
     "data": {
      "text/html": [
       "Waiting for W&B process to finish... <strong style=\"color:green\">(success).</strong>"
      ],
      "text/plain": [
       "<IPython.core.display.HTML object>"
      ]
     },
     "metadata": {},
     "output_type": "display_data"
    },
    {
     "data": {
      "application/vnd.jupyter.widget-view+json": {
       "model_id": "",
       "version_major": 2,
       "version_minor": 0
      },
      "text/plain": [
       "VBox(children=(Label(value='0.001 MB of 0.001 MB uploaded (0.000 MB deduped)\\r'), FloatProgress(value=1.0, max…"
      ]
     },
     "metadata": {},
     "output_type": "display_data"
    },
    {
     "data": {
      "text/html": [
       "<style>\n",
       "    table.wandb td:nth-child(1) { padding: 0 10px; text-align: left ; width: auto;} td:nth-child(2) {text-align: left ; width: 100%}\n",
       "    .wandb-row { display: flex; flex-direction: row; flex-wrap: wrap; justify-content: flex-start; width: 100% }\n",
       "    .wandb-col { display: flex; flex-direction: column; flex-basis: 100%; flex: 1; padding: 10px; }\n",
       "    </style>\n",
       "<div class=\"wandb-row\"><div class=\"wandb-col\"><h3>Run history:</h3><br/><table class=\"wandb\"><tr><td>acc_test</td><td>▁▄▇▆▇▆▇▇▇▇▆▆█████▇▇█▇███▇▇█▇▇█▇▇█▇▇▇█▇▇█</td></tr><tr><td>acc_train</td><td>▁▄▆▇▆▇▇▇▇▇▇▇▇▇▇▇▇▇▇▇█▇▇▇▇▇█▇██▇▇██▇▇▇█▇▇</td></tr></table><br/></div><div class=\"wandb-col\"><h3>Run summary:</h3><br/><table class=\"wandb\"><tr><td>acc_test</td><td>0.9043</td></tr><tr><td>acc_train</td><td>0.93066</td></tr></table><br/></div></div>"
      ],
      "text/plain": [
       "<IPython.core.display.HTML object>"
      ]
     },
     "metadata": {},
     "output_type": "display_data"
    },
    {
     "data": {
      "text/html": [
       "Synced <strong style=\"color:#cdcd00\">fast-armadillo-106</strong>: <a href=\"https://wandb.ai/williamedwardhahn/Simple_Linear_SGD_Book_2/runs/26k1lwu7\" target=\"_blank\">https://wandb.ai/williamedwardhahn/Simple_Linear_SGD_Book_2/runs/26k1lwu7</a><br/>Synced 4 W&B file(s), 0 media file(s), 0 artifact file(s) and 0 other file(s)"
      ],
      "text/plain": [
       "<IPython.core.display.HTML object>"
      ]
     },
     "metadata": {},
     "output_type": "display_data"
    },
    {
     "data": {
      "text/html": [
       "Find logs at: <code>./wandb/run-20220728_143734-26k1lwu7/logs</code>"
      ],
      "text/plain": [
       "<IPython.core.display.HTML object>"
      ]
     },
     "metadata": {},
     "output_type": "display_data"
    },
    {
     "data": {
      "text/html": [
       "Successfully finished last run (ID:26k1lwu7). Initializing new run:<br/>"
      ],
      "text/plain": [
       "<IPython.core.display.HTML object>"
      ]
     },
     "metadata": {},
     "output_type": "display_data"
    },
    {
     "data": {
      "text/html": [
       "Tracking run with wandb version 0.12.21"
      ],
      "text/plain": [
       "<IPython.core.display.HTML object>"
      ]
     },
     "metadata": {},
     "output_type": "display_data"
    },
    {
     "data": {
      "text/html": [
       "Run data is saved locally in <code>/home/deepzoo/Desktop/HahnAI/wandb/run-20220728_143839-1dbiq386</code>"
      ],
      "text/plain": [
       "<IPython.core.display.HTML object>"
      ]
     },
     "metadata": {},
     "output_type": "display_data"
    },
    {
     "data": {
      "text/html": [
       "Syncing run <strong><a href=\"https://wandb.ai/williamedwardhahn/Simple_Linear_SGD_Book_2/runs/1dbiq386\" target=\"_blank\">graceful-glitter-107</a></strong> to <a href=\"https://wandb.ai/williamedwardhahn/Simple_Linear_SGD_Book_2\" target=\"_blank\">Weights & Biases</a> (<a href=\"https://wandb.me/run\" target=\"_blank\">docs</a>)<br/>"
      ],
      "text/plain": [
       "<IPython.core.display.HTML object>"
      ]
     },
     "metadata": {},
     "output_type": "display_data"
    },
    {
     "ename": "KeyboardInterrupt",
     "evalue": "",
     "output_type": "error",
     "traceback": [
      "\u001b[0;31m---------------------------------------------------------------------------\u001b[0m",
      "\u001b[0;31mKeyboardInterrupt\u001b[0m                         Traceback (most recent call last)",
      "Input \u001b[0;32mIn [95]\u001b[0m, in \u001b[0;36m<cell line: 1>\u001b[0;34m()\u001b[0m\n\u001b[1;32m     12\u001b[0m \u001b[38;5;28;01mfor\u001b[39;00m i \u001b[38;5;129;01min\u001b[39;00m \u001b[38;5;28mrange\u001b[39m(c\u001b[38;5;241m.\u001b[39mepochs):\n\u001b[1;32m     14\u001b[0m     x,y \u001b[38;5;241m=\u001b[39m get_batch(\u001b[38;5;124m'\u001b[39m\u001b[38;5;124mtrain\u001b[39m\u001b[38;5;124m'\u001b[39m)\n\u001b[0;32m---> 16\u001b[0m     out \u001b[38;5;241m=\u001b[39m \u001b[43mmodel\u001b[49m\u001b[43m(\u001b[49m\u001b[43mx\u001b[49m\u001b[43m,\u001b[49m\u001b[43mw\u001b[49m\u001b[43m)\u001b[49m\n\u001b[1;32m     18\u001b[0m     loss \u001b[38;5;241m=\u001b[39m cross_entropy(softmax(out),y)\n\u001b[1;32m     20\u001b[0m     loss\u001b[38;5;241m.\u001b[39mbackward()\n",
      "\u001b[0;31mKeyboardInterrupt\u001b[0m: "
     ]
    }
   ],
   "source": [
    "for run in range(100):\n",
    "\n",
    "    wb.init(project=\"Simple_Linear_SGD_Book_2\");\n",
    "    c = wb.config\n",
    "\n",
    "    c.L = 0.1\n",
    "    c.b = 1024\n",
    "    c.epochs = 10000\n",
    "\n",
    "    w = [CPU(randn_trunc((784,10)))]\n",
    "\n",
    "    for i in range(c.epochs):\n",
    "\n",
    "        x,y = get_batch('train')\n",
    "\n",
    "        out = model(x,w)\n",
    "\n",
    "        loss = cross_entropy(softmax(out),y)\n",
    "\n",
    "        loss.backward()\n",
    "\n",
    "        gradient_step(w)\n",
    "\n",
    "        make_plots()\n",
    "    \n",
    "        if (i+1) % 10000 == 0: montage_plot((w[0].T).reshape(10,28,28).cpu().detach().numpy())"
   ]
  },
  {
   "cell_type": "code",
   "execution_count": 96,
   "metadata": {
    "id": "WANJibeUNghZ"
   },
   "outputs": [
    {
     "data": {
      "text/html": [
       "Finishing last run (ID:1dbiq386) before initializing another..."
      ],
      "text/plain": [
       "<IPython.core.display.HTML object>"
      ]
     },
     "metadata": {},
     "output_type": "display_data"
    },
    {
     "data": {
      "text/html": [
       "Waiting for W&B process to finish... <strong style=\"color:green\">(success).</strong>"
      ],
      "text/plain": [
       "<IPython.core.display.HTML object>"
      ]
     },
     "metadata": {},
     "output_type": "display_data"
    },
    {
     "data": {
      "application/vnd.jupyter.widget-view+json": {
       "model_id": "",
       "version_major": 2,
       "version_minor": 0
      },
      "text/plain": [
       "VBox(children=(Label(value='0.001 MB of 0.001 MB uploaded (0.000 MB deduped)\\r'), FloatProgress(value=1.0, max…"
      ]
     },
     "metadata": {},
     "output_type": "display_data"
    },
    {
     "data": {
      "text/html": [
       "<style>\n",
       "    table.wandb td:nth-child(1) { padding: 0 10px; text-align: left ; width: auto;} td:nth-child(2) {text-align: left ; width: 100%}\n",
       "    .wandb-row { display: flex; flex-direction: row; flex-wrap: wrap; justify-content: flex-start; width: 100% }\n",
       "    .wandb-col { display: flex; flex-direction: column; flex-basis: 100%; flex: 1; padding: 10px; }\n",
       "    </style>\n",
       "<div class=\"wandb-row\"><div class=\"wandb-col\"><h3>Run history:</h3><br/><table class=\"wandb\"><tr><td>acc_test</td><td>▁▃▄▄▅▆▆▅▆▇▇▇▇▇▇▇▇█▆█▇▇█▇▇██▇▇▇██▇▇▇██▇▇▇</td></tr><tr><td>acc_train</td><td>▁▄▄▄▅▆▆▆▆▇▇▇▇▇▇▇▇▇███▇▇█▇▇▇▇▇████▇█▇██▇█</td></tr></table><br/></div><div class=\"wandb-col\"><h3>Run summary:</h3><br/><table class=\"wandb\"><tr><td>acc_test</td><td>0.77051</td></tr><tr><td>acc_train</td><td>0.80273</td></tr></table><br/></div></div>"
      ],
      "text/plain": [
       "<IPython.core.display.HTML object>"
      ]
     },
     "metadata": {},
     "output_type": "display_data"
    },
    {
     "data": {
      "text/html": [
       "Synced <strong style=\"color:#cdcd00\">graceful-glitter-107</strong>: <a href=\"https://wandb.ai/williamedwardhahn/Simple_Linear_SGD_Book_2/runs/1dbiq386\" target=\"_blank\">https://wandb.ai/williamedwardhahn/Simple_Linear_SGD_Book_2/runs/1dbiq386</a><br/>Synced 4 W&B file(s), 0 media file(s), 0 artifact file(s) and 0 other file(s)"
      ],
      "text/plain": [
       "<IPython.core.display.HTML object>"
      ]
     },
     "metadata": {},
     "output_type": "display_data"
    },
    {
     "data": {
      "text/html": [
       "Find logs at: <code>./wandb/run-20220728_143839-1dbiq386/logs</code>"
      ],
      "text/plain": [
       "<IPython.core.display.HTML object>"
      ]
     },
     "metadata": {},
     "output_type": "display_data"
    },
    {
     "data": {
      "text/html": [
       "Successfully finished last run (ID:1dbiq386). Initializing new run:<br/>"
      ],
      "text/plain": [
       "<IPython.core.display.HTML object>"
      ]
     },
     "metadata": {},
     "output_type": "display_data"
    },
    {
     "data": {
      "text/html": [
       "Tracking run with wandb version 0.12.21"
      ],
      "text/plain": [
       "<IPython.core.display.HTML object>"
      ]
     },
     "metadata": {},
     "output_type": "display_data"
    },
    {
     "data": {
      "text/html": [
       "Run data is saved locally in <code>/home/deepzoo/Desktop/HahnAI/wandb/run-20220728_143903-35i1aarg</code>"
      ],
      "text/plain": [
       "<IPython.core.display.HTML object>"
      ]
     },
     "metadata": {},
     "output_type": "display_data"
    },
    {
     "data": {
      "text/html": [
       "Syncing run <strong><a href=\"https://wandb.ai/williamedwardhahn/Simple_Linear_Adam_2/runs/35i1aarg\" target=\"_blank\">ethereal-butterfly-1</a></strong> to <a href=\"https://wandb.ai/williamedwardhahn/Simple_Linear_Adam_2\" target=\"_blank\">Weights & Biases</a> (<a href=\"https://wandb.me/run\" target=\"_blank\">docs</a>)<br/>"
      ],
      "text/plain": [
       "<IPython.core.display.HTML object>"
      ]
     },
     "metadata": {},
     "output_type": "display_data"
    },
    {
     "data": {
      "image/png": "[encoded data removed]",
      "text/plain": [
       "<Figure size 720x720 with 1 Axes>"
      ]
     },
     "metadata": {
      "needs_background": "light"
     },
     "output_type": "display_data"
    },
    {
     "data": {
      "image/png": "[encoded data removed]",
      "text/plain": [
       "<Figure size 720x720 with 1 Axes>"
      ]
     },
     "metadata": {
      "needs_background": "light"
     },
     "output_type": "display_data"
    },
    {
     "data": {
      "image/png": "[encoded data removed]",
      "text/plain": [
       "<Figure size 720x720 with 1 Axes>"
      ]
     },
     "metadata": {
      "needs_background": "light"
     },
     "output_type": "display_data"
    },
    {
     "data": {
      "image/png": "[encoded data removed]",
      "text/plain": [
       "<Figure size 720x720 with 1 Axes>"
      ]
     },
     "metadata": {
      "needs_background": "light"
     },
     "output_type": "display_data"
    },
    {
     "data": {
      "image/png": "[encoded data removed]",
      "text/plain": [
       "<Figure size 720x720 with 1 Axes>"
      ]
     },
     "metadata": {
      "needs_background": "light"
     },
     "output_type": "display_data"
    },
    {
     "data": {
      "image/png": "[encoded data removed]",
      "text/plain": [
       "<Figure size 720x720 with 1 Axes>"
      ]
     },
     "metadata": {
      "needs_background": "light"
     },
     "output_type": "display_data"
    },
    {
     "data": {
      "image/png": "[encoded data removed]",
      "text/plain": [
       "<Figure size 720x720 with 1 Axes>"
      ]
     },
     "metadata": {
      "needs_background": "light"
     },
     "output_type": "display_data"
    },
    {
     "data": {
      "image/png": "[encoded data removed]",
      "text/plain": [
       "<Figure size 720x720 with 1 Axes>"
      ]
     },
     "metadata": {
      "needs_background": "light"
     },
     "output_type": "display_data"
    },
    {
     "ename": "KeyboardInterrupt",
     "evalue": "",
     "output_type": "error",
     "traceback": [
      "\u001b[0;31m---------------------------------------------------------------------------\u001b[0m",
      "\u001b[0;31mKeyboardInterrupt\u001b[0m                         Traceback (most recent call last)",
      "Input \u001b[0;32mIn [96]\u001b[0m, in \u001b[0;36m<cell line: 1>\u001b[0;34m()\u001b[0m\n\u001b[1;32m     14\u001b[0m \u001b[38;5;28;01mfor\u001b[39;00m i \u001b[38;5;129;01min\u001b[39;00m \u001b[38;5;28mrange\u001b[39m(c\u001b[38;5;241m.\u001b[39mepochs):\n\u001b[1;32m     16\u001b[0m     x,y \u001b[38;5;241m=\u001b[39m get_batch(\u001b[38;5;124m'\u001b[39m\u001b[38;5;124mtrain\u001b[39m\u001b[38;5;124m'\u001b[39m)\n\u001b[0;32m---> 18\u001b[0m     loss \u001b[38;5;241m=\u001b[39m cross_entropy(softmax(\u001b[43mmodel\u001b[49m\u001b[43m(\u001b[49m\u001b[43mx\u001b[49m\u001b[43m,\u001b[49m\u001b[43mw\u001b[49m\u001b[43m)\u001b[49m),y)\n\u001b[1;32m     20\u001b[0m     optimizer\u001b[38;5;241m.\u001b[39mzero_grad()\n\u001b[1;32m     21\u001b[0m     loss\u001b[38;5;241m.\u001b[39mbackward()\n",
      "\u001b[0;31mKeyboardInterrupt\u001b[0m: "
     ]
    }
   ],
   "source": [
    "for run in range(100):\n",
    "\n",
    "    wb.init(project=\"Simple_Linear_Adam_2\");\n",
    "    c = wb.config\n",
    "\n",
    "    c.L = 0.01\n",
    "    c.b = 1024\n",
    "    c.epochs = 100000\n",
    "\n",
    "    w = [CPU(randn_trunc((784,10)))]\n",
    "\n",
    "    optimizer = torch.optim.Adam(w, lr=c.L)  \n",
    "\n",
    "    for i in range(c.epochs):\n",
    "\n",
    "        x,y = get_batch('train')\n",
    "\n",
    "        loss = cross_entropy(softmax(model(x,w)),y)\n",
    "\n",
    "        optimizer.zero_grad()\n",
    "        loss.backward()\n",
    "        optimizer.step()\n",
    "    \n",
    "        wb.log({\"loss\": loss})\n",
    "\n",
    "        make_plots()\n",
    "\n",
    "        if i % 10000 == 0 : montage_plot((w[0].T).reshape(10,28,28).cpu().detach().numpy())"
   ]
  }
 ],
 "metadata": {
  "accelerator": "GPU",
  "colab": {
   "collapsed_sections": [
    "aqdMV6v-2o3h",
    "sAMFS1CV6Nr4"
   ],
   "name": "MPCR Bootcamp Book.ipynb",
   "provenance": []
  },
  "kernelspec": {
   "display_name": "Python 3 (ipykernel)",
   "language": "python",
   "name": "python3"
  },
  "language_info": {
   "codemirror_mode": {
    "name": "ipython",
    "version": 3
   },
   "file_extension": ".py",
   "mimetype": "text/x-python",
   "name": "python",
   "nbconvert_exporter": "python",
   "pygments_lexer": "ipython3",
   "version": "3.10.4"
  },
  "widgets": {
   "application/vnd.jupyter.widget-state+json": {
    "0948f7d31d2443438a75a249fd923dc3": {
     "model_module": "@jupyter-widgets/base",
     "model_module_version": "1.2.0",
     "model_name": "LayoutModel",
     "state": {
      "_model_module": "@jupyter-widgets/base",
      "_model_module_version": "1.2.0",
      "_model_name": "LayoutModel",
      "_view_count": null,
      "_view_module": "@jupyter-widgets/base",
      "_view_module_version": "1.2.0",
      "_view_name": "LayoutView",
      "align_content": null,
      "align_items": null,
      "align_self": null,
      "border": null,
      "bottom": null,
      "display": null,
      "flex": null,
      "flex_flow": null,
      "grid_area": null,
      "grid_auto_columns": null,
      "grid_auto_flow": null,
      "grid_auto_rows": null,
      "grid_column": null,
      "grid_gap": null,
      "grid_row": null,
      "grid_template_areas": null,
      "grid_template_columns": null,
      "grid_template_rows": null,
      "height": null,
      "justify_content": null,
      "justify_items": null,
      "left": null,
      "margin": null,
      "max_height": null,
      "max_width": null,
      "min_height": null,
      "min_width": null,
      "object_fit": null,
      "object_position": null,
      "order": null,
      "overflow": null,
      "overflow_x": null,
      "overflow_y": null,
      "padding": null,
      "right": null,
      "top": null,
      "visibility": null,
      "width": null
     }
    },
    "0adb8adecd2f436ca0e26989496d506b": {
     "model_module": "@jupyter-widgets/controls",
     "model_module_version": "1.5.0",
     "model_name": "ProgressStyleModel",
     "state": {
      "_model_module": "@jupyter-widgets/controls",
      "_model_module_version": "1.5.0",
      "_model_name": "ProgressStyleModel",
      "_view_count": null,
      "_view_module": "@jupyter-widgets/base",
      "_view_module_version": "1.2.0",
      "_view_name": "StyleView",
      "bar_color": null,
      "description_width": ""
     }
    },
    "0bfa056c21814945b0f0391b5ab4586e": {
     "model_module": "@jupyter-widgets/base",
     "model_module_version": "1.2.0",
     "model_name": "LayoutModel",
     "state": {
      "_model_module": "@jupyter-widgets/base",
      "_model_module_version": "1.2.0",
      "_model_name": "LayoutModel",
      "_view_count": null,
      "_view_module": "@jupyter-widgets/base",
      "_view_module_version": "1.2.0",
      "_view_name": "LayoutView",
      "align_content": null,
      "align_items": null,
      "align_self": null,
      "border": null,
      "bottom": null,
      "display": null,
      "flex": null,
      "flex_flow": null,
      "grid_area": null,
      "grid_auto_columns": null,
      "grid_auto_flow": null,
      "grid_auto_rows": null,
      "grid_column": null,
      "grid_gap": null,
      "grid_row": null,
      "grid_template_areas": null,
      "grid_template_columns": null,
      "grid_template_rows": null,
      "height": null,
      "justify_content": null,
      "justify_items": null,
      "left": null,
      "margin": null,
      "max_height": null,
      "max_width": null,
      "min_height": null,
      "min_width": null,
      "object_fit": null,
      "object_position": null,
      "order": null,
      "overflow": null,
      "overflow_x": null,
      "overflow_y": null,
      "padding": null,
      "right": null,
      "top": null,
      "visibility": null,
      "width": null
     }
    },
    "0c6a1dda56bf43b0a9067f470ca4fc87": {
     "model_module": "@jupyter-widgets/base",
     "model_module_version": "1.2.0",
     "model_name": "LayoutModel",
     "state": {
      "_model_module": "@jupyter-widgets/base",
      "_model_module_version": "1.2.0",
      "_model_name": "LayoutModel",
      "_view_count": null,
      "_view_module": "@jupyter-widgets/base",
      "_view_module_version": "1.2.0",
      "_view_name": "LayoutView",
      "align_content": null,
      "align_items": null,
      "align_self": null,
      "border": null,
      "bottom": null,
      "display": null,
      "flex": null,
      "flex_flow": null,
      "grid_area": null,
      "grid_auto_columns": null,
      "grid_auto_flow": null,
      "grid_auto_rows": null,
      "grid_column": null,
      "grid_gap": null,
      "grid_row": null,
      "grid_template_areas": null,
      "grid_template_columns": null,
      "grid_template_rows": null,
      "height": null,
      "justify_content": null,
      "justify_items": null,
      "left": null,
      "margin": null,
      "max_height": null,
      "max_width": null,
      "min_height": null,
      "min_width": null,
      "object_fit": null,
      "object_position": null,
      "order": null,
      "overflow": null,
      "overflow_x": null,
      "overflow_y": null,
      "padding": null,
      "right": null,
      "top": null,
      "visibility": null,
      "width": null
     }
    },
    "0c712b356bb746dcae33c69f06c2d2d0": {
     "model_module": "@jupyter-widgets/base",
     "model_module_version": "1.2.0",
     "model_name": "LayoutModel",
     "state": {
      "_model_module": "@jupyter-widgets/base",
      "_model_module_version": "1.2.0",
      "_model_name": "LayoutModel",
      "_view_count": null,
      "_view_module": "@jupyter-widgets/base",
      "_view_module_version": "1.2.0",
      "_view_name": "LayoutView",
      "align_content": null,
      "align_items": null,
      "align_self": null,
      "border": null,
      "bottom": null,
      "display": null,
      "flex": null,
      "flex_flow": null,
      "grid_area": null,
      "grid_auto_columns": null,
      "grid_auto_flow": null,
      "grid_auto_rows": null,
      "grid_column": null,
      "grid_gap": null,
      "grid_row": null,
      "grid_template_areas": null,
      "grid_template_columns": null,
      "grid_template_rows": null,
      "height": null,
      "justify_content": null,
      "justify_items": null,
      "left": null,
      "margin": null,
      "max_height": null,
      "max_width": null,
      "min_height": null,
      "min_width": null,
      "object_fit": null,
      "object_position": null,
      "order": null,
      "overflow": null,
      "overflow_x": null,
      "overflow_y": null,
      "padding": null,
      "right": null,
      "top": null,
      "visibility": null,
      "width": null
     }
    },
    "1187e03ae062437c80629b458ed0bc92": {
     "model_module": "@jupyter-widgets/base",
     "model_module_version": "1.2.0",
     "model_name": "LayoutModel",
     "state": {
      "_model_module": "@jupyter-widgets/base",
      "_model_module_version": "1.2.0",
      "_model_name": "LayoutModel",
      "_view_count": null,
      "_view_module": "@jupyter-widgets/base",
      "_view_module_version": "1.2.0",
      "_view_name": "LayoutView",
      "align_content": null,
      "align_items": null,
      "align_self": null,
      "border": null,
      "bottom": null,
      "display": null,
      "flex": null,
      "flex_flow": null,
      "grid_area": null,
      "grid_auto_columns": null,
      "grid_auto_flow": null,
      "grid_auto_rows": null,
      "grid_column": null,
      "grid_gap": null,
      "grid_row": null,
      "grid_template_areas": null,
      "grid_template_columns": null,
      "grid_template_rows": null,
      "height": null,
      "justify_content": null,
      "justify_items": null,
      "left": null,
      "margin": null,
      "max_height": null,
      "max_width": null,
      "min_height": null,
      "min_width": null,
      "object_fit": null,
      "object_position": null,
      "order": null,
      "overflow": null,
      "overflow_x": null,
      "overflow_y": null,
      "padding": null,
      "right": null,
      "top": null,
      "visibility": null,
      "width": null
     }
    },
    "1f684b942c75456e82fd7109f46eb191": {
     "model_module": "@jupyter-widgets/base",
     "model_module_version": "1.2.0",
     "model_name": "LayoutModel",
     "state": {
      "_model_module": "@jupyter-widgets/base",
      "_model_module_version": "1.2.0",
      "_model_name": "LayoutModel",
      "_view_count": null,
      "_view_module": "@jupyter-widgets/base",
      "_view_module_version": "1.2.0",
      "_view_name": "LayoutView",
      "align_content": null,
      "align_items": null,
      "align_self": null,
      "border": null,
      "bottom": null,
      "display": null,
      "flex": null,
      "flex_flow": null,
      "grid_area": null,
      "grid_auto_columns": null,
      "grid_auto_flow": null,
      "grid_auto_rows": null,
      "grid_column": null,
      "grid_gap": null,
      "grid_row": null,
      "grid_template_areas": null,
      "grid_template_columns": null,
      "grid_template_rows": null,
      "height": null,
      "justify_content": null,
      "justify_items": null,
      "left": null,
      "margin": null,
      "max_height": null,
      "max_width": null,
      "min_height": null,
      "min_width": null,
      "object_fit": null,
      "object_position": null,
      "order": null,
      "overflow": null,
      "overflow_x": null,
      "overflow_y": null,
      "padding": null,
      "right": null,
      "top": null,
      "visibility": null,
      "width": null
     }
    },
    "231bcacb60d34d8ca6616631b7d09198": {
     "model_module": "@jupyter-widgets/controls",
     "model_module_version": "1.5.0",
     "model_name": "FloatProgressModel",
     "state": {
      "_dom_classes": [],
      "_model_module": "@jupyter-widgets/controls",
      "_model_module_version": "1.5.0",
      "_model_name": "FloatProgressModel",
      "_view_count": null,
      "_view_module": "@jupyter-widgets/controls",
      "_view_module_version": "1.5.0",
      "_view_name": "ProgressView",
      "bar_style": "success",
      "description": "",
      "description_tooltip": null,
      "layout": "IPY_MODEL_681f428deb214852b42bc99efd3be3ff",
      "max": 4542,
      "min": 0,
      "orientation": "horizontal",
      "style": "IPY_MODEL_0adb8adecd2f436ca0e26989496d506b",
      "value": 4542
     }
    },
    "283353d44ec943aea16fbce2b9ab4021": {
     "model_module": "@jupyter-widgets/base",
     "model_module_version": "1.2.0",
     "model_name": "LayoutModel",
     "state": {
      "_model_module": "@jupyter-widgets/base",
      "_model_module_version": "1.2.0",
      "_model_name": "LayoutModel",
      "_view_count": null,
      "_view_module": "@jupyter-widgets/base",
      "_view_module_version": "1.2.0",
      "_view_name": "LayoutView",
      "align_content": null,
      "align_items": null,
      "align_self": null,
      "border": null,
      "bottom": null,
      "display": null,
      "flex": null,
      "flex_flow": null,
      "grid_area": null,
      "grid_auto_columns": null,
      "grid_auto_flow": null,
      "grid_auto_rows": null,
      "grid_column": null,
      "grid_gap": null,
      "grid_row": null,
      "grid_template_areas": null,
      "grid_template_columns": null,
      "grid_template_rows": null,
      "height": null,
      "justify_content": null,
      "justify_items": null,
      "left": null,
      "margin": null,
      "max_height": null,
      "max_width": null,
      "min_height": null,
      "min_width": null,
      "object_fit": null,
      "object_position": null,
      "order": null,
      "overflow": null,
      "overflow_x": null,
      "overflow_y": null,
      "padding": null,
      "right": null,
      "top": null,
      "visibility": null,
      "width": null
     }
    },
    "2cb1ad043dd447db9aaeac213799c6f5": {
     "model_module": "@jupyter-widgets/base",
     "model_module_version": "1.2.0",
     "model_name": "LayoutModel",
     "state": {
      "_model_module": "@jupyter-widgets/base",
      "_model_module_version": "1.2.0",
      "_model_name": "LayoutModel",
      "_view_count": null,
      "_view_module": "@jupyter-widgets/base",
      "_view_module_version": "1.2.0",
      "_view_name": "LayoutView",
      "align_content": null,
      "align_items": null,
      "align_self": null,
      "border": null,
      "bottom": null,
      "display": null,
      "flex": null,
      "flex_flow": null,
      "grid_area": null,
      "grid_auto_columns": null,
      "grid_auto_flow": null,
      "grid_auto_rows": null,
      "grid_column": null,
      "grid_gap": null,
      "grid_row": null,
      "grid_template_areas": null,
      "grid_template_columns": null,
      "grid_template_rows": null,
      "height": null,
      "justify_content": null,
      "justify_items": null,
      "left": null,
      "margin": null,
      "max_height": null,
      "max_width": null,
      "min_height": null,
      "min_width": null,
      "object_fit": null,
      "object_position": null,
      "order": null,
      "overflow": null,
      "overflow_x": null,
      "overflow_y": null,
      "padding": null,
      "right": null,
      "top": null,
      "visibility": null,
      "width": null
     }
    },
    "3632c3cd720e4e10a257ada1ce648f2a": {
     "model_module": "@jupyter-widgets/controls",
     "model_module_version": "1.5.0",
     "model_name": "ProgressStyleModel",
     "state": {
      "_model_module": "@jupyter-widgets/controls",
      "_model_module_version": "1.5.0",
      "_model_name": "ProgressStyleModel",
      "_view_count": null,
      "_view_module": "@jupyter-widgets/base",
      "_view_module_version": "1.2.0",
      "_view_name": "StyleView",
      "bar_color": null,
      "description_width": ""
     }
    },
    "42539b87d043401f92dc6b43601b89e8": {
     "model_module": "@jupyter-widgets/controls",
     "model_module_version": "1.5.0",
     "model_name": "HTMLModel",
     "state": {
      "_dom_classes": [],
      "_model_module": "@jupyter-widgets/controls",
      "_model_module_version": "1.5.0",
      "_model_name": "HTMLModel",
      "_view_count": null,
      "_view_module": "@jupyter-widgets/controls",
      "_view_module_version": "1.5.0",
      "_view_name": "HTMLView",
      "description": "",
      "description_tooltip": null,
      "layout": "IPY_MODEL_7c8ab9c641314c91b7a51337dbece5db",
      "placeholder": "​",
      "style": "IPY_MODEL_8fcfc540e7c649758c33462d31224c29",
      "value": " 28881/28881 [00:00&lt;00:00, 711299.30it/s]"
     }
    },
    "428619ec3687490aba5387922614cff0": {
     "model_module": "@jupyter-widgets/controls",
     "model_module_version": "1.5.0",
     "model_name": "FloatProgressModel",
     "state": {
      "_dom_classes": [],
      "_model_module": "@jupyter-widgets/controls",
      "_model_module_version": "1.5.0",
      "_model_name": "FloatProgressModel",
      "_view_count": null,
      "_view_module": "@jupyter-widgets/controls",
      "_view_module_version": "1.5.0",
      "_view_name": "ProgressView",
      "bar_style": "success",
      "description": "",
      "description_tooltip": null,
      "layout": "IPY_MODEL_db657f4281874c30bc4aa591456d9323",
      "max": 28881,
      "min": 0,
      "orientation": "horizontal",
      "style": "IPY_MODEL_3632c3cd720e4e10a257ada1ce648f2a",
      "value": 28881
     }
    },
    "4df1f458d7864054a3977a68b092cffc": {
     "model_module": "@jupyter-widgets/base",
     "model_module_version": "1.2.0",
     "model_name": "LayoutModel",
     "state": {
      "_model_module": "@jupyter-widgets/base",
      "_model_module_version": "1.2.0",
      "_model_name": "LayoutModel",
      "_view_count": null,
      "_view_module": "@jupyter-widgets/base",
      "_view_module_version": "1.2.0",
      "_view_name": "LayoutView",
      "align_content": null,
      "align_items": null,
      "align_self": null,
      "border": null,
      "bottom": null,
      "display": null,
      "flex": null,
      "flex_flow": null,
      "grid_area": null,
      "grid_auto_columns": null,
      "grid_auto_flow": null,
      "grid_auto_rows": null,
      "grid_column": null,
      "grid_gap": null,
      "grid_row": null,
      "grid_template_areas": null,
      "grid_template_columns": null,
      "grid_template_rows": null,
      "height": null,
      "justify_content": null,
      "justify_items": null,
      "left": null,
      "margin": null,
      "max_height": null,
      "max_width": null,
      "min_height": null,
      "min_width": null,
      "object_fit": null,
      "object_position": null,
      "order": null,
      "overflow": null,
      "overflow_x": null,
      "overflow_y": null,
      "padding": null,
      "right": null,
      "top": null,
      "visibility": null,
      "width": null
     }
    },
    "4fd23458319e4116b1409770e89d362a": {
     "model_module": "@jupyter-widgets/controls",
     "model_module_version": "1.5.0",
     "model_name": "ProgressStyleModel",
     "state": {
      "_model_module": "@jupyter-widgets/controls",
      "_model_module_version": "1.5.0",
      "_model_name": "ProgressStyleModel",
      "_view_count": null,
      "_view_module": "@jupyter-widgets/base",
      "_view_module_version": "1.2.0",
      "_view_name": "StyleView",
      "bar_color": null,
      "description_width": ""
     }
    },
    "5a55176582bb400c826b96c2137f74ce": {
     "model_module": "@jupyter-widgets/controls",
     "model_module_version": "1.5.0",
     "model_name": "HTMLModel",
     "state": {
      "_dom_classes": [],
      "_model_module": "@jupyter-widgets/controls",
      "_model_module_version": "1.5.0",
      "_model_name": "HTMLModel",
      "_view_count": null,
      "_view_module": "@jupyter-widgets/controls",
      "_view_module_version": "1.5.0",
      "_view_name": "HTMLView",
      "description": "",
      "description_tooltip": null,
      "layout": "IPY_MODEL_b60642e2ba664bfc8569e924c6ad1200",
      "placeholder": "​",
      "style": "IPY_MODEL_a8040701bc364430ab4b0cda7632a141",
      "value": " 9912422/9912422 [00:00&lt;00:00, 42661019.81it/s]"
     }
    },
    "681f428deb214852b42bc99efd3be3ff": {
     "model_module": "@jupyter-widgets/base",
     "model_module_version": "1.2.0",
     "model_name": "LayoutModel",
     "state": {
      "_model_module": "@jupyter-widgets/base",
      "_model_module_version": "1.2.0",
      "_model_name": "LayoutModel",
      "_view_count": null,
      "_view_module": "@jupyter-widgets/base",
      "_view_module_version": "1.2.0",
      "_view_name": "LayoutView",
      "align_content": null,
      "align_items": null,
      "align_self": null,
      "border": null,
      "bottom": null,
      "display": null,
      "flex": null,
      "flex_flow": null,
      "grid_area": null,
      "grid_auto_columns": null,
      "grid_auto_flow": null,
      "grid_auto_rows": null,
      "grid_column": null,
      "grid_gap": null,
      "grid_row": null,
      "grid_template_areas": null,
      "grid_template_columns": null,
      "grid_template_rows": null,
      "height": null,
      "justify_content": null,
      "justify_items": null,
      "left": null,
      "margin": null,
      "max_height": null,
      "max_width": null,
      "min_height": null,
      "min_width": null,
      "object_fit": null,
      "object_position": null,
      "order": null,
      "overflow": null,
      "overflow_x": null,
      "overflow_y": null,
      "padding": null,
      "right": null,
      "top": null,
      "visibility": null,
      "width": null
     }
    },
    "6cb9acdda6484bfdb2b3c8489e4488de": {
     "model_module": "@jupyter-widgets/controls",
     "model_module_version": "1.5.0",
     "model_name": "HTMLModel",
     "state": {
      "_dom_classes": [],
      "_model_module": "@jupyter-widgets/controls",
      "_model_module_version": "1.5.0",
      "_model_name": "HTMLModel",
      "_view_count": null,
      "_view_module": "@jupyter-widgets/controls",
      "_view_module_version": "1.5.0",
      "_view_name": "HTMLView",
      "description": "",
      "description_tooltip": null,
      "layout": "IPY_MODEL_92308f803af74b5ab74062d000529d27",
      "placeholder": "​",
      "style": "IPY_MODEL_babcf99269d7486982edf2fc0b5cf7d5",
      "value": "100%"
     }
    },
    "6dfd7182111a43d1944b22f45d0a19c0": {
     "model_module": "@jupyter-widgets/controls",
     "model_module_version": "1.5.0",
     "model_name": "HTMLModel",
     "state": {
      "_dom_classes": [],
      "_model_module": "@jupyter-widgets/controls",
      "_model_module_version": "1.5.0",
      "_model_name": "HTMLModel",
      "_view_count": null,
      "_view_module": "@jupyter-widgets/controls",
      "_view_module_version": "1.5.0",
      "_view_name": "HTMLView",
      "description": "",
      "description_tooltip": null,
      "layout": "IPY_MODEL_1f684b942c75456e82fd7109f46eb191",
      "placeholder": "​",
      "style": "IPY_MODEL_8d9b0c20c70d461bb33e55e4575906b4",
      "value": "100%"
     }
    },
    "6f6ab657eb4f404fb2f0be83429ca4c9": {
     "model_module": "@jupyter-widgets/controls",
     "model_module_version": "1.5.0",
     "model_name": "DescriptionStyleModel",
     "state": {
      "_model_module": "@jupyter-widgets/controls",
      "_model_module_version": "1.5.0",
      "_model_name": "DescriptionStyleModel",
      "_view_count": null,
      "_view_module": "@jupyter-widgets/base",
      "_view_module_version": "1.2.0",
      "_view_name": "StyleView",
      "description_width": ""
     }
    },
    "72c6a97d007b450c9c010cd0ed655f18": {
     "model_module": "@jupyter-widgets/controls",
     "model_module_version": "1.5.0",
     "model_name": "ProgressStyleModel",
     "state": {
      "_model_module": "@jupyter-widgets/controls",
      "_model_module_version": "1.5.0",
      "_model_name": "ProgressStyleModel",
      "_view_count": null,
      "_view_module": "@jupyter-widgets/base",
      "_view_module_version": "1.2.0",
      "_view_name": "StyleView",
      "bar_color": null,
      "description_width": ""
     }
    },
    "73a89374cbc44dd4b427a65d9db3bd85": {
     "model_module": "@jupyter-widgets/controls",
     "model_module_version": "1.5.0",
     "model_name": "HTMLModel",
     "state": {
      "_dom_classes": [],
      "_model_module": "@jupyter-widgets/controls",
      "_model_module_version": "1.5.0",
      "_model_name": "HTMLModel",
      "_view_count": null,
      "_view_module": "@jupyter-widgets/controls",
      "_view_module_version": "1.5.0",
      "_view_name": "HTMLView",
      "description": "",
      "description_tooltip": null,
      "layout": "IPY_MODEL_e94384a90b4749b0bb416a2ce3837322",
      "placeholder": "​",
      "style": "IPY_MODEL_6f6ab657eb4f404fb2f0be83429ca4c9",
      "value": "100%"
     }
    },
    "77651612bfdd43cc8c5713efe93646fc": {
     "model_module": "@jupyter-widgets/controls",
     "model_module_version": "1.5.0",
     "model_name": "HBoxModel",
     "state": {
      "_dom_classes": [],
      "_model_module": "@jupyter-widgets/controls",
      "_model_module_version": "1.5.0",
      "_model_name": "HBoxModel",
      "_view_count": null,
      "_view_module": "@jupyter-widgets/controls",
      "_view_module_version": "1.5.0",
      "_view_name": "HBoxView",
      "box_style": "",
      "children": [
       "IPY_MODEL_73a89374cbc44dd4b427a65d9db3bd85",
       "IPY_MODEL_428619ec3687490aba5387922614cff0",
       "IPY_MODEL_42539b87d043401f92dc6b43601b89e8"
      ],
      "layout": "IPY_MODEL_283353d44ec943aea16fbce2b9ab4021"
     }
    },
    "7c8ab9c641314c91b7a51337dbece5db": {
     "model_module": "@jupyter-widgets/base",
     "model_module_version": "1.2.0",
     "model_name": "LayoutModel",
     "state": {
      "_model_module": "@jupyter-widgets/base",
      "_model_module_version": "1.2.0",
      "_model_name": "LayoutModel",
      "_view_count": null,
      "_view_module": "@jupyter-widgets/base",
      "_view_module_version": "1.2.0",
      "_view_name": "LayoutView",
      "align_content": null,
      "align_items": null,
      "align_self": null,
      "border": null,
      "bottom": null,
      "display": null,
      "flex": null,
      "flex_flow": null,
      "grid_area": null,
      "grid_auto_columns": null,
      "grid_auto_flow": null,
      "grid_auto_rows": null,
      "grid_column": null,
      "grid_gap": null,
      "grid_row": null,
      "grid_template_areas": null,
      "grid_template_columns": null,
      "grid_template_rows": null,
      "height": null,
      "justify_content": null,
      "justify_items": null,
      "left": null,
      "margin": null,
      "max_height": null,
      "max_width": null,
      "min_height": null,
      "min_width": null,
      "object_fit": null,
      "object_position": null,
      "order": null,
      "overflow": null,
      "overflow_x": null,
      "overflow_y": null,
      "padding": null,
      "right": null,
      "top": null,
      "visibility": null,
      "width": null
     }
    },
    "8d9b0c20c70d461bb33e55e4575906b4": {
     "model_module": "@jupyter-widgets/controls",
     "model_module_version": "1.5.0",
     "model_name": "DescriptionStyleModel",
     "state": {
      "_model_module": "@jupyter-widgets/controls",
      "_model_module_version": "1.5.0",
      "_model_name": "DescriptionStyleModel",
      "_view_count": null,
      "_view_module": "@jupyter-widgets/base",
      "_view_module_version": "1.2.0",
      "_view_name": "StyleView",
      "description_width": ""
     }
    },
    "8fcfc540e7c649758c33462d31224c29": {
     "model_module": "@jupyter-widgets/controls",
     "model_module_version": "1.5.0",
     "model_name": "DescriptionStyleModel",
     "state": {
      "_model_module": "@jupyter-widgets/controls",
      "_model_module_version": "1.5.0",
      "_model_name": "DescriptionStyleModel",
      "_view_count": null,
      "_view_module": "@jupyter-widgets/base",
      "_view_module_version": "1.2.0",
      "_view_name": "StyleView",
      "description_width": ""
     }
    },
    "92308f803af74b5ab74062d000529d27": {
     "model_module": "@jupyter-widgets/base",
     "model_module_version": "1.2.0",
     "model_name": "LayoutModel",
     "state": {
      "_model_module": "@jupyter-widgets/base",
      "_model_module_version": "1.2.0",
      "_model_name": "LayoutModel",
      "_view_count": null,
      "_view_module": "@jupyter-widgets/base",
      "_view_module_version": "1.2.0",
      "_view_name": "LayoutView",
      "align_content": null,
      "align_items": null,
      "align_self": null,
      "border": null,
      "bottom": null,
      "display": null,
      "flex": null,
      "flex_flow": null,
      "grid_area": null,
      "grid_auto_columns": null,
      "grid_auto_flow": null,
      "grid_auto_rows": null,
      "grid_column": null,
      "grid_gap": null,
      "grid_row": null,
      "grid_template_areas": null,
      "grid_template_columns": null,
      "grid_template_rows": null,
      "height": null,
      "justify_content": null,
      "justify_items": null,
      "left": null,
      "margin": null,
      "max_height": null,
      "max_width": null,
      "min_height": null,
      "min_width": null,
      "object_fit": null,
      "object_position": null,
      "order": null,
      "overflow": null,
      "overflow_x": null,
      "overflow_y": null,
      "padding": null,
      "right": null,
      "top": null,
      "visibility": null,
      "width": null
     }
    },
    "9bcbd31c33034126adeab4464e3ef73d": {
     "model_module": "@jupyter-widgets/controls",
     "model_module_version": "1.5.0",
     "model_name": "DescriptionStyleModel",
     "state": {
      "_model_module": "@jupyter-widgets/controls",
      "_model_module_version": "1.5.0",
      "_model_name": "DescriptionStyleModel",
      "_view_count": null,
      "_view_module": "@jupyter-widgets/base",
      "_view_module_version": "1.2.0",
      "_view_name": "StyleView",
      "description_width": ""
     }
    },
    "a32aef8210804968900721dba6b6d4e9": {
     "model_module": "@jupyter-widgets/base",
     "model_module_version": "1.2.0",
     "model_name": "LayoutModel",
     "state": {
      "_model_module": "@jupyter-widgets/base",
      "_model_module_version": "1.2.0",
      "_model_name": "LayoutModel",
      "_view_count": null,
      "_view_module": "@jupyter-widgets/base",
      "_view_module_version": "1.2.0",
      "_view_name": "LayoutView",
      "align_content": null,
      "align_items": null,
      "align_self": null,
      "border": null,
      "bottom": null,
      "display": null,
      "flex": null,
      "flex_flow": null,
      "grid_area": null,
      "grid_auto_columns": null,
      "grid_auto_flow": null,
      "grid_auto_rows": null,
      "grid_column": null,
      "grid_gap": null,
      "grid_row": null,
      "grid_template_areas": null,
      "grid_template_columns": null,
      "grid_template_rows": null,
      "height": null,
      "justify_content": null,
      "justify_items": null,
      "left": null,
      "margin": null,
      "max_height": null,
      "max_width": null,
      "min_height": null,
      "min_width": null,
      "object_fit": null,
      "object_position": null,
      "order": null,
      "overflow": null,
      "overflow_x": null,
      "overflow_y": null,
      "padding": null,
      "right": null,
      "top": null,
      "visibility": null,
      "width": null
     }
    },
    "a8040701bc364430ab4b0cda7632a141": {
     "model_module": "@jupyter-widgets/controls",
     "model_module_version": "1.5.0",
     "model_name": "DescriptionStyleModel",
     "state": {
      "_model_module": "@jupyter-widgets/controls",
      "_model_module_version": "1.5.0",
      "_model_name": "DescriptionStyleModel",
      "_view_count": null,
      "_view_module": "@jupyter-widgets/base",
      "_view_module_version": "1.2.0",
      "_view_name": "StyleView",
      "description_width": ""
     }
    },
    "b41e163541cc4d9baf18a3f18908deb3": {
     "model_module": "@jupyter-widgets/controls",
     "model_module_version": "1.5.0",
     "model_name": "HBoxModel",
     "state": {
      "_dom_classes": [],
      "_model_module": "@jupyter-widgets/controls",
      "_model_module_version": "1.5.0",
      "_model_name": "HBoxModel",
      "_view_count": null,
      "_view_module": "@jupyter-widgets/controls",
      "_view_module_version": "1.5.0",
      "_view_name": "HBoxView",
      "box_style": "",
      "children": [
       "IPY_MODEL_6cb9acdda6484bfdb2b3c8489e4488de",
       "IPY_MODEL_231bcacb60d34d8ca6616631b7d09198",
       "IPY_MODEL_f0e3f28a1c7641e3bf1f47ad05aa7063"
      ],
      "layout": "IPY_MODEL_0c712b356bb746dcae33c69f06c2d2d0"
     }
    },
    "b5d32061a4f74ca0a604ea2a422b7c05": {
     "model_module": "@jupyter-widgets/controls",
     "model_module_version": "1.5.0",
     "model_name": "FloatProgressModel",
     "state": {
      "_dom_classes": [],
      "_model_module": "@jupyter-widgets/controls",
      "_model_module_version": "1.5.0",
      "_model_name": "FloatProgressModel",
      "_view_count": null,
      "_view_module": "@jupyter-widgets/controls",
      "_view_module_version": "1.5.0",
      "_view_name": "ProgressView",
      "bar_style": "success",
      "description": "",
      "description_tooltip": null,
      "layout": "IPY_MODEL_1187e03ae062437c80629b458ed0bc92",
      "max": 9912422,
      "min": 0,
      "orientation": "horizontal",
      "style": "IPY_MODEL_72c6a97d007b450c9c010cd0ed655f18",
      "value": 9912422
     }
    },
    "b60642e2ba664bfc8569e924c6ad1200": {
     "model_module": "@jupyter-widgets/base",
     "model_module_version": "1.2.0",
     "model_name": "LayoutModel",
     "state": {
      "_model_module": "@jupyter-widgets/base",
      "_model_module_version": "1.2.0",
      "_model_name": "LayoutModel",
      "_view_count": null,
      "_view_module": "@jupyter-widgets/base",
      "_view_module_version": "1.2.0",
      "_view_name": "LayoutView",
      "align_content": null,
      "align_items": null,
      "align_self": null,
      "border": null,
      "bottom": null,
      "display": null,
      "flex": null,
      "flex_flow": null,
      "grid_area": null,
      "grid_auto_columns": null,
      "grid_auto_flow": null,
      "grid_auto_rows": null,
      "grid_column": null,
      "grid_gap": null,
      "grid_row": null,
      "grid_template_areas": null,
      "grid_template_columns": null,
      "grid_template_rows": null,
      "height": null,
      "justify_content": null,
      "justify_items": null,
      "left": null,
      "margin": null,
      "max_height": null,
      "max_width": null,
      "min_height": null,
      "min_width": null,
      "object_fit": null,
      "object_position": null,
      "order": null,
      "overflow": null,
      "overflow_x": null,
      "overflow_y": null,
      "padding": null,
      "right": null,
      "top": null,
      "visibility": null,
      "width": null
     }
    },
    "babcf99269d7486982edf2fc0b5cf7d5": {
     "model_module": "@jupyter-widgets/controls",
     "model_module_version": "1.5.0",
     "model_name": "DescriptionStyleModel",
     "state": {
      "_model_module": "@jupyter-widgets/controls",
      "_model_module_version": "1.5.0",
      "_model_name": "DescriptionStyleModel",
      "_view_count": null,
      "_view_module": "@jupyter-widgets/base",
      "_view_module_version": "1.2.0",
      "_view_name": "StyleView",
      "description_width": ""
     }
    },
    "c223000b0ee845c0b4e3441358ea4bf6": {
     "model_module": "@jupyter-widgets/controls",
     "model_module_version": "1.5.0",
     "model_name": "DescriptionStyleModel",
     "state": {
      "_model_module": "@jupyter-widgets/controls",
      "_model_module_version": "1.5.0",
      "_model_name": "DescriptionStyleModel",
      "_view_count": null,
      "_view_module": "@jupyter-widgets/base",
      "_view_module_version": "1.2.0",
      "_view_name": "StyleView",
      "description_width": ""
     }
    },
    "d8a864b8fdea4a7d976f70b9a5822e31": {
     "model_module": "@jupyter-widgets/controls",
     "model_module_version": "1.5.0",
     "model_name": "DescriptionStyleModel",
     "state": {
      "_model_module": "@jupyter-widgets/controls",
      "_model_module_version": "1.5.0",
      "_model_name": "DescriptionStyleModel",
      "_view_count": null,
      "_view_module": "@jupyter-widgets/base",
      "_view_module_version": "1.2.0",
      "_view_name": "StyleView",
      "description_width": ""
     }
    },
    "db657f4281874c30bc4aa591456d9323": {
     "model_module": "@jupyter-widgets/base",
     "model_module_version": "1.2.0",
     "model_name": "LayoutModel",
     "state": {
      "_model_module": "@jupyter-widgets/base",
      "_model_module_version": "1.2.0",
      "_model_name": "LayoutModel",
      "_view_count": null,
      "_view_module": "@jupyter-widgets/base",
      "_view_module_version": "1.2.0",
      "_view_name": "LayoutView",
      "align_content": null,
      "align_items": null,
      "align_self": null,
      "border": null,
      "bottom": null,
      "display": null,
      "flex": null,
      "flex_flow": null,
      "grid_area": null,
      "grid_auto_columns": null,
      "grid_auto_flow": null,
      "grid_auto_rows": null,
      "grid_column": null,
      "grid_gap": null,
      "grid_row": null,
      "grid_template_areas": null,
      "grid_template_columns": null,
      "grid_template_rows": null,
      "height": null,
      "justify_content": null,
      "justify_items": null,
      "left": null,
      "margin": null,
      "max_height": null,
      "max_width": null,
      "min_height": null,
      "min_width": null,
      "object_fit": null,
      "object_position": null,
      "order": null,
      "overflow": null,
      "overflow_x": null,
      "overflow_y": null,
      "padding": null,
      "right": null,
      "top": null,
      "visibility": null,
      "width": null
     }
    },
    "e2c8f7a549c6489694bb88a3f5fd76de": {
     "model_module": "@jupyter-widgets/controls",
     "model_module_version": "1.5.0",
     "model_name": "HBoxModel",
     "state": {
      "_dom_classes": [],
      "_model_module": "@jupyter-widgets/controls",
      "_model_module_version": "1.5.0",
      "_model_name": "HBoxModel",
      "_view_count": null,
      "_view_module": "@jupyter-widgets/controls",
      "_view_module_version": "1.5.0",
      "_view_name": "HBoxView",
      "box_style": "",
      "children": [
       "IPY_MODEL_6dfd7182111a43d1944b22f45d0a19c0",
       "IPY_MODEL_f920dd2fa90445a58cadd0e380ae4e9f",
       "IPY_MODEL_e32a296eaaef40aaa975d075b4a7f23e"
      ],
      "layout": "IPY_MODEL_0bfa056c21814945b0f0391b5ab4586e"
     }
    },
    "e32a296eaaef40aaa975d075b4a7f23e": {
     "model_module": "@jupyter-widgets/controls",
     "model_module_version": "1.5.0",
     "model_name": "HTMLModel",
     "state": {
      "_dom_classes": [],
      "_model_module": "@jupyter-widgets/controls",
      "_model_module_version": "1.5.0",
      "_model_name": "HTMLModel",
      "_view_count": null,
      "_view_module": "@jupyter-widgets/controls",
      "_view_module_version": "1.5.0",
      "_view_name": "HTMLView",
      "description": "",
      "description_tooltip": null,
      "layout": "IPY_MODEL_2cb1ad043dd447db9aaeac213799c6f5",
      "placeholder": "​",
      "style": "IPY_MODEL_9bcbd31c33034126adeab4464e3ef73d",
      "value": " 1648877/1648877 [00:00&lt;00:00, 10471288.57it/s]"
     }
    },
    "e3492771442d4f51987a1110cb9c597c": {
     "model_module": "@jupyter-widgets/controls",
     "model_module_version": "1.5.0",
     "model_name": "HBoxModel",
     "state": {
      "_dom_classes": [],
      "_model_module": "@jupyter-widgets/controls",
      "_model_module_version": "1.5.0",
      "_model_name": "HBoxModel",
      "_view_count": null,
      "_view_module": "@jupyter-widgets/controls",
      "_view_module_version": "1.5.0",
      "_view_name": "HBoxView",
      "box_style": "",
      "children": [
       "IPY_MODEL_fbe84bcf07124584b546b9502e8d94b6",
       "IPY_MODEL_b5d32061a4f74ca0a604ea2a422b7c05",
       "IPY_MODEL_5a55176582bb400c826b96c2137f74ce"
      ],
      "layout": "IPY_MODEL_0c6a1dda56bf43b0a9067f470ca4fc87"
     }
    },
    "e94384a90b4749b0bb416a2ce3837322": {
     "model_module": "@jupyter-widgets/base",
     "model_module_version": "1.2.0",
     "model_name": "LayoutModel",
     "state": {
      "_model_module": "@jupyter-widgets/base",
      "_model_module_version": "1.2.0",
      "_model_name": "LayoutModel",
      "_view_count": null,
      "_view_module": "@jupyter-widgets/base",
      "_view_module_version": "1.2.0",
      "_view_name": "LayoutView",
      "align_content": null,
      "align_items": null,
      "align_self": null,
      "border": null,
      "bottom": null,
      "display": null,
      "flex": null,
      "flex_flow": null,
      "grid_area": null,
      "grid_auto_columns": null,
      "grid_auto_flow": null,
      "grid_auto_rows": null,
      "grid_column": null,
      "grid_gap": null,
      "grid_row": null,
      "grid_template_areas": null,
      "grid_template_columns": null,
      "grid_template_rows": null,
      "height": null,
      "justify_content": null,
      "justify_items": null,
      "left": null,
      "margin": null,
      "max_height": null,
      "max_width": null,
      "min_height": null,
      "min_width": null,
      "object_fit": null,
      "object_position": null,
      "order": null,
      "overflow": null,
      "overflow_x": null,
      "overflow_y": null,
      "padding": null,
      "right": null,
      "top": null,
      "visibility": null,
      "width": null
     }
    },
    "f0e3f28a1c7641e3bf1f47ad05aa7063": {
     "model_module": "@jupyter-widgets/controls",
     "model_module_version": "1.5.0",
     "model_name": "HTMLModel",
     "state": {
      "_dom_classes": [],
      "_model_module": "@jupyter-widgets/controls",
      "_model_module_version": "1.5.0",
      "_model_name": "HTMLModel",
      "_view_count": null,
      "_view_module": "@jupyter-widgets/controls",
      "_view_module_version": "1.5.0",
      "_view_name": "HTMLView",
      "description": "",
      "description_tooltip": null,
      "layout": "IPY_MODEL_a32aef8210804968900721dba6b6d4e9",
      "placeholder": "​",
      "style": "IPY_MODEL_c223000b0ee845c0b4e3441358ea4bf6",
      "value": " 4542/4542 [00:00&lt;00:00, 115578.23it/s]"
     }
    },
    "f920dd2fa90445a58cadd0e380ae4e9f": {
     "model_module": "@jupyter-widgets/controls",
     "model_module_version": "1.5.0",
     "model_name": "FloatProgressModel",
     "state": {
      "_dom_classes": [],
      "_model_module": "@jupyter-widgets/controls",
      "_model_module_version": "1.5.0",
      "_model_name": "FloatProgressModel",
      "_view_count": null,
      "_view_module": "@jupyter-widgets/controls",
      "_view_module_version": "1.5.0",
      "_view_name": "ProgressView",
      "bar_style": "success",
      "description": "",
      "description_tooltip": null,
      "layout": "IPY_MODEL_4df1f458d7864054a3977a68b092cffc",
      "max": 1648877,
      "min": 0,
      "orientation": "horizontal",
      "style": "IPY_MODEL_4fd23458319e4116b1409770e89d362a",
      "value": 1648877
     }
    },
    "fbe84bcf07124584b546b9502e8d94b6": {
     "model_module": "@jupyter-widgets/controls",
     "model_module_version": "1.5.0",
     "model_name": "HTMLModel",
     "state": {
      "_dom_classes": [],
      "_model_module": "@jupyter-widgets/controls",
      "_model_module_version": "1.5.0",
      "_model_name": "HTMLModel",
      "_view_count": null,
      "_view_module": "@jupyter-widgets/controls",
      "_view_module_version": "1.5.0",
      "_view_name": "HTMLView",
      "description": "",
      "description_tooltip": null,
      "layout": "IPY_MODEL_0948f7d31d2443438a75a249fd923dc3",
      "placeholder": "​",
      "style": "IPY_MODEL_d8a864b8fdea4a7d976f70b9a5822e31",
      "value": "100%"
     }
    }
   }
  }
 },
 "nbformat": 4,
 "nbformat_minor": 1
}
