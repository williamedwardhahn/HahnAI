{
 "cells": [
  {
   "cell_type": "markdown",
   "metadata": {
    "id": "PQsLStfxfRrO"
   },
   "source": [
    "## Setup"
   ]
  },
  {
   "cell_type": "code",
   "execution_count": 37,
   "metadata": {
    "id": "JOZmZPKPUjdV"
   },
   "outputs": [],
   "source": []
  },
  {
   "cell_type": "markdown",
   "metadata": {
    "id": "imuIDUkvUjqt"
   },
   "source": [
    "https://towardsdatascience.com/understanding-binary-cross-entropy-log-loss-a-visual-explanation-a3ac6025181a"
   ]
  },
  {
   "cell_type": "markdown",
   "metadata": {
    "id": "X2noEVRFmHTi"
   },
   "source": [
    "### Imports"
   ]
  },
  {
   "cell_type": "code",
   "execution_count": 1,
   "metadata": {
    "id": "aGu2hYn5VgKS"
   },
   "outputs": [],
   "source": [
    "import numpy as np\n",
    "import matplotlib.pyplot as plt\n",
    "import urllib.request\n",
    "from PIL import Image\n",
    "from imageio import *\n",
    "import torch\n",
    "from skimage.transform import resize\n",
    "from mpl_toolkits.axes_grid1.axes_rgb import make_rgb_axes, RGBAxes\n",
    "from torchvision.models import *\n",
    "from torchvision.datasets import MNIST,KMNIST,FashionMNIST\n",
    "from skimage.util import montage"
   ]
  },
  {
   "cell_type": "code",
   "execution_count": 2,
   "metadata": {
    "colab": {
     "base_uri": "https://localhost:8080/"
    },
    "id": "O1xRGxv7AfoZ",
    "outputId": "079459c6-1389-4656-9d23-5d8bcab496a9"
   },
   "outputs": [
    {
     "name": "stdout",
     "output_type": "stream",
     "text": [
      "Defaulting to user installation because normal site-packages is not writeable\n",
      "Collecting wandb\n",
      "  Downloading wandb-0.12.21-py2.py3-none-any.whl (1.8 MB)\n",
      "\u001b[2K     \u001b[38;2;114;156;31m━━━━━━━━━━━━━━━━━━━━━━━━━━━━━━━━━━━━━━━━\u001b[0m \u001b[32m1.8/1.8 MB\u001b[0m \u001b[31m7.8 MB/s\u001b[0m eta \u001b[36m0:00:00\u001b[0mm eta \u001b[36m0:00:01\u001b[0m0:01\u001b[0m\n",
      "\u001b[?25hCollecting shortuuid>=0.5.0\n",
      "  Downloading shortuuid-1.0.9-py3-none-any.whl (9.4 kB)\n",
      "Collecting promise<3,>=2.0\n",
      "  Downloading promise-2.3.tar.gz (19 kB)\n",
      "  Preparing metadata (setup.py) ... \u001b[?25ldone\n",
      "\u001b[?25hCollecting docker-pycreds>=0.4.0\n",
      "  Downloading docker_pycreds-0.4.0-py2.py3-none-any.whl (9.0 kB)\n",
      "Requirement already satisfied: protobuf<4.0dev,>=3.12.0 in /usr/lib/python3/dist-packages (from wandb) (3.12.4)\n",
      "Collecting pathtools\n",
      "  Downloading pathtools-0.1.2.tar.gz (11 kB)\n",
      "  Preparing metadata (setup.py) ... \u001b[?25ldone\n",
      "\u001b[?25hRequirement already satisfied: requests<3,>=2.0.0 in /usr/lib/python3/dist-packages (from wandb) (2.25.1)\n",
      "Collecting sentry-sdk>=1.0.0\n",
      "  Downloading sentry_sdk-1.9.0-py2.py3-none-any.whl (156 kB)\n",
      "\u001b[2K     \u001b[38;2;114;156;31m━━━━━━━━━━━━━━━━━━━━━━━━━━━━━━━━━━━━━━\u001b[0m \u001b[32m156.6/156.6 kB\u001b[0m \u001b[31m24.9 MB/s\u001b[0m eta \u001b[36m0:00:00\u001b[0m\n",
      "\u001b[?25hRequirement already satisfied: six>=1.13.0 in /usr/lib/python3/dist-packages (from wandb) (1.16.0)\n",
      "Requirement already satisfied: GitPython>=1.0.0 in /home/deepzoo/.local/lib/python3.10/site-packages (from wandb) (3.1.27)\n",
      "Requirement already satisfied: psutil>=5.0.0 in /home/deepzoo/.local/lib/python3.10/site-packages (from wandb) (5.9.1)\n",
      "Requirement already satisfied: setuptools in /home/deepzoo/.local/lib/python3.10/site-packages (from wandb) (45.0.0)\n",
      "Collecting setproctitle\n",
      "  Downloading setproctitle-1.3.0-cp310-cp310-manylinux_2_5_x86_64.manylinux1_x86_64.manylinux_2_17_x86_64.manylinux2014_x86_64.whl (30 kB)\n",
      "Requirement already satisfied: Click!=8.0.0,>=7.0 in /usr/lib/python3/dist-packages (from wandb) (8.0.3)\n",
      "Requirement already satisfied: PyYAML in /usr/lib/python3/dist-packages (from wandb) (5.4.1)\n",
      "Requirement already satisfied: gitdb<5,>=4.0.1 in /home/deepzoo/.local/lib/python3.10/site-packages (from GitPython>=1.0.0->wandb) (4.0.9)\n",
      "Requirement already satisfied: certifi in /home/deepzoo/.local/lib/python3.10/site-packages (from sentry-sdk>=1.0.0->wandb) (2022.6.15)\n",
      "Requirement already satisfied: urllib3>=1.10.0 in /usr/lib/python3/dist-packages (from sentry-sdk>=1.0.0->wandb) (1.26.5)\n",
      "Requirement already satisfied: smmap<6,>=3.0.1 in /home/deepzoo/.local/lib/python3.10/site-packages (from gitdb<5,>=4.0.1->GitPython>=1.0.0->wandb) (5.0.0)\n",
      "Building wheels for collected packages: promise, pathtools\n",
      "  Building wheel for promise (setup.py) ... \u001b[?25ldone\n",
      "\u001b[?25h  Created wheel for promise: filename=promise-2.3-py3-none-any.whl size=21494 sha256=33406cb21cc6f6a680b2428672ef3057557b4059b1e747325ae5b1d93b6e64d2\n",
      "  Stored in directory: /home/deepzoo/.cache/pip/wheels/54/4e/28/3ed0e1c8a752867445bab994d2340724928aa3ab059c57c8db\n",
      "  Building wheel for pathtools (setup.py) ... \u001b[?25ldone\n",
      "\u001b[?25h  Created wheel for pathtools: filename=pathtools-0.1.2-py3-none-any.whl size=8785 sha256=32b3229bbe7767fac2eb54773a920d255ef3f40b97c73c89eaae43f19b3c0a7e\n",
      "  Stored in directory: /home/deepzoo/.cache/pip/wheels/e7/f3/22/152153d6eb222ee7a56ff8617d80ee5207207a8c00a7aab794\n",
      "Successfully built promise pathtools\n",
      "Installing collected packages: pathtools, shortuuid, setproctitle, sentry-sdk, promise, docker-pycreds, wandb\n",
      "Successfully installed docker-pycreds-0.4.0 pathtools-0.1.2 promise-2.3 sentry-sdk-1.9.0 setproctitle-1.3.0 shortuuid-1.0.9 wandb-0.12.21\n"
     ]
    }
   ],
   "source": [
    "!pip install wandb\n",
    "import wandb as wb"
   ]
  },
  {
   "cell_type": "code",
   "execution_count": 6,
   "metadata": {
    "id": "49UyUZ7KoHKG"
   },
   "outputs": [],
   "source": [
    "# import os\n",
    "# import sys\n",
    "# import time\n",
    "# import copy\n",
    "# import json\n",
    "# import pylab\n",
    "# \n",
    "# import random\n",
    "# import imageio\n",
    "# import requests\n",
    "# import subprocess\n",
    "# import torchvision\n",
    "\n",
    "# import pandas as pd\n",
    "# import seaborn as sns\n",
    "# \n",
    "# from torchvision.models import *\n",
    "# import torch.nn as nn\n",
    "# \n",
    "# from scipy import stats\n",
    "# from torch import matmul\n",
    "# import torchvision.utils\n",
    "# from scipy import signal\n",
    "# from bisect import bisect\n",
    "# import torch.optim as optim\n",
    "# from skimage import io as io\n",
    "# from numpy import linalg as LA\n",
    "# from google.colab import drive\n",
    "# from torchvision import models\n",
    "# from skimage import io as skio\n",
    "# import torch.nn.functional as F\n",
    "# \n",
    "# from torchvision.models import *\n",
    "# from torchsummary import summary\n",
    "# \n",
    "# from torch.nn.functional import *\n",
    "# from random import random, randint\n",
    "# from torchvision import transforms\n",
    "# from torch.autograd import Variable\n",
    "# from torch.optim import lr_scheduler\n",
    "# \n",
    "# from sklearn.decomposition import PCA\n",
    "# from torchvision.datasets import MNIST\n",
    "# from mpl_toolkits.mplot3d import Axes3D\n",
    "# from torch.utils.data import DataLoader\n",
    "# from torchvision.utils import save_image\n",
    "# from sklearn.metrics import roc_auc_score\n",
    "# from torchvision import models, transforms\n",
    "# from urllib.request import Request, urlopen\n",
    "# import torchvision.transforms as transforms\n",
    "# from torchvision import datasets, transforms\n",
    "# from sklearn.metrics import confusion_matrix\n",
    "# from torch.utils.data import Dataset, DataLoader\n",
    "# from torchvision import datasets, models, transforms\n",
    "# from sklearn.linear_model import LogisticRegression as LR\n",
    "# \n",
    "# from torch.utils.data import DataLoader, TensorDataset, random_split\n",
    "# from torchvision.transforms.functional import normalize\n",
    "\n",
    "\n",
    "\n",
    "\n",
    "\n",
    "\n",
    "\n",
    "def plot(x):\n",
    "    if type(x) == torch.Tensor :\n",
    "        x = x.cpu().detach().numpy()\n",
    "\n",
    "    fig, ax = plt.subplots()\n",
    "    im = ax.imshow(x, cmap = 'gray')\n",
    "    ax.axis('off')\n",
    "    fig.set_size_inches(5, 5)\n",
    "    plt.show()\n",
    "\n",
    "def montage_plot(x):\n",
    "    x = np.pad(x, pad_width=((0, 0), (1, 1), (1, 1)), mode='constant', constant_values=0)\n",
    "    plot(montage(x))\n",
    "\n",
    "def GPU(data):\n",
    "    return torch.tensor(data, requires_grad=True, dtype=torch.float, device=torch.device('cuda'))\n",
    "\n",
    "def GPU_data(data):\n",
    "    return torch.tensor(data, requires_grad=False, dtype=torch.float, device=torch.device('cuda'))\n",
    "    \n",
    "def one_hot(y):\n",
    "    y2 = GPU_data(torch.zeros((y.shape[0],10)))\n",
    "    for i in range(y.shape[0]):\n",
    "        y2[i,int(y[i])] = 1\n",
    "    return y2\n",
    "\n",
    "\n",
    "\n",
    "def softmax(x):\n",
    "    s1 = torch.exp(x - torch.max(x,1)[0][:,None])\n",
    "    s = s1 / s1.sum(1)[:,None]\n",
    "    return s\n",
    "\n",
    "\n",
    "\n",
    "def cross_entropy(outputs, labels):            \n",
    "    return -torch.sum(softmax(outputs).log()[range(outputs.size()[0]), labels.long()])/outputs.size()[0]  \n",
    "\n",
    "\n",
    "\n",
    "def randn_trunc(s): #Truncated Normal Random Numbers\n",
    "    mu = 0 \n",
    "    sigma = 0.1\n",
    "    R = stats.truncnorm((-2*sigma - mu) / sigma, (2*sigma - mu) / sigma, loc=mu, scale=sigma)\n",
    "    return R.rvs(s)\n",
    "\n",
    "\n",
    "def acc(out,y):\n",
    "    with torch.no_grad():\n",
    "        return (torch.sum(torch.max(out,1)[1] == y).item())/y.shape[0]\n",
    "\n",
    "\n",
    "\n",
    "\n",
    "def GPU(data):\n",
    "    return torch.tensor(data, requires_grad=True, dtype=torch.float, device=torch.device('cuda'))\n",
    "\n",
    "def GPU_data(data):\n",
    "    return torch.tensor(data, requires_grad=False, dtype=torch.float, device=torch.device('cuda'))\n",
    "\n",
    "\n",
    "def CPU(data):\n",
    "    return torch.tensor(data, requires_grad=True, dtype=torch.float, device=torch.device('cpu'))\n",
    "\n",
    "def CPU_data(data):\n",
    "    return torch.tensor(data, requires_grad=False, dtype=torch.float, device=torch.device('cpu'))\n",
    "\n",
    "\n",
    "\n",
    "\n",
    "\n",
    "def plot(x):\n",
    "    if type(x) == torch.Tensor :\n",
    "        x = x.cpu().detach().numpy()\n",
    "\n",
    "    fig, ax = plt.subplots()\n",
    "    im = ax.imshow(x, cmap = 'gray')\n",
    "    ax.axis('off')\n",
    "    fig.set_size_inches(10, 10)\n",
    "    plt.show()\n",
    "    \n",
    "    \n",
    "def montage_plot(x):\n",
    "    x = np.pad(x, pad_width=((0, 0), (1, 1), (1, 1)), mode='constant', constant_values=0)\n",
    "    plot(montage(x))    \n",
    "\n",
    "\n",
    "def get_batch(mode):\n",
    "    b = c.b\n",
    "    if mode == \"train\":\n",
    "        r = np.random.randint(X.shape[0]-b) \n",
    "        x = X[r:r+b,:,:,:]\n",
    "        y = Y[r:r+b]\n",
    "    elif mode == \"test\":\n",
    "        r = np.random.randint(X_test.shape[0]-b)\n",
    "        x = X_test[r:r+b,:,:,:]\n",
    "        y = Y_test[r:r+b]\n",
    "    return x,y\n",
    "\n",
    "\n",
    "\n",
    "def vizvec(x): \n",
    "\n",
    "    fig, ax = plt.subplots()\n",
    "\n",
    "    min_val, max_val = 0, 15\n",
    "\n",
    "    ax.matshow(x, cmap=plt.cm.Blues)\n",
    "    \n",
    "    plt.axis('off')\n",
    "\n",
    "    for i in range(x.shape[0]):\n",
    "        for j in range(x.shape[1]):\n",
    "            c = x[i,j]\n",
    "            ax.text(j, i, str(c), va='center', ha='center')\n",
    "\n",
    "\n",
    "def gradient_step(w):\n",
    "\n",
    "    for j in range(len(w)): \n",
    "\n",
    "            w[j].data = w[j].data - c.h*w[j].grad.data\n",
    "            \n",
    "            w[j].grad.data.zero_()\n",
    "\n",
    "\n",
    "def make_plots():\n",
    "    \n",
    "    acc_train = acc(model(x,w),y)\n",
    "    \n",
    "    xt,yt = get_batch('test')\n",
    "\n",
    "    acc_test = acc(model(xt,w),yt)\n",
    "\n",
    "    wb.log({\"acc_train\": acc_train, \"acc_test\": acc_test})\n",
    "    \n",
    "    "
   ]
  },
  {
   "cell_type": "code",
   "execution_count": 24,
   "metadata": {
    "id": "NZaGcRW6Igar"
   },
   "outputs": [],
   "source": [
    "b = 1000\n",
    "\n",
    "def get_batch(mode):\n",
    "    if mode == \"train\":\n",
    "        r = np.random.randint(X.shape[0]-b) \n",
    "        x = X[r:r+b,:]\n",
    "        y = Y[r:r+b]\n",
    "    elif mode == \"test\":\n",
    "        r = np.random.randint(X_test.shape[0]-b)\n",
    "        x = X_test[r:r+b,:]\n",
    "        y = Y_test[r:r+b]\n",
    "    return x,y"
   ]
  },
  {
   "cell_type": "code",
   "execution_count": 25,
   "metadata": {
    "colab": {
     "base_uri": "https://localhost:8080/",
     "height": 64
    },
    "id": "2BBc8BsVRuFg",
    "outputId": "64f1d952-72ca-4fb4-b7dd-c689d4d9d704"
   },
   "outputs": [
    {
     "data": {
      "image/png": "[encoded data removed]",
      "text/plain": [
       "<Figure size 432x288 with 1 Axes>"
      ]
     },
     "metadata": {
      "needs_background": "light"
     },
     "output_type": "display_data"
    }
   ],
   "source": [
    "x = np.random.randint(0, 255, size=(1, 10))\n",
    "vizvec(x)"
   ]
  },
  {
   "cell_type": "code",
   "execution_count": 26,
   "metadata": {
    "colab": {
     "base_uri": "https://localhost:8080/",
     "height": 248
    },
    "id": "04c3mTPjSIBD",
    "outputId": "f0b7b7da-b788-4448-f16f-0d43d573a270"
   },
   "outputs": [
    {
     "data": {
      "image/png": "[encoded data removed]",
      "text/plain": [
       "<Figure size 432x288 with 1 Axes>"
      ]
     },
     "metadata": {
      "needs_background": "light"
     },
     "output_type": "display_data"
    }
   ],
   "source": [
    "x = np.random.randint(0, 255, size=(3, 3))\n",
    "vizvec(x)"
   ]
  },
  {
   "cell_type": "code",
   "execution_count": 27,
   "metadata": {
    "colab": {
     "base_uri": "https://localhost:8080/",
     "height": 248
    },
    "id": "aBQ2WEAKSIC7",
    "outputId": "b0cb4c97-e3c6-4031-be79-4269af527bcc"
   },
   "outputs": [
    {
     "data": {
      "image/png": "[encoded data removed]",
      "text/plain": [
       "<Figure size 432x288 with 1 Axes>"
      ]
     },
     "metadata": {
      "needs_background": "light"
     },
     "output_type": "display_data"
    }
   ],
   "source": [
    "x = np.random.randint(0, 255, size=(10, 1))\n",
    "vizvec(x)"
   ]
  },
  {
   "cell_type": "code",
   "execution_count": 28,
   "metadata": {
    "colab": {
     "base_uri": "https://localhost:8080/",
     "height": 64
    },
    "id": "2xcHh6EZSIJr",
    "outputId": "a48431c0-5a4e-4231-f6e2-b1220d9bde33"
   },
   "outputs": [
    {
     "data": {
      "image/png": "[encoded data removed]",
      "text/plain": [
       "<Figure size 432x288 with 1 Axes>"
      ]
     },
     "metadata": {
      "needs_background": "light"
     },
     "output_type": "display_data"
    }
   ],
   "source": [
    "x = np.random.randint(0, 255, size=(1, 10))\n",
    "vizvec(x)"
   ]
  },
  {
   "cell_type": "markdown",
   "metadata": {
    "id": "gkw9kmV4NyRo"
   },
   "source": [
    "\n",
    "## MNIST\n",
    "    "
   ]
  },
  {
   "cell_type": "markdown",
   "metadata": {
    "id": "Dc8TF76WPY1e"
   },
   "source": [
    "### Load Data"
   ]
  },
  {
   "cell_type": "code",
   "execution_count": 29,
   "metadata": {
    "colab": {
     "base_uri": "https://localhost:8080/",
     "height": 437,
     "referenced_widgets": [
      "e3492771442d4f51987a1110cb9c597c",
      "fbe84bcf07124584b546b9502e8d94b6",
      "b5d32061a4f74ca0a604ea2a422b7c05",
      "5a55176582bb400c826b96c2137f74ce",
      "0c6a1dda56bf43b0a9067f470ca4fc87",
      "0948f7d31d2443438a75a249fd923dc3",
      "d8a864b8fdea4a7d976f70b9a5822e31",
      "1187e03ae062437c80629b458ed0bc92",
      "72c6a97d007b450c9c010cd0ed655f18",
      "b60642e2ba664bfc8569e924c6ad1200",
      "a8040701bc364430ab4b0cda7632a141",
      "77651612bfdd43cc8c5713efe93646fc",
      "73a89374cbc44dd4b427a65d9db3bd85",
      "428619ec3687490aba5387922614cff0",
      "42539b87d043401f92dc6b43601b89e8",
      "283353d44ec943aea16fbce2b9ab4021",
      "e94384a90b4749b0bb416a2ce3837322",
      "6f6ab657eb4f404fb2f0be83429ca4c9",
      "db657f4281874c30bc4aa591456d9323",
      "3632c3cd720e4e10a257ada1ce648f2a",
      "7c8ab9c641314c91b7a51337dbece5db",
      "8fcfc540e7c649758c33462d31224c29",
      "e2c8f7a549c6489694bb88a3f5fd76de",
      "6dfd7182111a43d1944b22f45d0a19c0",
      "f920dd2fa90445a58cadd0e380ae4e9f",
      "e32a296eaaef40aaa975d075b4a7f23e",
      "0bfa056c21814945b0f0391b5ab4586e",
      "1f684b942c75456e82fd7109f46eb191",
      "8d9b0c20c70d461bb33e55e4575906b4",
      "4df1f458d7864054a3977a68b092cffc",
      "4fd23458319e4116b1409770e89d362a",
      "2cb1ad043dd447db9aaeac213799c6f5",
      "9bcbd31c33034126adeab4464e3ef73d",
      "b41e163541cc4d9baf18a3f18908deb3",
      "6cb9acdda6484bfdb2b3c8489e4488de",
      "231bcacb60d34d8ca6616631b7d09198",
      "f0e3f28a1c7641e3bf1f47ad05aa7063",
      "0c712b356bb746dcae33c69f06c2d2d0",
      "92308f803af74b5ab74062d000529d27",
      "babcf99269d7486982edf2fc0b5cf7d5",
      "681f428deb214852b42bc99efd3be3ff",
      "0adb8adecd2f436ca0e26989496d506b",
      "a32aef8210804968900721dba6b6d4e9",
      "c223000b0ee845c0b4e3441358ea4bf6"
     ]
    },
    "id": "mm7ZMYrVEdMX",
    "outputId": "8cc65104-9042-4919-b48b-ad769366ffcb"
   },
   "outputs": [
    {
     "name": "stdout",
     "output_type": "stream",
     "text": [
      "Downloading http://yann.lecun.com/exdb/mnist/train-images-idx3-ubyte.gz\n",
      "Downloading http://yann.lecun.com/exdb/mnist/train-images-idx3-ubyte.gz to ./data/MNIST/raw/train-images-idx3-ubyte.gz\n"
     ]
    },
    {
     "data": {
      "application/vnd.jupyter.widget-view+json": {
       "model_id": "e3492771442d4f51987a1110cb9c597c",
       "version_major": 2,
       "version_minor": 0
      },
      "text/plain": [
       "  0%|          | 0/9912422 [00:00<?, ?it/s]"
      ]
     },
     "metadata": {},
     "output_type": "display_data"
    },
    {
     "name": "stdout",
     "output_type": "stream",
     "text": [
      "Extracting ./data/MNIST/raw/train-images-idx3-ubyte.gz to ./data/MNIST/raw\n",
      "\n",
      "Downloading http://yann.lecun.com/exdb/mnist/train-labels-idx1-ubyte.gz\n",
      "Downloading http://yann.lecun.com/exdb/mnist/train-labels-idx1-ubyte.gz to ./data/MNIST/raw/train-labels-idx1-ubyte.gz\n"
     ]
    },
    {
     "data": {
      "application/vnd.jupyter.widget-view+json": {
       "model_id": "77651612bfdd43cc8c5713efe93646fc",
       "version_major": 2,
       "version_minor": 0
      },
      "text/plain": [
       "  0%|          | 0/28881 [00:00<?, ?it/s]"
      ]
     },
     "metadata": {},
     "output_type": "display_data"
    },
    {
     "name": "stdout",
     "output_type": "stream",
     "text": [
      "Extracting ./data/MNIST/raw/train-labels-idx1-ubyte.gz to ./data/MNIST/raw\n",
      "\n",
      "Downloading http://yann.lecun.com/exdb/mnist/t10k-images-idx3-ubyte.gz\n",
      "Downloading http://yann.lecun.com/exdb/mnist/t10k-images-idx3-ubyte.gz to ./data/MNIST/raw/t10k-images-idx3-ubyte.gz\n"
     ]
    },
    {
     "data": {
      "application/vnd.jupyter.widget-view+json": {
       "model_id": "e2c8f7a549c6489694bb88a3f5fd76de",
       "version_major": 2,
       "version_minor": 0
      },
      "text/plain": [
       "  0%|          | 0/1648877 [00:00<?, ?it/s]"
      ]
     },
     "metadata": {},
     "output_type": "display_data"
    },
    {
     "name": "stdout",
     "output_type": "stream",
     "text": [
      "Extracting ./data/MNIST/raw/t10k-images-idx3-ubyte.gz to ./data/MNIST/raw\n",
      "\n",
      "Downloading http://yann.lecun.com/exdb/mnist/t10k-labels-idx1-ubyte.gz\n",
      "Downloading http://yann.lecun.com/exdb/mnist/t10k-labels-idx1-ubyte.gz to ./data/MNIST/raw/t10k-labels-idx1-ubyte.gz\n"
     ]
    },
    {
     "data": {
      "application/vnd.jupyter.widget-view+json": {
       "model_id": "b41e163541cc4d9baf18a3f18908deb3",
       "version_major": 2,
       "version_minor": 0
      },
      "text/plain": [
       "  0%|          | 0/4542 [00:00<?, ?it/s]"
      ]
     },
     "metadata": {},
     "output_type": "display_data"
    },
    {
     "name": "stdout",
     "output_type": "stream",
     "text": [
      "Extracting ./data/MNIST/raw/t10k-labels-idx1-ubyte.gz to ./data/MNIST/raw\n",
      "\n"
     ]
    }
   ],
   "source": [
    "# #MNIST\n",
    "train_set = MNIST('./data', train=True, download=True)\n",
    "test_set  = MNIST('./data', train=False, download=True)\n",
    "\n",
    "#KMNIST\n",
    "# train_set = KMNIST('./data', train=True, download=True)\n",
    "# test_set =  KMNIST('./data', train=False, download=True)\n",
    "\n",
    "# Fashion MNIST\n",
    "# train_set = FashionMNIST('./data', train=True, download=True)\n",
    "# test_set =  FashionMNIST('./data', train=False, download=True)"
   ]
  },
  {
   "cell_type": "code",
   "execution_count": 30,
   "metadata": {
    "id": "Ols0HivADS6a"
   },
   "outputs": [],
   "source": [
    "X = train_set.data.numpy()\n",
    "X_test = test_set.data.numpy()\n",
    "Y = train_set.targets.numpy()\n",
    "Y_test = test_set.targets.numpy()\n",
    "\n",
    "X = X[:,None,:,:]/255\n",
    "X_test = X_test[:,None,:,:]/255"
   ]
  },
  {
   "cell_type": "code",
   "execution_count": 31,
   "metadata": {
    "colab": {
     "base_uri": "https://localhost:8080/"
    },
    "id": "gfAjr0UBjgfs",
    "outputId": "7bf3eb63-dfb6-4854-d645-7fe30611cdc8"
   },
   "outputs": [
    {
     "data": {
      "text/plain": [
       "(60000, 1, 28, 28)"
      ]
     },
     "execution_count": 31,
     "metadata": {},
     "output_type": "execute_result"
    }
   ],
   "source": [
    "X.shape"
   ]
  },
  {
   "cell_type": "code",
   "execution_count": 32,
   "metadata": {
    "colab": {
     "base_uri": "https://localhost:8080/",
     "height": 575
    },
    "id": "Ye809_jCAAxr",
    "outputId": "daf3d56c-d46f-49c4-b1bd-00857b0149bb"
   },
   "outputs": [
    {
     "data": {
      "image/png": "[encoded data removed]",
      "text/plain": [
       "<Figure size 720x720 with 1 Axes>"
      ]
     },
     "metadata": {
      "needs_background": "light"
     },
     "output_type": "display_data"
    }
   ],
   "source": [
    "plot(X[100,0,:,:])"
   ]
  },
  {
   "cell_type": "code",
   "execution_count": 33,
   "metadata": {
    "colab": {
     "base_uri": "https://localhost:8080/"
    },
    "id": "evX7gb0YBzpe",
    "outputId": "f4f6447e-26eb-45c8-c9fa-de059f8bf710"
   },
   "outputs": [
    {
     "data": {
      "text/plain": [
       "5"
      ]
     },
     "execution_count": 33,
     "metadata": {},
     "output_type": "execute_result"
    }
   ],
   "source": [
    "Y[100]"
   ]
  },
  {
   "cell_type": "code",
   "execution_count": 34,
   "metadata": {
    "colab": {
     "base_uri": "https://localhost:8080/"
    },
    "id": "b1ExpQONSaC_",
    "outputId": "134b7a4b-30b6-49b5-aa39-90bd1fbb9bbe"
   },
   "outputs": [
    {
     "data": {
      "text/plain": [
       "(25, 28, 28)"
      ]
     },
     "execution_count": 34,
     "metadata": {},
     "output_type": "execute_result"
    }
   ],
   "source": [
    "X[0:25,0,:,:].shape"
   ]
  },
  {
   "cell_type": "code",
   "execution_count": 35,
   "metadata": {
    "colab": {
     "base_uri": "https://localhost:8080/",
     "height": 575
    },
    "id": "CHoMXjA6pWoa",
    "outputId": "ce335b2a-54c2-464f-97bd-ba0206ac20f4"
   },
   "outputs": [
    {
     "data": {
      "image/png": "[encoded data removed]",
      "text/plain": [
       "<Figure size 720x720 with 1 Axes>"
      ]
     },
     "metadata": {
      "needs_background": "light"
     },
     "output_type": "display_data"
    }
   ],
   "source": [
    "montage_plot(X[125:150,0,:,:])"
   ]
  },
  {
   "cell_type": "code",
   "execution_count": 36,
   "metadata": {
    "colab": {
     "base_uri": "https://localhost:8080/"
    },
    "id": "fQPM_KQpD7Qd",
    "outputId": "f9197e04-cca3-4a90-94e8-9ea3ebfa4414"
   },
   "outputs": [
    {
     "data": {
      "text/plain": [
       "60000"
      ]
     },
     "execution_count": 36,
     "metadata": {},
     "output_type": "execute_result"
    }
   ],
   "source": [
    "X.shape[0]"
   ]
  },
  {
   "cell_type": "code",
   "execution_count": 37,
   "metadata": {
    "colab": {
     "base_uri": "https://localhost:8080/"
    },
    "id": "QFqBciL5EPgM",
    "outputId": "1d619719-acdf-4ef0-f082-a7a58ae803e1"
   },
   "outputs": [
    {
     "data": {
      "text/plain": [
       "(10000, 1, 28, 28)"
      ]
     },
     "execution_count": 37,
     "metadata": {},
     "output_type": "execute_result"
    }
   ],
   "source": [
    "X_test.shape"
   ]
  },
  {
   "cell_type": "code",
   "execution_count": 38,
   "metadata": {
    "colab": {
     "base_uri": "https://localhost:8080/"
    },
    "id": "_eAq9FpWES_1",
    "outputId": "c75e6e39-cfa3-45e9-e88b-753548980690"
   },
   "outputs": [
    {
     "data": {
      "text/plain": [
       "60000"
      ]
     },
     "execution_count": 38,
     "metadata": {},
     "output_type": "execute_result"
    }
   ],
   "source": [
    "X.shape[0]"
   ]
  },
  {
   "cell_type": "code",
   "execution_count": 39,
   "metadata": {
    "colab": {
     "base_uri": "https://localhost:8080/"
    },
    "id": "zjqCYVv7EX1d",
    "outputId": "6bac1d84-d0a7-44bd-f0ba-0286af30e549"
   },
   "outputs": [
    {
     "data": {
      "text/plain": [
       "10000"
      ]
     },
     "execution_count": 39,
     "metadata": {},
     "output_type": "execute_result"
    }
   ],
   "source": [
    "X_test.shape[0]"
   ]
  },
  {
   "cell_type": "code",
   "execution_count": 42,
   "metadata": {
    "id": "zBt4rsdIefV_"
   },
   "outputs": [],
   "source": [
    "# X = GPU_data(X)\n",
    "# Y = GPU_data(Y)\n",
    "# X_test = GPU_data(X_test)\n",
    "# Y_test = GPU_data(Y_test)"
   ]
  },
  {
   "cell_type": "code",
   "execution_count": 43,
   "metadata": {
    "id": "qd6QY2wJ3DPk"
   },
   "outputs": [],
   "source": [
    "X = X.reshape(X.shape[0],784)\n",
    "X_test = X_test.reshape(X_test.shape[0],784)"
   ]
  },
  {
   "cell_type": "markdown",
   "metadata": {
    "id": "aqdMV6v-2o3h"
   },
   "source": [
    "\n",
    "### Classifier\n"
   ]
  },
  {
   "cell_type": "code",
   "execution_count": 44,
   "metadata": {
    "id": "OqMKS4LqeBzy"
   },
   "outputs": [],
   "source": [
    "x,y = get_batch('train')"
   ]
  },
  {
   "cell_type": "code",
   "execution_count": 45,
   "metadata": {
    "colab": {
     "base_uri": "https://localhost:8080/"
    },
    "id": "NvewlRZCeB20",
    "outputId": "05dbeeba-3d74-47c0-db27-9890ca2c9b70"
   },
   "outputs": [
    {
     "data": {
      "text/plain": [
       "(1000, 784)"
      ]
     },
     "execution_count": 45,
     "metadata": {},
     "output_type": "execute_result"
    }
   ],
   "source": [
    "x.shape"
   ]
  },
  {
   "cell_type": "code",
   "execution_count": 46,
   "metadata": {
    "colab": {
     "base_uri": "https://localhost:8080/",
     "height": 575
    },
    "id": "Dfywj66KFh8Y",
    "outputId": "1ede591b-1724-42d6-b0a4-87b9ef8db20b"
   },
   "outputs": [
    {
     "data": {
      "image/png": "[encoded data removed]",
      "text/plain": [
       "<Figure size 720x720 with 1 Axes>"
      ]
     },
     "metadata": {
      "needs_background": "light"
     },
     "output_type": "display_data"
    }
   ],
   "source": [
    "plot(x[0].reshape(28,28))"
   ]
  },
  {
   "cell_type": "code",
   "execution_count": 47,
   "metadata": {
    "colab": {
     "base_uri": "https://localhost:8080/",
     "height": 575
    },
    "id": "ZsAhw-64HNJX",
    "outputId": "9a04358f-a2ae-4101-845c-3c7561065e27"
   },
   "outputs": [
    {
     "data": {
      "image/png": "[encoded data removed]",
      "text/plain": [
       "<Figure size 720x720 with 1 Axes>"
      ]
     },
     "metadata": {
      "needs_background": "light"
     },
     "output_type": "display_data"
    }
   ],
   "source": [
    "plot(x[1].reshape(28,28))"
   ]
  },
  {
   "cell_type": "code",
   "execution_count": 48,
   "metadata": {
    "colab": {
     "base_uri": "https://localhost:8080/",
     "height": 575
    },
    "id": "JfIkv97VHRaH",
    "outputId": "431cc710-2593-46c4-e18c-c72c3de65181"
   },
   "outputs": [
    {
     "data": {
      "image/png": "[encoded data removed]",
      "text/plain": [
       "<Figure size 720x720 with 1 Axes>"
      ]
     },
     "metadata": {
      "needs_background": "light"
     },
     "output_type": "display_data"
    }
   ],
   "source": [
    "plot(x[2].reshape(28,28))"
   ]
  },
  {
   "cell_type": "code",
   "execution_count": 49,
   "metadata": {
    "colab": {
     "base_uri": "https://localhost:8080/"
    },
    "id": "hTYYsbmzGZzq",
    "outputId": "cd062651-e586-48fa-9c35-47f15e34bfd8"
   },
   "outputs": [
    {
     "data": {
      "text/plain": [
       "array([9, 3, 3, 1, 7, 7, 1, 4, 0, 7])"
      ]
     },
     "execution_count": 49,
     "metadata": {},
     "output_type": "execute_result"
    }
   ],
   "source": [
    "y[:10]"
   ]
  },
  {
   "cell_type": "code",
   "execution_count": 3,
   "metadata": {
    "id": "G1MmJuRKC20Q"
   },
   "outputs": [
    {
     "ename": "NameError",
     "evalue": "name 'CPU' is not defined",
     "output_type": "error",
     "traceback": [
      "\u001b[0;31m---------------------------------------------------------------------------\u001b[0m",
      "\u001b[0;31mNameError\u001b[0m                                 Traceback (most recent call last)",
      "Input \u001b[0;32mIn [3]\u001b[0m, in \u001b[0;36m<cell line: 1>\u001b[0;34m()\u001b[0m\n\u001b[0;32m----> 1\u001b[0m W \u001b[38;5;241m=\u001b[39m \u001b[43mCPU\u001b[49m(np\u001b[38;5;241m.\u001b[39mrandom\u001b[38;5;241m.\u001b[39mrandn(\u001b[38;5;241m784\u001b[39m,\u001b[38;5;241m10\u001b[39m))\n",
      "\u001b[0;31mNameError\u001b[0m: name 'CPU' is not defined"
     ]
    }
   ],
   "source": [
    "W = CPU(np.random.randn(784,10))"
   ]
  },
  {
   "cell_type": "code",
   "execution_count": null,
   "metadata": {
    "id": "xNugjEScFiCC"
   },
   "outputs": [],
   "source": [
    "x.shape, W.shape"
   ]
  },
  {
   "cell_type": "code",
   "execution_count": null,
   "metadata": {
    "id": "2fKhesUrFrYo"
   },
   "outputs": [],
   "source": [
    "torch.matmul(x,W).shape"
   ]
  },
  {
   "cell_type": "code",
   "execution_count": null,
   "metadata": {
    "id": "vXUJJil7VyS_"
   },
   "outputs": [],
   "source": [
    "(x@W).shape"
   ]
  },
  {
   "cell_type": "code",
   "execution_count": null,
   "metadata": {
    "id": "CCUIYKR-Il3c"
   },
   "outputs": [],
   "source": [
    "%%timeit\n",
    "x@W"
   ]
  },
  {
   "cell_type": "code",
   "execution_count": null,
   "metadata": {
    "id": "GlQwtdaSeB5S"
   },
   "outputs": [],
   "source": [
    "x@W"
   ]
  },
  {
   "cell_type": "code",
   "execution_count": null,
   "metadata": {
    "id": "E2hgdUkmeB8W"
   },
   "outputs": [],
   "source": [
    "y2 = x@W "
   ]
  },
  {
   "cell_type": "code",
   "execution_count": null,
   "metadata": {
    "id": "ZdZImnZFGeT6"
   },
   "outputs": [],
   "source": [
    "plot(y2)"
   ]
  },
  {
   "cell_type": "code",
   "execution_count": null,
   "metadata": {
    "id": "eQSssyK-GoB2"
   },
   "outputs": [],
   "source": [
    "y"
   ]
  },
  {
   "cell_type": "code",
   "execution_count": null,
   "metadata": {
    "id": "asy5jw0oy_F7"
   },
   "outputs": [],
   "source": [
    "y.shape"
   ]
  },
  {
   "cell_type": "code",
   "execution_count": null,
   "metadata": {
    "id": "BEgs4-skzhTC"
   },
   "outputs": [],
   "source": [
    "def one_hot(y):\n",
    "    y2 = GPU_data(torch.zeros((y.shape[0],10)))\n",
    "    for i in range(y.shape[0]):\n",
    "        y2[i,int(y[i])] = 1\n",
    "    return y2"
   ]
  },
  {
   "cell_type": "code",
   "execution_count": null,
   "metadata": {
    "id": "EB2kNOUHGpIw"
   },
   "outputs": [],
   "source": [
    "one_hot(y)"
   ]
  },
  {
   "cell_type": "code",
   "execution_count": null,
   "metadata": {
    "id": "v91JZyTQeCMp"
   },
   "outputs": [],
   "source": [
    "torch.argmax(y2,1)"
   ]
  },
  {
   "cell_type": "code",
   "execution_count": null,
   "metadata": {
    "id": "0hfl1lKrguTg"
   },
   "outputs": [],
   "source": [
    "torch.sum(y == torch.argmax(y2,1))/b"
   ]
  },
  {
   "cell_type": "code",
   "execution_count": null,
   "metadata": {
    "id": "xz7Ea13HwarC"
   },
   "outputs": [],
   "source": [
    "X.shape"
   ]
  },
  {
   "cell_type": "code",
   "execution_count": null,
   "metadata": {
    "id": "FNP2ahywwatJ"
   },
   "outputs": [],
   "source": [
    "X@W"
   ]
  },
  {
   "cell_type": "code",
   "execution_count": null,
   "metadata": {
    "id": "WbGDRj7BwavA"
   },
   "outputs": [],
   "source": [
    "torch.argmax(X@W,1)"
   ]
  },
  {
   "cell_type": "code",
   "execution_count": null,
   "metadata": {
    "id": "EXTb4Y4ywaw3"
   },
   "outputs": [],
   "source": [
    "Y"
   ]
  },
  {
   "cell_type": "code",
   "execution_count": null,
   "metadata": {
    "id": "h_w3ksHVjQwu"
   },
   "outputs": [],
   "source": [
    "torch.sum(torch.argmax(X@W,1) == Y)/60000"
   ]
  },
  {
   "cell_type": "code",
   "execution_count": null,
   "metadata": {
    "id": "n6RKfzVLnOTD"
   },
   "outputs": [],
   "source": [
    "X@W"
   ]
  },
  {
   "cell_type": "code",
   "execution_count": null,
   "metadata": {
    "id": "GpOVv7nInOUw"
   },
   "outputs": [],
   "source": [
    "W.shape"
   ]
  },
  {
   "cell_type": "code",
   "execution_count": null,
   "metadata": {
    "id": "IRq_ouBUnOWx"
   },
   "outputs": [],
   "source": [
    "W[:,0].shape"
   ]
  },
  {
   "cell_type": "code",
   "execution_count": null,
   "metadata": {
    "id": "uYWJulTHnOa1"
   },
   "outputs": [],
   "source": [
    "plot(W[:,0].reshape(28,28))"
   ]
  },
  {
   "cell_type": "code",
   "execution_count": null,
   "metadata": {
    "id": "tupFwuSZnOk9"
   },
   "outputs": [],
   "source": [
    "plot(W[:,2].reshape(28,28))"
   ]
  },
  {
   "cell_type": "code",
   "execution_count": null,
   "metadata": {
    "id": "Wvvy6MrAkC5Z"
   },
   "outputs": [],
   "source": [
    "W.shape"
   ]
  },
  {
   "cell_type": "code",
   "execution_count": null,
   "metadata": {
    "id": "MCrJ9cNPkC76"
   },
   "outputs": [],
   "source": [
    "(W.T).shape"
   ]
  },
  {
   "cell_type": "code",
   "execution_count": null,
   "metadata": {
    "id": "wAkEKB2_jQyy"
   },
   "outputs": [],
   "source": [
    "montage_plot((W.T).reshape(10,28,28).cpu().detach().numpy())"
   ]
  },
  {
   "cell_type": "code",
   "execution_count": null,
   "metadata": {
    "id": "m4BlYG-CgC2z"
   },
   "outputs": [],
   "source": [
    "def softmax(x):\n",
    "    s1 = torch.exp(x - torch.max(x,1)[0][:,None])\n",
    "    s = s1 / s1.sum(1)[:,None]\n",
    "    return s"
   ]
  },
  {
   "cell_type": "code",
   "execution_count": null,
   "metadata": {
    "id": "XZ-UV8W_c_9o"
   },
   "outputs": [],
   "source": [
    "def cross_entropy(outputs, labels):            \n",
    "    return -torch.sum(softmax(outputs).log()[range(outputs.size()[0]), labels.long()])/outputs.size()[0]  "
   ]
  },
  {
   "cell_type": "code",
   "execution_count": null,
   "metadata": {
    "id": "LW3ttVcq1sI9"
   },
   "outputs": [],
   "source": [
    "def acc(out,y):\n",
    "    return (torch.sum(torch.max(out,1)[1] == y).item())/y.shape[0]"
   ]
  },
  {
   "cell_type": "code",
   "execution_count": null,
   "metadata": {
    "id": "x79Sie8XKPOC"
   },
   "outputs": [],
   "source": [
    "def get_batch(mode):\n",
    "    b = c.b\n",
    "    if mode == \"train\":\n",
    "        r = np.random.randint(X.shape[0]-b) \n",
    "        x = X[r:r+b,:]\n",
    "        y = Y[r:r+b]\n",
    "    elif mode == \"test\":\n",
    "        r = np.random.randint(X_test.shape[0]-b)\n",
    "        x = X_test[r:r+b,:]\n",
    "        y = Y_test[r:r+b]\n",
    "    return x,y"
   ]
  },
  {
   "cell_type": "code",
   "execution_count": null,
   "metadata": {
    "id": "vXOr9aM8A8P-"
   },
   "outputs": [],
   "source": [
    "def model(x,w):\n",
    "\n",
    "    return x@w[0]"
   ]
  },
  {
   "cell_type": "code",
   "execution_count": null,
   "metadata": {
    "id": "-k6j0lacnYYk"
   },
   "outputs": [],
   "source": [
    "def gradient_step(w):\n",
    "\n",
    "    w[0].data = w[0].data - c.L*w[0].grad.data\n",
    "    \n",
    "    w[0].grad.data.zero_()"
   ]
  },
  {
   "cell_type": "code",
   "execution_count": null,
   "metadata": {
    "id": "uzRsuDek9Fve"
   },
   "outputs": [],
   "source": [
    "def make_plots():\n",
    "    \n",
    "    acc_train = acc(model(x,w),y)\n",
    "    \n",
    "    xt,yt = get_batch('test')\n",
    "\n",
    "    acc_test = acc(model(xt,w),yt)\n",
    "\n",
    "    wb.log({\"acc_train\": acc_train, \"acc_test\": acc_test})"
   ]
  },
  {
   "cell_type": "code",
   "execution_count": null,
   "metadata": {
    "id": "v_6a6qnKA7zP"
   },
   "outputs": [],
   "source": [
    "for run in range(100):\n",
    "\n",
    "    wb.init(project=\"Simple_Linear_SGD_Book_2\");\n",
    "    c = wb.config\n",
    "\n",
    "    c.L = 0.1\n",
    "    c.b = 1024\n",
    "    c.epochs = 10000\n",
    "\n",
    "    w = [GPU(randn_trunc((784,10)))]\n",
    "\n",
    "    for i in range(c.epochs):\n",
    "\n",
    "        x,y = get_batch('train')\n",
    "\n",
    "        out = model(x,w)\n",
    "\n",
    "        loss = cross_entropy(softmax(out),y)\n",
    "\n",
    "        loss.backward()\n",
    "\n",
    "        gradient_step(w)\n",
    "\n",
    "        make_plots()\n",
    "    \n",
    "        if (i+1) % 10000 == 0: montage_plot((w[0].T).reshape(10,28,28).cpu().detach().numpy())"
   ]
  },
  {
   "cell_type": "code",
   "execution_count": null,
   "metadata": {
    "id": "WANJibeUNghZ"
   },
   "outputs": [],
   "source": [
    "for run in range(100):\n",
    "\n",
    "    wb.init(project=\"Simple_Linear_Adam_2\");\n",
    "    c = wb.config\n",
    "\n",
    "    c.L = 0.01\n",
    "    c.b = 1024\n",
    "    c.epochs = 100000\n",
    "\n",
    "    w = [GPU(randn_trunc((784,10)))]\n",
    "\n",
    "    optimizer = torch.optim.Adam(w, lr=c.L)  \n",
    "\n",
    "    for i in range(c.epochs):\n",
    "\n",
    "        x,y = get_batch('train')\n",
    "\n",
    "        loss = cross_entropy(softmax(model(x,w)),y)\n",
    "\n",
    "        optimizer.zero_grad()\n",
    "        loss.backward()\n",
    "        optimizer.step()\n",
    "    \n",
    "        wb.log({\"loss\": loss})\n",
    "\n",
    "        make_plots()\n",
    "\n",
    "        if i % 10000 == 0 : montage_plot((w[0].T).reshape(10,28,28).cpu().detach().numpy())"
   ]
  },
  {
   "cell_type": "markdown",
   "metadata": {
    "id": "MMkIx6bTNy8g"
   },
   "source": [
    "\n",
    "### Autoencoder\n"
   ]
  },
  {
   "cell_type": "code",
   "execution_count": null,
   "metadata": {
    "id": "WBQQOXS7XU-k"
   },
   "outputs": [],
   "source": [
    "X = X.reshape(X.shape[0],1,28,28)\n",
    "X_test = X_test.reshape(X_test.shape[0],1,28,28)"
   ]
  },
  {
   "cell_type": "code",
   "execution_count": null,
   "metadata": {
    "id": "N4StPT7VBG9O"
   },
   "outputs": [],
   "source": [
    "X = torchvision.transforms.functional.normalize(X,0.5,0.5)\n",
    "X_test = torchvision.transforms.functional.normalize(X_test,0.5,0.5)"
   ]
  },
  {
   "cell_type": "code",
   "execution_count": null,
   "metadata": {
    "id": "UafuXvzKjSw7"
   },
   "outputs": [],
   "source": [
    "def Encoder(x,w):\n",
    "    x = relu(conv2d(x,w[0], stride=(2, 2), padding=(1, 1)))\n",
    "    x = relu(conv2d(x,w[1], stride=(2, 2), padding=(1, 1)))\n",
    "    x = x.view(x.size(0), 6272)\n",
    "    x = linear(x,w[2])\n",
    "    return x"
   ]
  },
  {
   "cell_type": "code",
   "execution_count": null,
   "metadata": {
    "id": "ivvSdA3VjSw_"
   },
   "outputs": [],
   "source": [
    "def Decoder(x,w):\n",
    "    x = linear(x,w[3])\n",
    "    x = x.view(x.size(0), 128, 7, 7)\n",
    "    x = relu(conv_transpose2d(x,w[4], stride=(2, 2), padding=(1, 1)))\n",
    "    x = torch.tanh(conv_transpose2d(x,w[5], stride=(2, 2), padding=(1, 1)))\n",
    "    return x"
   ]
  },
  {
   "cell_type": "code",
   "execution_count": null,
   "metadata": {
    "id": "R8TLNLTkjSxG"
   },
   "outputs": [],
   "source": [
    "def Autoencoder(x,w):\n",
    "    return Decoder(Encoder(x,w),w)"
   ]
  },
  {
   "cell_type": "code",
   "execution_count": null,
   "metadata": {
    "id": "-iw6YTpBU8sr"
   },
   "outputs": [],
   "source": [
    "num_steps = 1000\n",
    "batch_size = 512\n",
    "learning_rate = 1e-3"
   ]
  },
  {
   "cell_type": "code",
   "execution_count": null,
   "metadata": {
    "id": "Au5YND2GU8sr",
    "scrolled": true
   },
   "outputs": [],
   "source": [
    "#Encode\n",
    "w0 = GPU(randn_trunc((64,1,4,4)))\n",
    "w1 = GPU(randn_trunc((128,64,4,4)))\n",
    "w2 = GPU(randn_trunc((10,6272)))\n",
    "#Decode\n",
    "w3 = GPU(randn_trunc((6272,10)))\n",
    "w4 = GPU(randn_trunc((128,64,4,4)))\n",
    "w5 = GPU(randn_trunc((64,1,4,4)))\n",
    "\n",
    "w = [w0,w1,w2,w3,w4,w5]\n",
    "\n",
    "optimizer = torch.optim.Adam(params=w, lr=learning_rate)\n",
    "\n",
    "for i in range(num_steps):\n",
    "\n",
    "    x_real,y = get_batch('train')\n",
    "    \n",
    "    x_fake = Autoencoder(x_real,w)\n",
    "    \n",
    "    loss = torch.mean((x_fake - x_real)**2)\n",
    "\n",
    "    optimizer.zero_grad()\n",
    "    loss.backward()\n",
    "    optimizer.step() \n",
    "\n",
    "    if i % 100 == 0: print(loss.item())"
   ]
  },
  {
   "cell_type": "code",
   "execution_count": null,
   "metadata": {
    "id": "9KtDnM_cXeJf"
   },
   "outputs": [],
   "source": [
    "image_batch,y = get_batch('test')"
   ]
  },
  {
   "cell_type": "code",
   "execution_count": null,
   "metadata": {
    "id": "cUHiRtNJXeMM"
   },
   "outputs": [],
   "source": [
    "image_batch_recon = Autoencoder(image_batch,w)"
   ]
  },
  {
   "cell_type": "code",
   "execution_count": null,
   "metadata": {
    "id": "kAvWP-HRXeYy"
   },
   "outputs": [],
   "source": [
    "torch.mean((image_batch_recon - image_batch)**2)"
   ]
  },
  {
   "cell_type": "code",
   "execution_count": null,
   "metadata": {
    "id": "j9GNtjyxTrLg"
   },
   "outputs": [],
   "source": [
    "montage_plot(image_batch[0:25,0,:,:].cpu().detach().numpy())"
   ]
  },
  {
   "cell_type": "code",
   "execution_count": null,
   "metadata": {
    "id": "Mc87oPuJYFqx"
   },
   "outputs": [],
   "source": [
    "montage_plot(image_batch_recon[0:25,0,:,:].cpu().detach().numpy())"
   ]
  },
  {
   "cell_type": "markdown",
   "metadata": {
    "id": "x4_p3zNkNz85"
   },
   "source": [
    "\n",
    "### Generator\n",
    "\n"
   ]
  },
  {
   "cell_type": "markdown",
   "metadata": {
    "id": "UK8bENQBO5cf"
   },
   "source": [
    "Convolutional Transpose"
   ]
  },
  {
   "cell_type": "code",
   "execution_count": null,
   "metadata": {
    "id": "JlUcx8nAOv2J"
   },
   "outputs": [],
   "source": [
    "latent_size = 64\n",
    "hidden_size = 256\n",
    "image_size = 784\n",
    "b = 32"
   ]
  },
  {
   "cell_type": "code",
   "execution_count": null,
   "metadata": {
    "id": "6DdMqwO6Ov2R"
   },
   "outputs": [],
   "source": [
    "#MNIST\n",
    "# train_set = datasets.MNIST('./data', train=True, download=True)\n",
    "# test_set = datasets.MNIST('./data', train=False, download=True)\n",
    "\n",
    "#KMNIST\n",
    "#train_set = datasets.KMNIST('./data', train=True, download=True)\n",
    "#test_set = datasets.KMNIST('./data', train=False, download=True)\n",
    "\n",
    "#Fashion MNIST\n",
    "train_set = datasets.FashionMNIST('./data', train=True, download=True)\n",
    "test_set = datasets.FashionMNIST('./data', train=False, download=True)"
   ]
  },
  {
   "cell_type": "code",
   "execution_count": null,
   "metadata": {
    "id": "zDtyhqfpOv2W"
   },
   "outputs": [],
   "source": [
    "X = train_set.data.numpy()\n",
    "X_test = test_set.data.numpy()\n",
    "Y = train_set.targets.numpy()\n",
    "Y_test = test_set.targets.numpy()\n",
    "X = X[:,None,:,:]/255\n",
    "X_test = X_test[:,None,:,:]/255\n",
    "X = (X - 0.5)/0.5\n",
    "X_test = (X_test - 0.5)/0.5"
   ]
  },
  {
   "cell_type": "code",
   "execution_count": null,
   "metadata": {
    "id": "brvz6j8oOv2d"
   },
   "outputs": [],
   "source": [
    "n = 7\n",
    "\n",
    "index = np.where(Y == n)\n",
    "X = X[index]\n",
    "index = np.where(Y_test == n)\n",
    "X_test = X_test[index]"
   ]
  },
  {
   "cell_type": "code",
   "execution_count": null,
   "metadata": {
    "id": "8jCql6k3Ov2j"
   },
   "outputs": [],
   "source": [
    "X.shape,Y.shape,X_test.shape,Y_test.shape"
   ]
  },
  {
   "cell_type": "code",
   "execution_count": null,
   "metadata": {
    "id": "9KkJf-T3Ov2o"
   },
   "outputs": [],
   "source": [
    "###################################################"
   ]
  },
  {
   "cell_type": "code",
   "execution_count": null,
   "metadata": {
    "id": "6XeXzhnBOv2u"
   },
   "outputs": [],
   "source": [
    "X = GPU_data(X)\n",
    "X_test = GPU_data(X_test)\n",
    "Y = GPU_data(Y)\n",
    "Y_test = GPU_data(Y_test)"
   ]
  },
  {
   "cell_type": "code",
   "execution_count": null,
   "metadata": {
    "id": "rbvvO0rKOv23"
   },
   "outputs": [],
   "source": [
    "x,y = get_batch('train')"
   ]
  },
  {
   "cell_type": "code",
   "execution_count": null,
   "metadata": {
    "id": "-IiEebSMOv28"
   },
   "outputs": [],
   "source": [
    "montage_plot(x[0:25,0,:,:].detach().cpu().numpy())"
   ]
  },
  {
   "cell_type": "code",
   "execution_count": null,
   "metadata": {
    "id": "4zTk44kcNWFX"
   },
   "outputs": [],
   "source": [
    "#D\n",
    "w0 = GPU(randn_trunc((64,1,4,4)))\n",
    "w1 = GPU(randn_trunc((128,64,4,4)))\n",
    "w2 = GPU(randn_trunc((1,6272)))\n",
    "#G\n",
    "w3 = GPU(randn_trunc((6272,64)))\n",
    "w4 = GPU(randn_trunc((128,64,4,4)))\n",
    "w5 = GPU(randn_trunc((64,1,4,4)))\n",
    "\n",
    "w = [w0,w1,w2,w3,w4,w5]"
   ]
  },
  {
   "cell_type": "code",
   "execution_count": null,
   "metadata": {
    "id": "NvMtOAMFNXM8"
   },
   "outputs": [],
   "source": [
    "def D(x,w):\n",
    "    x = relu(conv2d(x,w[0], stride=(2, 2), padding=(1, 1)))\n",
    "    x = relu(conv2d(x,w[1], stride=(2, 2), padding=(1, 1)))\n",
    "    x = x.view(x.size(0), 6272)\n",
    "    x = linear(x,w[2])\n",
    "    x = torch.sigmoid(x)\n",
    "    return x"
   ]
  },
  {
   "cell_type": "code",
   "execution_count": null,
   "metadata": {
    "id": "0aP-EqS6NXNB"
   },
   "outputs": [],
   "source": [
    "def G(x,w):\n",
    "    x = linear(x,w[3])\n",
    "    x = x.view(x.size(0), 128, 7, 7)\n",
    "    x = relu(conv_transpose2d(x,w[4], stride=(2, 2), padding=(1, 1)))\n",
    "    x = torch.tanh(conv_transpose2d(x,w[5], stride=(2, 2), padding=(1, 1)))\n",
    "    return x"
   ]
  },
  {
   "cell_type": "code",
   "execution_count": null,
   "metadata": {
    "id": "KkPqjP3rOv3c"
   },
   "outputs": [],
   "source": [
    "d_optimizer = torch.optim.Adam(w[0:3], lr=0.0002)\n",
    "g_optimizer = torch.optim.Adam(w[3:], lr=0.0002)\n",
    "\n",
    "real_labels = Variable(torch.ones(batch_size, 1).cuda())\n",
    "fake_labels = Variable(torch.zeros(batch_size, 1).cuda())"
   ]
  },
  {
   "cell_type": "code",
   "execution_count": null,
   "metadata": {
    "id": "SwNovkpIOv3g"
   },
   "outputs": [],
   "source": [
    "num_epochs = 500 \n",
    "batches = X.shape[0]//batch_size\n",
    "steps = num_epochs*batches"
   ]
  },
  {
   "cell_type": "code",
   "execution_count": null,
   "metadata": {
    "id": "vA6CQvaoOv3k"
   },
   "outputs": [],
   "source": [
    "z1 = Variable(torch.randn(steps,batch_size,latent_size).cuda())\n",
    "z2 = Variable(torch.randn(steps,batch_size,latent_size).cuda())"
   ]
  },
  {
   "cell_type": "code",
   "execution_count": null,
   "metadata": {
    "id": "CQsuyre6Ov3n"
   },
   "outputs": [],
   "source": [
    "for i in range(steps):\n",
    "        \n",
    "    images,y = get_batch('train')\n",
    "        \n",
    "    d_loss = binary_cross_entropy(D(images,w), real_labels) + binary_cross_entropy(D(G(z1[i],w),w), fake_labels)\n",
    "    d_optimizer.zero_grad()\n",
    "    d_loss.backward()\n",
    "    d_optimizer.step()\n",
    "       \n",
    "    \n",
    "    g_loss = binary_cross_entropy(D(G(z2[i],w),w), real_labels)\n",
    "    g_optimizer.zero_grad()\n",
    "    g_loss.backward()\n",
    "    g_optimizer.step()\n",
    "\n",
    "    \n",
    "    if i % 2000 == 0:\n",
    "        out = G(z1[np.random.randint(steps)],w)\n",
    "        montage_plot(out.view(batch_size,1,28,28).detach().cpu().numpy()[0:25,0,:,:])"
   ]
  },
  {
   "cell_type": "code",
   "execution_count": null,
   "metadata": {
    "id": "tFl7V-HANWKD"
   },
   "outputs": [],
   "source": []
  },
  {
   "cell_type": "markdown",
   "metadata": {
    "id": "G46gc5BwRVFQ"
   },
   "source": [
    "# 2nd Edition"
   ]
  },
  {
   "cell_type": "code",
   "execution_count": null,
   "metadata": {
    "id": "r7e7bLKPWZkH"
   },
   "outputs": [],
   "source": []
  },
  {
   "cell_type": "code",
   "execution_count": null,
   "metadata": {
    "id": "J4GsmU6ZRkur"
   },
   "outputs": [],
   "source": [
    "urllib.request.urlretrieve('https://raw.githubusercontent.com/imageio/imageio-binaries/master/images/imageio_banner.png',\"image1.png\")\n",
    "  \n",
    "im = Image.open(\"image1.png\")"
   ]
  },
  {
   "cell_type": "code",
   "execution_count": null,
   "metadata": {
    "colab": {
     "base_uri": "https://localhost:8080/",
     "height": 145
    },
    "id": "ZuLHe4EcR_ax",
    "outputId": "61808149-5efa-445d-a62f-773abc94c1c9"
   },
   "outputs": [
    {
     "data": {
      "image/png": "[encoded data removed]",
      "text/plain": [
       "<PIL.PngImagePlugin.PngImageFile image mode=RGBA size=624x128 at 0x7FED84309650>"
      ]
     },
     "execution_count": 17,
     "metadata": {},
     "output_type": "execute_result"
    }
   ],
   "source": [
    "im"
   ]
  },
  {
   "cell_type": "code",
   "execution_count": null,
   "metadata": {
    "id": "I4N7peO5WHQD"
   },
   "outputs": [],
   "source": [
    "im = imread('https://raw.githubusercontent.com/imageio/imageio-binaries/master/images/imageio_banner.png')"
   ]
  },
  {
   "cell_type": "code",
   "execution_count": null,
   "metadata": {
    "colab": {
     "base_uri": "https://localhost:8080/",
     "height": 145
    },
    "id": "6rfeaoMLWHQG",
    "outputId": "a9bb11d4-fef6-485e-8e3f-55ed4f26cf20"
   },
   "outputs": [
    {
     "data": {
      "image/png": "[encoded data removed]",
      "text/plain": [
       "<Figure size 720x720 with 1 Axes>"
      ]
     },
     "metadata": {
      "needs_background": "light"
     },
     "output_type": "display_data"
    }
   ],
   "source": [
    "plot(im)"
   ]
  },
  {
   "cell_type": "markdown",
   "metadata": {
    "id": "TDkgL8PLKIgl"
   },
   "source": [
    "### Resize Image"
   ]
  },
  {
   "cell_type": "code",
   "execution_count": null,
   "metadata": {
    "colab": {
     "base_uri": "https://localhost:8080/"
    },
    "id": "5FszLwc6L0ga",
    "outputId": "72758ed1-1d02-4a57-c714-1f7fe5a0bdd6"
   },
   "outputs": [
    {
     "data": {
      "text/plain": [
       "(128, 624, 4)"
      ]
     },
     "execution_count": 26,
     "metadata": {},
     "output_type": "execute_result"
    }
   ],
   "source": [
    "im.shape"
   ]
  },
  {
   "cell_type": "code",
   "execution_count": null,
   "metadata": {
    "id": "u9fTVmF5SMeL"
   },
   "outputs": [],
   "source": [
    "height = 128\n",
    "width = 128\n",
    "\n",
    "im_new = resize(im,(height,width))"
   ]
  },
  {
   "cell_type": "code",
   "execution_count": null,
   "metadata": {
    "colab": {
     "base_uri": "https://localhost:8080/",
     "height": 145
    },
    "id": "Qaj2hk7NYDjY",
    "outputId": "317dee04-900a-4a9e-8d4c-d816024abad4"
   },
   "outputs": [
    {
     "data": {
      "image/png": "[encoded data removed]",
      "text/plain": [
       "<Figure size 720x720 with 1 Axes>"
      ]
     },
     "metadata": {
      "needs_background": "light"
     },
     "output_type": "display_data"
    }
   ],
   "source": [
    "plot(im)"
   ]
  },
  {
   "cell_type": "markdown",
   "metadata": {
    "id": "rxVsp5HcKLW1"
   },
   "source": [
    "### Show RGB Channels"
   ]
  },
  {
   "cell_type": "code",
   "execution_count": null,
   "metadata": {
    "id": "jlA4kwflSMmu"
   },
   "outputs": [],
   "source": [
    "im = imread('https://ecdn.teacherspayteachers.com/thumbitem/Free-Printable-Color-Chart-for-Preschool-5478140-1597652965/original-5478140-2.jpg')"
   ]
  },
  {
   "cell_type": "code",
   "execution_count": null,
   "metadata": {
    "colab": {
     "base_uri": "https://localhost:8080/"
    },
    "id": "M9nJWtGNSQFh",
    "outputId": "c1a3516f-e86c-4152-c85d-ca8b1adc2055"
   },
   "outputs": [
    {
     "data": {
      "text/plain": [
       "(350, 247, 3)"
      ]
     },
     "execution_count": 33,
     "metadata": {},
     "output_type": "execute_result"
    }
   ],
   "source": [
    "im.shape"
   ]
  },
  {
   "cell_type": "code",
   "execution_count": null,
   "metadata": {
    "colab": {
     "base_uri": "https://localhost:8080/",
     "height": 575
    },
    "id": "8xUrhjTBSMmv",
    "outputId": "66863f05-7519-4eb9-a946-e8b5aa017495"
   },
   "outputs": [
    {
     "data": {
      "image/png": "[encoded data removed]",
      "text/plain": [
       "<Figure size 720x720 with 1 Axes>"
      ]
     },
     "metadata": {
      "needs_background": "light"
     },
     "output_type": "display_data"
    }
   ],
   "source": [
    "plot(im)"
   ]
  },
  {
   "cell_type": "code",
   "execution_count": null,
   "metadata": {
    "colab": {
     "base_uri": "https://localhost:8080/",
     "height": 282
    },
    "id": "5y0rBSASJtbz",
    "outputId": "f6643e66-f940-4c0d-fdbc-c0c2c9b2b1f8"
   },
   "outputs": [
    {
     "data": {
      "image/png": "[encoded data removed]",
      "text/plain": [
       "<Figure size 432x288 with 4 Axes>"
      ]
     },
     "metadata": {
      "needs_background": "light"
     },
     "output_type": "display_data"
    }
   ],
   "source": [
    "fig = plt.figure()\n",
    "ax = RGBAxes(fig, [0.1, 0.1, 0.8, 0.8])\n",
    "ax.imshow_rgb(im[:,:,0],im[:,:,1],im[:,:,2]);"
   ]
  },
  {
   "cell_type": "markdown",
   "metadata": {
    "id": "74vy1BNCURiy"
   },
   "source": [
    "## Alexnet"
   ]
  },
  {
   "cell_type": "code",
   "execution_count": null,
   "metadata": {
    "id": "ANsJjYiBp1gZ"
   },
   "outputs": [],
   "source": [
    "def scale(x):\n",
    "    return (x - np.min(x))/np.max(x)\n",
    "def scale1(x):\n",
    "    return (x-np.min(x))/(np.max(x)-np.min(x))"
   ]
  },
  {
   "cell_type": "code",
   "execution_count": null,
   "metadata": {
    "id": "qerz_XsoUbsy"
   },
   "outputs": [],
   "source": [
    "def plot(x):\n",
    "    fig, ax = plt.subplots()\n",
    "    im = ax.imshow(x,cmap='gray')\n",
    "    ax.axis('off')\n",
    "    fig.set_size_inches(10, 10)\n",
    "    plt.show()"
   ]
  },
  {
   "cell_type": "code",
   "execution_count": null,
   "metadata": {
    "id": "jECnUt1fQmq_"
   },
   "outputs": [],
   "source": [
    "image = skio.imread(\"http://ian-albert.com/games/super_mario_bros_maps/mario-2-2.gif\")\n",
    "image = image[:,0:700,:]\n",
    "plot(image)"
   ]
  },
  {
   "cell_type": "code",
   "execution_count": null,
   "metadata": {
    "id": "dZPcBH4yQmrC"
   },
   "outputs": [],
   "source": [
    "coin = image[185:200,224:239,:]"
   ]
  },
  {
   "cell_type": "code",
   "execution_count": null,
   "metadata": {
    "id": "G9G1DGbqQmrE"
   },
   "outputs": [],
   "source": [
    "plot(coin)"
   ]
  },
  {
   "cell_type": "code",
   "execution_count": null,
   "metadata": {
    "id": "fPX2DzPELMnO"
   },
   "outputs": [],
   "source": [
    "image = image[60:,0:700,:]\n",
    "plot(image)"
   ]
  },
  {
   "cell_type": "code",
   "execution_count": null,
   "metadata": {
    "id": "KNI7f_OTQmrK"
   },
   "outputs": [],
   "source": [
    "image=np.mean(image,axis=2)\n",
    "coin=np.mean(coin,axis=2)\n",
    "image=scale1(image)\n",
    "coin=scale1(coin)"
   ]
  },
  {
   "cell_type": "code",
   "execution_count": null,
   "metadata": {
    "id": "_VHszJ6UQmrN"
   },
   "outputs": [],
   "source": [
    "plot(image)\n"
   ]
  },
  {
   "cell_type": "code",
   "execution_count": null,
   "metadata": {
    "id": "JV8JKWIOEa9O"
   },
   "outputs": [],
   "source": [
    "plot(coin)"
   ]
  },
  {
   "cell_type": "code",
   "execution_count": null,
   "metadata": {
    "id": "S2HhDwN8QmrP"
   },
   "outputs": [],
   "source": [
    "coin.shape"
   ]
  },
  {
   "cell_type": "code",
   "execution_count": null,
   "metadata": {
    "id": "kVhlm83_Pzg2"
   },
   "outputs": [],
   "source": [
    "image = image - np.mean(image)\n",
    "coin = coin - np.mean(coin)"
   ]
  },
  {
   "cell_type": "code",
   "execution_count": null,
   "metadata": {
    "id": "XnJHgNVPPza8"
   },
   "outputs": [],
   "source": [
    "z=signal.convolve2d(image, np.rot90(coin, 2))"
   ]
  },
  {
   "cell_type": "code",
   "execution_count": null,
   "metadata": {
    "id": "W5bzaMW9P6XP"
   },
   "outputs": [],
   "source": [
    "plot(z)"
   ]
  },
  {
   "cell_type": "code",
   "execution_count": null,
   "metadata": {
    "id": "1oRZ_c3QQ0XK"
   },
   "outputs": [],
   "source": [
    "plot(z==np.max(z))"
   ]
  },
  {
   "cell_type": "code",
   "execution_count": null,
   "metadata": {
    "id": "K_iZJ-q8UADI"
   },
   "outputs": [],
   "source": [
    "[y,x] = np.where(z == np.amax(z))"
   ]
  },
  {
   "cell_type": "code",
   "execution_count": null,
   "metadata": {
    "id": "GtAbHFN4UADM"
   },
   "outputs": [],
   "source": [
    "plt.plot(x,-y,'r.',markersize=30)\n",
    "fig = plt.gcf()\n",
    "fig.set_size_inches(10, 10)"
   ]
  },
  {
   "cell_type": "code",
   "execution_count": null,
   "metadata": {
    "id": "uyTyWwxTUADQ"
   },
   "outputs": [],
   "source": [
    "fig, ax = plt.subplots()\n",
    "im = ax.imshow(image, cmap = 'gray')\n",
    "ax.axis('off')\n",
    "fig.set_size_inches(20, 10)\n",
    "ax.scatter(x-6, y-6, c='#f97306', s=80) #https://xkcd.com/color/rgb/\n",
    "plt.show()"
   ]
  },
  {
   "cell_type": "code",
   "execution_count": null,
   "metadata": {
    "id": "78e6JxupWHQJ"
   },
   "outputs": [],
   "source": [
    "net = alexnet(pretrained=True).cuda(0)"
   ]
  },
  {
   "cell_type": "code",
   "execution_count": null,
   "metadata": {
    "id": "j6P-S3VJWHQL"
   },
   "outputs": [],
   "source": [
    "normalize = transforms.Normalize(\n",
    "   mean=[0.485, 0.456, 0.406],\n",
    "   std=[0.229, 0.224, 0.225]\n",
    ")\n",
    "preprocess = transforms.Compose([\n",
    "   transforms.Resize(256),\n",
    "   transforms.CenterCrop(224),\n",
    "   transforms.ToTensor(),\n",
    "   normalize\n",
    "])"
   ]
  },
  {
   "cell_type": "code",
   "execution_count": null,
   "metadata": {
    "id": "I9YcXudRWHQN"
   },
   "outputs": [],
   "source": [
    "im = imageio.imread('https://www.medicalnewstoday.com/content/images/articles/322/322868/golden-retriever-puppy.jpg')"
   ]
  },
  {
   "cell_type": "code",
   "execution_count": null,
   "metadata": {
    "id": "ReOMMcp_WHQQ"
   },
   "outputs": [],
   "source": [
    "plot(im)"
   ]
  },
  {
   "cell_type": "code",
   "execution_count": null,
   "metadata": {
    "id": "zxCazLs9WHQS"
   },
   "outputs": [],
   "source": [
    "image = Image.fromarray(im) #convert to pil"
   ]
  },
  {
   "cell_type": "code",
   "execution_count": null,
   "metadata": {
    "id": "EW0MtLokWHQU"
   },
   "outputs": [],
   "source": [
    "img_tensor = preprocess(image)"
   ]
  },
  {
   "cell_type": "code",
   "execution_count": null,
   "metadata": {
    "id": "RMWZ_9KFWHQX"
   },
   "outputs": [],
   "source": [
    "img_tensor = img_tensor.unsqueeze_(0)"
   ]
  },
  {
   "cell_type": "code",
   "execution_count": null,
   "metadata": {
    "id": "S7aFClpbWHQZ"
   },
   "outputs": [],
   "source": [
    "img_tensor.shape"
   ]
  },
  {
   "cell_type": "code",
   "execution_count": null,
   "metadata": {
    "id": "dIb-_ZuMWHQb"
   },
   "outputs": [],
   "source": [
    "img_variable = torch.tensor(img_tensor).cuda(0)"
   ]
  },
  {
   "cell_type": "code",
   "execution_count": null,
   "metadata": {
    "id": "r9L4Twi2WHQd"
   },
   "outputs": [],
   "source": [
    "img_variable.shape"
   ]
  },
  {
   "cell_type": "code",
   "execution_count": null,
   "metadata": {
    "id": "8oDi8X2EWHQf"
   },
   "outputs": [],
   "source": [
    "%%timeit\n",
    "out = net(img_variable)"
   ]
  },
  {
   "cell_type": "code",
   "execution_count": null,
   "metadata": {
    "id": "ZG1_RlZFWHQh"
   },
   "outputs": [],
   "source": [
    "out = net(img_variable)"
   ]
  },
  {
   "cell_type": "code",
   "execution_count": null,
   "metadata": {
    "id": "n-KBEoPcWHQj"
   },
   "outputs": [],
   "source": [
    "out.shape"
   ]
  },
  {
   "cell_type": "code",
   "execution_count": null,
   "metadata": {
    "id": "xke-ZrzbDSLo"
   },
   "outputs": [],
   "source": [
    "out"
   ]
  },
  {
   "cell_type": "code",
   "execution_count": null,
   "metadata": {
    "id": "HjUnQPioWHQl"
   },
   "outputs": [],
   "source": [
    "label_index = out.cpu().data.numpy().argmax()"
   ]
  },
  {
   "cell_type": "code",
   "execution_count": null,
   "metadata": {
    "id": "L45n4KizWHQo"
   },
   "outputs": [],
   "source": [
    "label_index"
   ]
  },
  {
   "cell_type": "code",
   "execution_count": null,
   "metadata": {
    "id": "IknOTR23WHQq"
   },
   "outputs": [],
   "source": [
    "top_list = np.flip(np.argsort(out.cpu().data.numpy())[0][-10:])"
   ]
  },
  {
   "cell_type": "code",
   "execution_count": null,
   "metadata": {
    "id": "GV5AF8U4WHQs"
   },
   "outputs": [],
   "source": [
    "LABELS_URL = 'https://s3.amazonaws.com/mlpipes/pytorch-quick-start/labels.json'"
   ]
  },
  {
   "cell_type": "code",
   "execution_count": null,
   "metadata": {
    "id": "XX4oc_13WHQu"
   },
   "outputs": [],
   "source": [
    "labels = {int(key):value for (key, value) in requests.get(LABELS_URL).json().items()}"
   ]
  },
  {
   "cell_type": "code",
   "execution_count": null,
   "metadata": {
    "id": "jhkU-BjaWHQw"
   },
   "outputs": [],
   "source": [
    "print(labels[label_index])"
   ]
  },
  {
   "cell_type": "code",
   "execution_count": null,
   "metadata": {
    "id": "32BmM3u9WHQy"
   },
   "outputs": [],
   "source": [
    "for i in range(10):\n",
    "    print(labels[top_list[i]])"
   ]
  },
  {
   "cell_type": "code",
   "execution_count": null,
   "metadata": {
    "id": "u7voIWVpWHQ0"
   },
   "outputs": [],
   "source": [
    "net"
   ]
  },
  {
   "cell_type": "code",
   "execution_count": null,
   "metadata": {
    "id": "EsSgs1I4WHQ2"
   },
   "outputs": [],
   "source": [
    "summary(net, (3, 224, 224))"
   ]
  },
  {
   "cell_type": "code",
   "execution_count": null,
   "metadata": {
    "id": "Z1hkZxB5WHQ8"
   },
   "outputs": [],
   "source": [
    "out = net.features[0](img_variable).cpu().detach().numpy()"
   ]
  },
  {
   "cell_type": "code",
   "execution_count": null,
   "metadata": {
    "id": "wdbXfCTrWHQ-"
   },
   "outputs": [],
   "source": [
    "plot(out[0,0,:,:])"
   ]
  },
  {
   "cell_type": "code",
   "execution_count": null,
   "metadata": {
    "id": "4mAyPUQjWHRA"
   },
   "outputs": [],
   "source": [
    "plt.plot(np.arange(4096),net.classifier[0:6](net.avgpool(net.features[0:13](img_variable)).flatten()).cpu().detach().numpy())\n",
    "fig = plt.gcf()\n",
    "fig.set_size_inches(10, 10)"
   ]
  },
  {
   "cell_type": "code",
   "execution_count": null,
   "metadata": {
    "id": "Wl5DlTyMWHRI"
   },
   "outputs": [],
   "source": [
    "im = imageio.imread('http://bocasurfcam.com/most_recent_image.php')"
   ]
  },
  {
   "cell_type": "code",
   "execution_count": null,
   "metadata": {
    "id": "R8jvmBk1WHRK"
   },
   "outputs": [],
   "source": [
    "plot(im)"
   ]
  },
  {
   "cell_type": "code",
   "execution_count": null,
   "metadata": {
    "id": "B3ka99joWHRM"
   },
   "outputs": [],
   "source": [
    "def load_im(im):\n",
    "    image = Image.fromarray(im) #convert to pil\n",
    "    img_tensor = preprocess(image)\n",
    "    img_tensor = img_tensor.unsqueeze_(0)\n",
    "    img_variable = torch.tensor(img_tensor).cuda(0)\n",
    "    return img_variable"
   ]
  },
  {
   "cell_type": "code",
   "execution_count": null,
   "metadata": {
    "id": "5U_M65I6WHRO"
   },
   "outputs": [],
   "source": [
    "out = net(load_im(im))"
   ]
  },
  {
   "cell_type": "code",
   "execution_count": null,
   "metadata": {
    "id": "vX-aWqumWHRQ"
   },
   "outputs": [],
   "source": [
    "def inference(im):\n",
    "    out = net(load_im(im))\n",
    "    label_index = out.cpu().data.numpy().argmax()\n",
    "    top_list = np.flip(np.argsort(out.cpu().data.numpy())[0][-10:])\n",
    "    print(labels[label_index])\n",
    "    print('____')\n",
    "    for i in range(10):\n",
    "        print(labels[top_list[i]])"
   ]
  },
  {
   "cell_type": "code",
   "execution_count": null,
   "metadata": {
    "id": "ApQh6jBFWHRS"
   },
   "outputs": [],
   "source": [
    "inference(im)"
   ]
  },
  {
   "cell_type": "code",
   "execution_count": null,
   "metadata": {
    "id": "4Rri0IX9n0hW"
   },
   "outputs": [],
   "source": [
    "net"
   ]
  },
  {
   "cell_type": "code",
   "execution_count": null,
   "metadata": {
    "id": "Ual2023ln_ys"
   },
   "outputs": [],
   "source": [
    "w1 = net.features[0].weight.data.cpu().numpy()"
   ]
  },
  {
   "cell_type": "code",
   "execution_count": null,
   "metadata": {
    "id": "ljaT9jRjosW3"
   },
   "outputs": [],
   "source": [
    "w1.shape"
   ]
  },
  {
   "cell_type": "code",
   "execution_count": null,
   "metadata": {
    "id": "V6f8acI0o_Zb"
   },
   "outputs": [],
   "source": [
    "w1 = np.transpose(w1,(0,2,3,1))"
   ]
  },
  {
   "cell_type": "code",
   "execution_count": null,
   "metadata": {
    "id": "uVU_6FW5pCVB"
   },
   "outputs": [],
   "source": [
    "w1.shape"
   ]
  },
  {
   "cell_type": "code",
   "execution_count": null,
   "metadata": {
    "id": "s2oM40uTt_hC"
   },
   "outputs": [],
   "source": [
    "Wp = (w1 - np.mean(w1))/np.std(w1)"
   ]
  },
  {
   "cell_type": "code",
   "execution_count": null,
   "metadata": {
    "id": "xhu_cu1q-etC"
   },
   "outputs": [],
   "source": [
    "M = montage(Wp, multichannel=True)"
   ]
  },
  {
   "cell_type": "code",
   "execution_count": null,
   "metadata": {
    "id": "FCkbrvH0-hVZ"
   },
   "outputs": [],
   "source": [
    "M.shape"
   ]
  },
  {
   "cell_type": "code",
   "execution_count": null,
   "metadata": {
    "id": "a-LYXEiGwdQV"
   },
   "outputs": [],
   "source": [
    "plot(Wp[0,:,:,:])"
   ]
  },
  {
   "cell_type": "code",
   "execution_count": null,
   "metadata": {
    "id": "dF8LpLZOBOov"
   },
   "outputs": [],
   "source": [
    "plot(np.random.random((11,11,3)))"
   ]
  },
  {
   "cell_type": "code",
   "execution_count": null,
   "metadata": {
    "id": "UsCf5rFbqh4r"
   },
   "outputs": [],
   "source": [
    "plot(montage(Wp, multichannel=True))"
   ]
  },
  {
   "cell_type": "code",
   "execution_count": null,
   "metadata": {
    "id": "lOSMVsFVpaKm"
   },
   "outputs": [],
   "source": [
    "plot(montage(w1, multichannel=True))"
   ]
  },
  {
   "cell_type": "code",
   "execution_count": null,
   "metadata": {
    "id": "CxGQB1dxoeU3"
   },
   "outputs": [],
   "source": [
    "plot(scale1(montage(np.transpose(net.features[0].weight.data.cpu().numpy(),(0,2,3,1)), multichannel=True)))"
   ]
  },
  {
   "cell_type": "code",
   "execution_count": null,
   "metadata": {
    "id": "RuqqCwr_G4QQ"
   },
   "outputs": [],
   "source": [
    "plot(scale(montage(np.transpose(net.features[0].weight.data.cpu().numpy(),(0,2,3,1)), multichannel=True)))"
   ]
  },
  {
   "cell_type": "code",
   "execution_count": null,
   "metadata": {
    "id": "qhzeiCZ6x_HY"
   },
   "outputs": [],
   "source": [
    "img_variable.flatten().shape"
   ]
  },
  {
   "cell_type": "code",
   "execution_count": null,
   "metadata": {
    "id": "7f7bg8lywvjF"
   },
   "outputs": [],
   "source": [
    "out = net.features[0](img_variable).cpu().detach().numpy()"
   ]
  },
  {
   "cell_type": "code",
   "execution_count": null,
   "metadata": {
    "id": "K3fPxktGwvgh"
   },
   "outputs": [],
   "source": [
    "out.shape"
   ]
  },
  {
   "cell_type": "code",
   "execution_count": null,
   "metadata": {
    "id": "79YbVYB0r9Bz"
   },
   "outputs": [],
   "source": [
    "plot(out[0,0,:,:])"
   ]
  },
  {
   "cell_type": "code",
   "execution_count": null,
   "metadata": {
    "id": "et-7SaBts9Z5"
   },
   "outputs": [],
   "source": [
    "img_variable.shape"
   ]
  },
  {
   "cell_type": "code",
   "execution_count": null,
   "metadata": {
    "id": "f4F-zTiTtAVV"
   },
   "outputs": [],
   "source": [
    "3*224*224"
   ]
  },
  {
   "cell_type": "code",
   "execution_count": null,
   "metadata": {
    "id": "jMJjg_O1tEnL"
   },
   "outputs": [],
   "source": [
    "64*55*55"
   ]
  },
  {
   "cell_type": "code",
   "execution_count": null,
   "metadata": {
    "id": "KNz6M72DwveY"
   },
   "outputs": [],
   "source": [
    "out = np.squeeze(out)"
   ]
  },
  {
   "cell_type": "code",
   "execution_count": null,
   "metadata": {
    "id": "cMhhvCr2xgUq"
   },
   "outputs": [],
   "source": [
    "plot(montage(out))"
   ]
  },
  {
   "cell_type": "code",
   "execution_count": null,
   "metadata": {
    "id": "-z-7AVh1q4I9"
   },
   "outputs": [],
   "source": [
    "plot(scale(montage(np.transpose(net.features[0].weight.data.cpu().numpy(),(0,2,3,1)), multichannel=True)))"
   ]
  },
  {
   "cell_type": "code",
   "execution_count": null,
   "metadata": {
    "id": "W6jljYlbyUdJ"
   },
   "outputs": [],
   "source": [
    "for i in range(12):\n",
    "    plot(montage(np.squeeze(net.features[0:i](img_variable).cpu().detach().numpy()))) "
   ]
  },
  {
   "cell_type": "code",
   "execution_count": null,
   "metadata": {
    "id": "kJrGHe8q8BFp"
   },
   "outputs": [],
   "source": [
    "plot(montage(np.squeeze(net.avgpool(net.features[0:13](img_variable)).cpu().detach().numpy())))  "
   ]
  },
  {
   "cell_type": "code",
   "execution_count": null,
   "metadata": {
    "id": "mPT8-Kj31cA2"
   },
   "outputs": [],
   "source": [
    "net.features[0:13](img_variable).cpu().detach().numpy().shape"
   ]
  },
  {
   "cell_type": "code",
   "execution_count": null,
   "metadata": {
    "id": "uFGhMfHK23hK"
   },
   "outputs": [],
   "source": [
    "net"
   ]
  },
  {
   "cell_type": "code",
   "execution_count": null,
   "metadata": {
    "id": "h2Tbe0Ok4jOu"
   },
   "outputs": [],
   "source": [
    "net.avgpool(net.features[0:13](img_variable)).shape"
   ]
  },
  {
   "cell_type": "code",
   "execution_count": null,
   "metadata": {
    "id": "yupNz0gp4EeF"
   },
   "outputs": [],
   "source": [
    "net.avgpool(net.features[0:13](img_variable)).flatten().shape[0]"
   ]
  },
  {
   "cell_type": "code",
   "execution_count": null,
   "metadata": {
    "id": "8MbWlzBr4Elu"
   },
   "outputs": [],
   "source": [
    "plt.plot(np.arange(9216),net.avgpool(net.features[0:13](img_variable)).flatten().cpu().detach().numpy())\n",
    "fig = plt.gcf()\n",
    "fig.set_size_inches(10, 10)"
   ]
  },
  {
   "cell_type": "code",
   "execution_count": null,
   "metadata": {
    "id": "Ys_5X9Ea4EhF"
   },
   "outputs": [],
   "source": [
    "9216 / (3*224*224) # percentage of numbers left, vs original pixels"
   ]
  },
  {
   "cell_type": "code",
   "execution_count": null,
   "metadata": {
    "id": "ZLSQtqxC8FBF"
   },
   "outputs": [],
   "source": [
    "net.classifier[0](net.avgpool(net.features[0:13](img_variable)).flatten()).shape"
   ]
  },
  {
   "cell_type": "code",
   "execution_count": null,
   "metadata": {
    "id": "mJ5jKrea8E_G"
   },
   "outputs": [],
   "source": [
    "plt.plot(np.arange(4096),net.classifier[0:2](net.avgpool(net.features[0:13](img_variable)).flatten()).cpu().detach().numpy())\n",
    "fig = plt.gcf()\n",
    "fig.set_size_inches(10, 10)"
   ]
  },
  {
   "cell_type": "code",
   "execution_count": null,
   "metadata": {
    "id": "NcQfNW6c8E9a"
   },
   "outputs": [],
   "source": [
    "plt.plot(np.arange(4096),net.classifier[0:3](net.avgpool(net.features[0:13](img_variable)).flatten()).cpu().detach().numpy())\n",
    "fig = plt.gcf()\n",
    "fig.set_size_inches(10, 10)"
   ]
  },
  {
   "cell_type": "code",
   "execution_count": null,
   "metadata": {
    "id": "72-O9Ebg8E6q"
   },
   "outputs": [],
   "source": [
    "plt.plot(np.arange(4096),net.classifier[0:5](net.avgpool(net.features[0:13](img_variable)).flatten()).cpu().detach().numpy())\n",
    "fig = plt.gcf()\n",
    "fig.set_size_inches(10, 10)"
   ]
  },
  {
   "cell_type": "code",
   "execution_count": null,
   "metadata": {
    "id": "XE7sHv6C6Xaa"
   },
   "outputs": [],
   "source": [
    "plt.plot(np.arange(4096),net.classifier[0:6](net.avgpool(net.features[0:13](img_variable)).flatten()).cpu().detach().numpy())\n",
    "fig = plt.gcf()\n",
    "fig.set_size_inches(10, 10)"
   ]
  },
  {
   "cell_type": "code",
   "execution_count": null,
   "metadata": {
    "id": "QY3LZPqp9Ovj"
   },
   "outputs": [],
   "source": [
    "plt.plot(np.arange(1000),net.classifier[0:7](net.avgpool(net.features[0:13](img_variable)).flatten()).cpu().detach().numpy())\n",
    "fig = plt.gcf()\n",
    "fig.set_size_inches(10, 10)"
   ]
  },
  {
   "cell_type": "code",
   "execution_count": null,
   "metadata": {
    "id": "HnQqPp2I9vhT"
   },
   "outputs": [],
   "source": [
    "out = net.classifier[0:7](net.avgpool(net.features[0:13](img_variable)).flatten()).cpu().detach().numpy()"
   ]
  },
  {
   "cell_type": "code",
   "execution_count": null,
   "metadata": {
    "id": "tsBkH5qR9PKD"
   },
   "outputs": [],
   "source": [
    "def softmax(x):\n",
    "\n",
    "    s = np.exp(x)\n",
    "\n",
    "    s = s / np.sum(s)\n",
    "\n",
    "    return s"
   ]
  },
  {
   "cell_type": "code",
   "execution_count": null,
   "metadata": {
    "id": "JpIf-M1GHnA8"
   },
   "outputs": [],
   "source": [
    "out = softmax(out)"
   ]
  },
  {
   "cell_type": "code",
   "execution_count": null,
   "metadata": {
    "id": "Gq1LIFR99OtJ"
   },
   "outputs": [],
   "source": [
    "plt.plot(np.arange(1000),out)\n",
    "fig = plt.gcf()\n",
    "fig.set_size_inches(10, 10)"
   ]
  },
  {
   "cell_type": "code",
   "execution_count": null,
   "metadata": {
    "id": "KZmx0CIC-OHc"
   },
   "outputs": [],
   "source": [
    "label_index = out.argmax()"
   ]
  },
  {
   "cell_type": "code",
   "execution_count": null,
   "metadata": {
    "id": "3HNl1XSe-OHf"
   },
   "outputs": [],
   "source": [
    "label_index"
   ]
  },
  {
   "cell_type": "code",
   "execution_count": null,
   "metadata": {
    "id": "ppXjlc2p-W45"
   },
   "outputs": [],
   "source": [
    "top_list = np.flip(np.argsort(out))[0:10]"
   ]
  },
  {
   "cell_type": "code",
   "execution_count": null,
   "metadata": {
    "id": "zt3YgThU-OHh"
   },
   "outputs": [],
   "source": [
    "top_list"
   ]
  },
  {
   "cell_type": "code",
   "execution_count": null,
   "metadata": {
    "id": "lxmL9kyh9_NV"
   },
   "outputs": [],
   "source": [
    "for i in range(10):\n",
    "    print(labels[top_list[i]])"
   ]
  },
  {
   "cell_type": "markdown",
   "metadata": {
    "id": "edDSpcUzUm5d"
   },
   "source": [
    "## Alexnet Custom"
   ]
  },
  {
   "cell_type": "markdown",
   "metadata": {
    "id": "RWYVOIH6wx9m"
   },
   "source": [
    "Two possible ways to create your dataset: (1) Make one with your own with your camera/phone or (2) Build one with Image Search (Google/Bing)\n",
    "\n",
    "The idea is to have (at least) two categories for which you will train an inference model. You will then present data from your reserved validation set to evaluate your models ability to distinguish the two categories. For example, pick any living object like ants and then collect photos with and without ants in the pictures. You will then put these pictures on your google drive and run a classification model just like with flowers 102.\n",
    "\n",
    "The more photos you collect the better your model will be. You must have at least 50 photographs for each of your two categories. (This should not take a long time.)\n",
    "\n",
    "Note you must put around 20% of your images into the valid folder.\n",
    "\n",
    "Example data folders here: https://drive.google.com/drive/folders/1Je_gRF8RnhszAAbQhw2IzqM2_7byPVtL?usp=sharing\n",
    "\n",
    "Example Ideas:\n",
    "\n",
    "Ex1 Camera: Ant finder Close up of ground/floor with ants in photo vs Close up photo with no ants\n",
    "\n",
    "Ex2 Camera: Palm tree with coconuts vs Palm tree with dates (Both are all over FAU)\n",
    "\n",
    "Ex3 Web Search: Marine animal (bird) vs Marine animal covered in oil from oil spill\n",
    "\n",
    "Ex4 Web Search: Burrowing owl adult vs Burrowing owl chick"
   ]
  },
  {
   "cell_type": "code",
   "execution_count": null,
   "metadata": {
    "id": "V-5bBG1kODap"
   },
   "outputs": [],
   "source": [
    "!pip install flashtorch\n",
    "!pip install barbar"
   ]
  },
  {
   "cell_type": "code",
   "execution_count": null,
   "metadata": {
    "id": "iQ2MdUxaN8Rd"
   },
   "outputs": [],
   "source": [
    "!pip install git+https://github.com/williamedwardhahn/mpcr\n",
    "from mpcr import *\n",
    "from flashtorch.utils import apply_transforms\n",
    "from flashtorch.saliency import Backprop\n",
    "import itertools\n",
    "from sklearn.metrics import confusion_matrix\n",
    "from torchsummary import summary"
   ]
  },
  {
   "cell_type": "code",
   "execution_count": null,
   "metadata": {
    "id": "oEnrkEuS9-Pn"
   },
   "outputs": [],
   "source": [
    "drive.mount('/content/drive')"
   ]
  },
  {
   "cell_type": "code",
   "execution_count": null,
   "metadata": {
    "id": "Qn2aYqVhUO39"
   },
   "outputs": [],
   "source": [
    "# Create new folder on your google drive like below:"
   ]
  },
  {
   "cell_type": "code",
   "execution_count": null,
   "metadata": {
    "id": "QVxdJoRfn1qs"
   },
   "outputs": [],
   "source": [
    "data_dir = '/content/drive/My Drive/Data1/antsbeesdataset/'"
   ]
  },
  {
   "cell_type": "code",
   "execution_count": null,
   "metadata": {
    "id": "wnf0VNGq4594"
   },
   "outputs": [],
   "source": [
    "os.chdir(data_dir)"
   ]
  },
  {
   "cell_type": "code",
   "execution_count": null,
   "metadata": {
    "id": "HFdjHzsMVscx"
   },
   "outputs": [],
   "source": [
    "pwd"
   ]
  },
  {
   "cell_type": "code",
   "execution_count": null,
   "metadata": {
    "id": "yIih_WwPWiA8"
   },
   "outputs": [],
   "source": [
    "ls"
   ]
  },
  {
   "cell_type": "code",
   "execution_count": null,
   "metadata": {
    "id": "Y6MORnysVslr"
   },
   "outputs": [],
   "source": [
    "ls train"
   ]
  },
  {
   "cell_type": "code",
   "execution_count": null,
   "metadata": {
    "id": "_uYT1mU4VspK"
   },
   "outputs": [],
   "source": [
    "ls valid"
   ]
  },
  {
   "cell_type": "code",
   "execution_count": null,
   "metadata": {
    "id": "A06xSvZGXPKc"
   },
   "outputs": [],
   "source": [
    "dataset_labels =[\"ants\", \"bees\"] #<--- Replace with your labels "
   ]
  },
  {
   "cell_type": "code",
   "execution_count": null,
   "metadata": {
    "id": "5KYUTLyvmq16"
   },
   "outputs": [],
   "source": [
    "mean = np.array([0.485, 0.456, 0.406])\n",
    "std = np.array([0.229, 0.224, 0.225])\n",
    "\n",
    "data_transforms = {\n",
    "    'train': transforms.Compose([\n",
    "        transforms.RandomResizedCrop(224),  #Data Augmentation \n",
    "        transforms.RandomHorizontalFlip(),\n",
    "        transforms.ToTensor(),\n",
    "        transforms.Normalize(mean, std)\n",
    "    ]),\n",
    "    'valid': transforms.Compose([\n",
    "        transforms.Resize(256),\n",
    "        transforms.CenterCrop(224),\n",
    "        transforms.ToTensor(),\n",
    "        transforms.Normalize(mean, std)\n",
    "    ]),\n",
    "}"
   ]
  },
  {
   "cell_type": "code",
   "execution_count": null,
   "metadata": {
    "id": "Gbo55Yy-n22U"
   },
   "outputs": [],
   "source": [
    "batch_size = 16\n",
    "image_datasets = {x: datasets.ImageFolder(os.path.join(data_dir, x),data_transforms[x]) for x in ['train', 'valid']}\n",
    "dataloaders = {x: torch.utils.data.DataLoader(image_datasets[x], batch_size=batch_size, shuffle=True, num_workers=2) for x in ['train', 'valid']}\n",
    "dataset_sizes = {x: len(image_datasets[x]) for x in ['train', 'valid']}\n",
    "class_names = image_datasets['train'].classes\n",
    "device = torch.device(\"cuda:0\" if torch.cuda.is_available() else \"cpu\")"
   ]
  },
  {
   "cell_type": "code",
   "execution_count": null,
   "metadata": {
    "id": "Ez09bFHkDeSX"
   },
   "outputs": [],
   "source": [
    "dataset_sizes"
   ]
  },
  {
   "cell_type": "code",
   "execution_count": null,
   "metadata": {
    "id": "FnnNmNSbmq1-"
   },
   "outputs": [],
   "source": [
    "def imshow(inp, title = \" \"):\n",
    "    fig, ax = plt.subplots()\n",
    "    inp = inp.numpy().transpose((1, 2, 0))\n",
    "    inp = std * inp + mean\n",
    "    inp = np.clip(inp, 0, 1)\n",
    "    ax.imshow(inp)\n",
    "    plt.title(title, loc='center')\n",
    "    # fig.set_size_inches(5, 5)\n",
    "    plt.show()"
   ]
  },
  {
   "cell_type": "code",
   "execution_count": null,
   "metadata": {
    "id": "EQpGIubWxTgX"
   },
   "outputs": [],
   "source": [
    "inputs, classes = next(iter(dataloaders['train']))\n",
    "inputs = inputs[:4]\n",
    "classes = classes[:4] \n",
    "out = torchvision.utils.make_grid(inputs)\n",
    "imshow(out, title=[dataset_labels[x] for x in classes])"
   ]
  },
  {
   "cell_type": "code",
   "execution_count": null,
   "metadata": {
    "id": "axkRgm4-4OnT"
   },
   "outputs": [],
   "source": [
    "def train_model(model, num_epochs=25):\n",
    "\n",
    "    model = model.to(device)\n",
    "    criterion = nn.CrossEntropyLoss()\n",
    "    optimizer = optim.SGD(model.parameters(), lr=0.003, momentum=0.9)\n",
    "    scheduler = lr_scheduler.StepLR(optimizer, step_size=7, gamma=0.1)\n",
    "\n",
    "    for epoch in range(num_epochs):\n",
    "\n",
    "        print('Epoch: ',epoch+1,'/',num_epochs)\n",
    "\n",
    "        ###Train\n",
    "        model.train() \n",
    "        running_corrects = 0\n",
    "        for inputs, labels in dataloaders['train']:\n",
    "            inputs = inputs.to(device)\n",
    "            labels = labels.to(device)\n",
    "\n",
    "            optimizer.zero_grad()\n",
    "\n",
    "            outputs = model(inputs)\n",
    "\n",
    "            preds = torch.max(outputs, 1)[1]\n",
    "            running_corrects += torch.sum(preds == labels.data)\n",
    "\n",
    "            loss = criterion(outputs, labels)\n",
    "            loss.backward()\n",
    "            optimizer.step()\n",
    "\n",
    "        print(\"Train \", 'Acc: {:.2f}'.format(running_corrects.double()/dataset_sizes['train']))\n",
    "        \n",
    "        scheduler.step()\n",
    "    \n",
    "        ###Val\n",
    "        model.eval()  \n",
    "        running_corrects = 0\n",
    "        for inputs, labels in dataloaders['valid']:\n",
    "            inputs = inputs.to(device)\n",
    "            labels = labels.to(device)\n",
    "\n",
    "            outputs = model(inputs)\n",
    "            preds = torch.max(outputs, 1)[1]\n",
    "            running_corrects += torch.sum(preds == labels.data)\n",
    "\n",
    "        print(\"Valid \", 'Acc: {:.2f}'.format(running_corrects.double()/dataset_sizes['valid']))\n",
    "        print(\"#######################\")\n",
    "    return model"
   ]
  },
  {
   "cell_type": "code",
   "execution_count": null,
   "metadata": {
    "id": "XyCB52eimq2L"
   },
   "outputs": [],
   "source": [
    "model = models.alexnet(pretrained=True)"
   ]
  },
  {
   "cell_type": "code",
   "execution_count": null,
   "metadata": {
    "id": "VDiZ8RwDzIKa"
   },
   "outputs": [],
   "source": [
    "batch_size = 16\n",
    "image_datasets = {x: datasets.ImageFolder(os.path.join(data_dir, x),data_transforms[x]) for x in ['train', 'valid']}\n",
    "dataloaders = {x: torch.utils.data.DataLoader(image_datasets[x], batch_size=batch_size, shuffle=True, num_workers=2) for x in ['train', 'valid']}\n",
    "dataset_sizes = {x: len(image_datasets[x]) for x in ['train', 'valid']}\n",
    "class_names = image_datasets['train'].classes\n",
    "device = torch.device(\"cuda:0\" if torch.cuda.is_available() else \"cpu\")"
   ]
  },
  {
   "cell_type": "code",
   "execution_count": null,
   "metadata": {
    "id": "s_nr0Rghu2Wa"
   },
   "outputs": [],
   "source": [
    "model"
   ]
  },
  {
   "cell_type": "code",
   "execution_count": null,
   "metadata": {
    "id": "O5uQiBCIu23Z"
   },
   "outputs": [],
   "source": [
    "model.classifier[6] = nn.Linear(4096, 102)"
   ]
  },
  {
   "cell_type": "code",
   "execution_count": null,
   "metadata": {
    "id": "_tggQtSESiyk"
   },
   "outputs": [],
   "source": [
    "model"
   ]
  },
  {
   "cell_type": "code",
   "execution_count": null,
   "metadata": {
    "id": "coOooLy2mq2O"
   },
   "outputs": [],
   "source": [
    "model = train_model(model, num_epochs=3)"
   ]
  },
  {
   "cell_type": "code",
   "execution_count": null,
   "metadata": {
    "id": "psh8shcPzc2Z"
   },
   "outputs": [],
   "source": [
    "model = train_model(model, num_epochs=30)"
   ]
  },
  {
   "cell_type": "code",
   "execution_count": null,
   "metadata": {
    "id": "IjJGDhJrmq2H"
   },
   "outputs": [],
   "source": [
    "def visualize_model(model, num_images=16):\n",
    "    model.eval()\n",
    "    index = 0\n",
    "    for i, (inputs, labels) in enumerate(dataloaders['valid']):\n",
    "        inputs = inputs.to(device)\n",
    "        labels = labels.to(device)\n",
    "\n",
    "        outputs = model(inputs)\n",
    "\n",
    "        preds = torch.max(outputs, 1)[1]\n",
    "\n",
    "        for j in range(inputs.size()[0]):\n",
    "            index += 1\n",
    "            title1 = 'predicted: ' + dataset_labels[preds[j]] + '     class: ' + dataset_labels[labels[j]]\n",
    "            imshow(inputs.cpu().data[j],title1)\n",
    "\n",
    "            if index == num_images:\n",
    "                return"
   ]
  },
  {
   "cell_type": "code",
   "execution_count": null,
   "metadata": {
    "id": "zdupDdpnmq2R"
   },
   "outputs": [],
   "source": [
    "visualize_model(model)"
   ]
  },
  {
   "cell_type": "code",
   "execution_count": null,
   "metadata": {
    "id": "uoZJDq_1Yu3B"
   },
   "outputs": [],
   "source": [
    "summary(model, (3, 224, 224))"
   ]
  },
  {
   "cell_type": "code",
   "execution_count": null,
   "metadata": {
    "id": "J21A2vLA9k_7"
   },
   "outputs": [],
   "source": [
    "image = io.imread('https://cdn.branchcms.com/7XlaZw139w-1201/images/ant-pest-image.v1.jpg')\n",
    "plt.imshow(image);"
   ]
  },
  {
   "cell_type": "code",
   "execution_count": null,
   "metadata": {
    "id": "xFX9ZTbDZEpD"
   },
   "outputs": [],
   "source": [
    "img = apply_transforms(image).clone().detach().requires_grad_(True).to(device)"
   ]
  },
  {
   "cell_type": "code",
   "execution_count": null,
   "metadata": {
    "id": "_kqOLL_qYi9T"
   },
   "outputs": [],
   "source": [
    "outputs = model(img)\n",
    "preds = torch.max(outputs, 1)[1]"
   ]
  },
  {
   "cell_type": "code",
   "execution_count": null,
   "metadata": {
    "id": "Qoy2Lk-EZqY6"
   },
   "outputs": [],
   "source": [
    "print('predicted: ' + dataset_labels[preds])"
   ]
  },
  {
   "cell_type": "code",
   "execution_count": null,
   "metadata": {
    "id": "wXXMj9zNrnzp"
   },
   "outputs": [],
   "source": [
    "batch_size = 1024 #large batch size so we test all the data\n",
    "image_datasets = {x: datasets.ImageFolder(os.path.join(data_dir, x),data_transforms[x]) for x in ['train', 'valid']}\n",
    "dataloaders = {x: torch.utils.data.DataLoader(image_datasets[x], batch_size=batch_size, shuffle=True, num_workers=4) for x in ['train', 'valid']}\n",
    "dataset_sizes = {x: len(image_datasets[x]) for x in ['train', 'valid']}\n",
    "class_names = image_datasets['train'].classes\n",
    "device = torch.device(\"cuda:0\" if torch.cuda.is_available() else \"cpu\")"
   ]
  },
  {
   "cell_type": "code",
   "execution_count": null,
   "metadata": {
    "id": "b2KEdDcNrn2q"
   },
   "outputs": [],
   "source": [
    "inputs,labels = next(iter(dataloaders['valid']))\n",
    "inputs = inputs.to(device)\n",
    "labels = labels.detach().cpu().numpy()"
   ]
  },
  {
   "cell_type": "code",
   "execution_count": null,
   "metadata": {
    "id": "Dq2_s3Aql314"
   },
   "outputs": [],
   "source": [
    "outputs = model(inputs)\n",
    "preds = torch.max(outputs, 1)[1].detach().cpu().numpy()"
   ]
  },
  {
   "cell_type": "code",
   "execution_count": null,
   "metadata": {
    "id": "gGh0JsCIeozD"
   },
   "outputs": [],
   "source": [
    "cm = confusion_matrix(preds.reshape(-1),labels)"
   ]
  },
  {
   "cell_type": "code",
   "execution_count": null,
   "metadata": {
    "id": "yC5W_GpbjCZR"
   },
   "outputs": [],
   "source": [
    "print(\"Confusion Matrix : \")\n",
    "cm"
   ]
  },
  {
   "cell_type": "markdown",
   "metadata": {
    "id": "sAMFS1CV6Nr4"
   },
   "source": [
    "## Load Data Deck"
   ]
  },
  {
   "cell_type": "markdown",
   "metadata": {
    "id": "gs6SIJdi6VPC"
   },
   "source": [
    "Google Slides URL: be sure to share slides with \"Anyone with Link\""
   ]
  },
  {
   "cell_type": "code",
   "execution_count": null,
   "metadata": {
    "id": "rM8T_hc-4Ovb"
   },
   "outputs": [],
   "source": [
    "url = \"https://docs.google.com/presentation/d/1lyE52a0yLCu9iUiKeFmdKayGJhu2Z6fyToXEMKeigoY/edit#slide=id.p\""
   ]
  },
  {
   "cell_type": "code",
   "execution_count": null,
   "metadata": {
    "id": "h3oUVsnZ4qzO"
   },
   "outputs": [],
   "source": [
    "%%capture\n",
    "!apt-get install poppler-utils\n",
    "!pip install pdf2image"
   ]
  },
  {
   "cell_type": "code",
   "execution_count": null,
   "metadata": {
    "id": "anvF-T0u42Te"
   },
   "outputs": [],
   "source": [
    "import requests\n",
    "from pdf2image import convert_from_path\n",
    "import matplotlib.pyplot as plt\n",
    "import numpy as np\n",
    "\n",
    "def plot(x):\n",
    "    fig, ax = plt.subplots()\n",
    "    im = ax.imshow(x, cmap = 'gray') \n",
    "    ax.axis('off')\n",
    "    fig.set_size_inches(5, 5)\n",
    "    plt.show()\n",
    "    \n",
    "def get_slides(url):\n",
    "    url_head = \"https://docs.google.com/presentation/d/\"\n",
    "    url_body = url.split('/')[5]\n",
    "    page_id = url.split('.')[-1]\n",
    "    url = url_head + url_body + \"/export/pdf?id=\" + url_body + \"&pageid=\" + page_id\n",
    "    r = requests.get(url, allow_redirects=True)\n",
    "    open('file.pdf', 'wb').write(r.content)\n",
    "    images = convert_from_path('file.pdf', 500)\n",
    "    return images"
   ]
  },
  {
   "cell_type": "code",
   "execution_count": null,
   "metadata": {
    "id": "7HEXN4XC586v"
   },
   "outputs": [],
   "source": [
    "images = get_slides(url)\n",
    "\n",
    "for i, image in enumerate(images):\n",
    "    plot(image)\n",
    "    print(np.array(image).shape)\n",
    "    # image.save('out_'+str(i)+'.jpg', 'JPEG')\n",
    "\n",
    "    img = apply_transforms(image).clone().detach().requires_grad_(True).to(device)\n",
    "    outputs = net(img)\n",
    "    preds = torch.max(outputs, 1)[1]\n",
    "    preds = preds.item()\n",
    "    LABELS_URL = 'https://s3.amazonaws.com/mlpipes/pytorch-quick-start/labels.json'\n",
    "    labels = {int(key):value for (key, value) in requests.get(LABELS_URL).json().items()}\n",
    "    print(labels[preds])"
   ]
  },
  {
   "cell_type": "code",
   "execution_count": null,
   "metadata": {
    "id": "n5OJ6ifwcwWR"
   },
   "outputs": [],
   "source": []
  }
 ],
 "metadata": {
  "accelerator": "GPU",
  "colab": {
   "collapsed_sections": [
    "aqdMV6v-2o3h",
    "sAMFS1CV6Nr4"
   ],
   "name": "MPCR Bootcamp Book.ipynb",
   "provenance": []
  },
  "kernelspec": {
   "display_name": "Python 3 (ipykernel)",
   "language": "python",
   "name": "python3"
  },
  "language_info": {
   "codemirror_mode": {
    "name": "ipython",
    "version": 3
   },
   "file_extension": ".py",
   "mimetype": "text/x-python",
   "name": "python",
   "nbconvert_exporter": "python",
   "pygments_lexer": "ipython3",
   "version": "3.10.4"
  },
  "widgets": {
   "application/vnd.jupyter.widget-state+json": {
    "0948f7d31d2443438a75a249fd923dc3": {
     "model_module": "@jupyter-widgets/base",
     "model_module_version": "1.2.0",
     "model_name": "LayoutModel",
     "state": {
      "_model_module": "@jupyter-widgets/base",
      "_model_module_version": "1.2.0",
      "_model_name": "LayoutModel",
      "_view_count": null,
      "_view_module": "@jupyter-widgets/base",
      "_view_module_version": "1.2.0",
      "_view_name": "LayoutView",
      "align_content": null,
      "align_items": null,
      "align_self": null,
      "border": null,
      "bottom": null,
      "display": null,
      "flex": null,
      "flex_flow": null,
      "grid_area": null,
      "grid_auto_columns": null,
      "grid_auto_flow": null,
      "grid_auto_rows": null,
      "grid_column": null,
      "grid_gap": null,
      "grid_row": null,
      "grid_template_areas": null,
      "grid_template_columns": null,
      "grid_template_rows": null,
      "height": null,
      "justify_content": null,
      "justify_items": null,
      "left": null,
      "margin": null,
      "max_height": null,
      "max_width": null,
      "min_height": null,
      "min_width": null,
      "object_fit": null,
      "object_position": null,
      "order": null,
      "overflow": null,
      "overflow_x": null,
      "overflow_y": null,
      "padding": null,
      "right": null,
      "top": null,
      "visibility": null,
      "width": null
     }
    },
    "0adb8adecd2f436ca0e26989496d506b": {
     "model_module": "@jupyter-widgets/controls",
     "model_module_version": "1.5.0",
     "model_name": "ProgressStyleModel",
     "state": {
      "_model_module": "@jupyter-widgets/controls",
      "_model_module_version": "1.5.0",
      "_model_name": "ProgressStyleModel",
      "_view_count": null,
      "_view_module": "@jupyter-widgets/base",
      "_view_module_version": "1.2.0",
      "_view_name": "StyleView",
      "bar_color": null,
      "description_width": ""
     }
    },
    "0bfa056c21814945b0f0391b5ab4586e": {
     "model_module": "@jupyter-widgets/base",
     "model_module_version": "1.2.0",
     "model_name": "LayoutModel",
     "state": {
      "_model_module": "@jupyter-widgets/base",
      "_model_module_version": "1.2.0",
      "_model_name": "LayoutModel",
      "_view_count": null,
      "_view_module": "@jupyter-widgets/base",
      "_view_module_version": "1.2.0",
      "_view_name": "LayoutView",
      "align_content": null,
      "align_items": null,
      "align_self": null,
      "border": null,
      "bottom": null,
      "display": null,
      "flex": null,
      "flex_flow": null,
      "grid_area": null,
      "grid_auto_columns": null,
      "grid_auto_flow": null,
      "grid_auto_rows": null,
      "grid_column": null,
      "grid_gap": null,
      "grid_row": null,
      "grid_template_areas": null,
      "grid_template_columns": null,
      "grid_template_rows": null,
      "height": null,
      "justify_content": null,
      "justify_items": null,
      "left": null,
      "margin": null,
      "max_height": null,
      "max_width": null,
      "min_height": null,
      "min_width": null,
      "object_fit": null,
      "object_position": null,
      "order": null,
      "overflow": null,
      "overflow_x": null,
      "overflow_y": null,
      "padding": null,
      "right": null,
      "top": null,
      "visibility": null,
      "width": null
     }
    },
    "0c6a1dda56bf43b0a9067f470ca4fc87": {
     "model_module": "@jupyter-widgets/base",
     "model_module_version": "1.2.0",
     "model_name": "LayoutModel",
     "state": {
      "_model_module": "@jupyter-widgets/base",
      "_model_module_version": "1.2.0",
      "_model_name": "LayoutModel",
      "_view_count": null,
      "_view_module": "@jupyter-widgets/base",
      "_view_module_version": "1.2.0",
      "_view_name": "LayoutView",
      "align_content": null,
      "align_items": null,
      "align_self": null,
      "border": null,
      "bottom": null,
      "display": null,
      "flex": null,
      "flex_flow": null,
      "grid_area": null,
      "grid_auto_columns": null,
      "grid_auto_flow": null,
      "grid_auto_rows": null,
      "grid_column": null,
      "grid_gap": null,
      "grid_row": null,
      "grid_template_areas": null,
      "grid_template_columns": null,
      "grid_template_rows": null,
      "height": null,
      "justify_content": null,
      "justify_items": null,
      "left": null,
      "margin": null,
      "max_height": null,
      "max_width": null,
      "min_height": null,
      "min_width": null,
      "object_fit": null,
      "object_position": null,
      "order": null,
      "overflow": null,
      "overflow_x": null,
      "overflow_y": null,
      "padding": null,
      "right": null,
      "top": null,
      "visibility": null,
      "width": null
     }
    },
    "0c712b356bb746dcae33c69f06c2d2d0": {
     "model_module": "@jupyter-widgets/base",
     "model_module_version": "1.2.0",
     "model_name": "LayoutModel",
     "state": {
      "_model_module": "@jupyter-widgets/base",
      "_model_module_version": "1.2.0",
      "_model_name": "LayoutModel",
      "_view_count": null,
      "_view_module": "@jupyter-widgets/base",
      "_view_module_version": "1.2.0",
      "_view_name": "LayoutView",
      "align_content": null,
      "align_items": null,
      "align_self": null,
      "border": null,
      "bottom": null,
      "display": null,
      "flex": null,
      "flex_flow": null,
      "grid_area": null,
      "grid_auto_columns": null,
      "grid_auto_flow": null,
      "grid_auto_rows": null,
      "grid_column": null,
      "grid_gap": null,
      "grid_row": null,
      "grid_template_areas": null,
      "grid_template_columns": null,
      "grid_template_rows": null,
      "height": null,
      "justify_content": null,
      "justify_items": null,
      "left": null,
      "margin": null,
      "max_height": null,
      "max_width": null,
      "min_height": null,
      "min_width": null,
      "object_fit": null,
      "object_position": null,
      "order": null,
      "overflow": null,
      "overflow_x": null,
      "overflow_y": null,
      "padding": null,
      "right": null,
      "top": null,
      "visibility": null,
      "width": null
     }
    },
    "1187e03ae062437c80629b458ed0bc92": {
     "model_module": "@jupyter-widgets/base",
     "model_module_version": "1.2.0",
     "model_name": "LayoutModel",
     "state": {
      "_model_module": "@jupyter-widgets/base",
      "_model_module_version": "1.2.0",
      "_model_name": "LayoutModel",
      "_view_count": null,
      "_view_module": "@jupyter-widgets/base",
      "_view_module_version": "1.2.0",
      "_view_name": "LayoutView",
      "align_content": null,
      "align_items": null,
      "align_self": null,
      "border": null,
      "bottom": null,
      "display": null,
      "flex": null,
      "flex_flow": null,
      "grid_area": null,
      "grid_auto_columns": null,
      "grid_auto_flow": null,
      "grid_auto_rows": null,
      "grid_column": null,
      "grid_gap": null,
      "grid_row": null,
      "grid_template_areas": null,
      "grid_template_columns": null,
      "grid_template_rows": null,
      "height": null,
      "justify_content": null,
      "justify_items": null,
      "left": null,
      "margin": null,
      "max_height": null,
      "max_width": null,
      "min_height": null,
      "min_width": null,
      "object_fit": null,
      "object_position": null,
      "order": null,
      "overflow": null,
      "overflow_x": null,
      "overflow_y": null,
      "padding": null,
      "right": null,
      "top": null,
      "visibility": null,
      "width": null
     }
    },
    "1f684b942c75456e82fd7109f46eb191": {
     "model_module": "@jupyter-widgets/base",
     "model_module_version": "1.2.0",
     "model_name": "LayoutModel",
     "state": {
      "_model_module": "@jupyter-widgets/base",
      "_model_module_version": "1.2.0",
      "_model_name": "LayoutModel",
      "_view_count": null,
      "_view_module": "@jupyter-widgets/base",
      "_view_module_version": "1.2.0",
      "_view_name": "LayoutView",
      "align_content": null,
      "align_items": null,
      "align_self": null,
      "border": null,
      "bottom": null,
      "display": null,
      "flex": null,
      "flex_flow": null,
      "grid_area": null,
      "grid_auto_columns": null,
      "grid_auto_flow": null,
      "grid_auto_rows": null,
      "grid_column": null,
      "grid_gap": null,
      "grid_row": null,
      "grid_template_areas": null,
      "grid_template_columns": null,
      "grid_template_rows": null,
      "height": null,
      "justify_content": null,
      "justify_items": null,
      "left": null,
      "margin": null,
      "max_height": null,
      "max_width": null,
      "min_height": null,
      "min_width": null,
      "object_fit": null,
      "object_position": null,
      "order": null,
      "overflow": null,
      "overflow_x": null,
      "overflow_y": null,
      "padding": null,
      "right": null,
      "top": null,
      "visibility": null,
      "width": null
     }
    },
    "231bcacb60d34d8ca6616631b7d09198": {
     "model_module": "@jupyter-widgets/controls",
     "model_module_version": "1.5.0",
     "model_name": "FloatProgressModel",
     "state": {
      "_dom_classes": [],
      "_model_module": "@jupyter-widgets/controls",
      "_model_module_version": "1.5.0",
      "_model_name": "FloatProgressModel",
      "_view_count": null,
      "_view_module": "@jupyter-widgets/controls",
      "_view_module_version": "1.5.0",
      "_view_name": "ProgressView",
      "bar_style": "success",
      "description": "",
      "description_tooltip": null,
      "layout": "IPY_MODEL_681f428deb214852b42bc99efd3be3ff",
      "max": 4542,
      "min": 0,
      "orientation": "horizontal",
      "style": "IPY_MODEL_0adb8adecd2f436ca0e26989496d506b",
      "value": 4542
     }
    },
    "283353d44ec943aea16fbce2b9ab4021": {
     "model_module": "@jupyter-widgets/base",
     "model_module_version": "1.2.0",
     "model_name": "LayoutModel",
     "state": {
      "_model_module": "@jupyter-widgets/base",
      "_model_module_version": "1.2.0",
      "_model_name": "LayoutModel",
      "_view_count": null,
      "_view_module": "@jupyter-widgets/base",
      "_view_module_version": "1.2.0",
      "_view_name": "LayoutView",
      "align_content": null,
      "align_items": null,
      "align_self": null,
      "border": null,
      "bottom": null,
      "display": null,
      "flex": null,
      "flex_flow": null,
      "grid_area": null,
      "grid_auto_columns": null,
      "grid_auto_flow": null,
      "grid_auto_rows": null,
      "grid_column": null,
      "grid_gap": null,
      "grid_row": null,
      "grid_template_areas": null,
      "grid_template_columns": null,
      "grid_template_rows": null,
      "height": null,
      "justify_content": null,
      "justify_items": null,
      "left": null,
      "margin": null,
      "max_height": null,
      "max_width": null,
      "min_height": null,
      "min_width": null,
      "object_fit": null,
      "object_position": null,
      "order": null,
      "overflow": null,
      "overflow_x": null,
      "overflow_y": null,
      "padding": null,
      "right": null,
      "top": null,
      "visibility": null,
      "width": null
     }
    },
    "2cb1ad043dd447db9aaeac213799c6f5": {
     "model_module": "@jupyter-widgets/base",
     "model_module_version": "1.2.0",
     "model_name": "LayoutModel",
     "state": {
      "_model_module": "@jupyter-widgets/base",
      "_model_module_version": "1.2.0",
      "_model_name": "LayoutModel",
      "_view_count": null,
      "_view_module": "@jupyter-widgets/base",
      "_view_module_version": "1.2.0",
      "_view_name": "LayoutView",
      "align_content": null,
      "align_items": null,
      "align_self": null,
      "border": null,
      "bottom": null,
      "display": null,
      "flex": null,
      "flex_flow": null,
      "grid_area": null,
      "grid_auto_columns": null,
      "grid_auto_flow": null,
      "grid_auto_rows": null,
      "grid_column": null,
      "grid_gap": null,
      "grid_row": null,
      "grid_template_areas": null,
      "grid_template_columns": null,
      "grid_template_rows": null,
      "height": null,
      "justify_content": null,
      "justify_items": null,
      "left": null,
      "margin": null,
      "max_height": null,
      "max_width": null,
      "min_height": null,
      "min_width": null,
      "object_fit": null,
      "object_position": null,
      "order": null,
      "overflow": null,
      "overflow_x": null,
      "overflow_y": null,
      "padding": null,
      "right": null,
      "top": null,
      "visibility": null,
      "width": null
     }
    },
    "3632c3cd720e4e10a257ada1ce648f2a": {
     "model_module": "@jupyter-widgets/controls",
     "model_module_version": "1.5.0",
     "model_name": "ProgressStyleModel",
     "state": {
      "_model_module": "@jupyter-widgets/controls",
      "_model_module_version": "1.5.0",
      "_model_name": "ProgressStyleModel",
      "_view_count": null,
      "_view_module": "@jupyter-widgets/base",
      "_view_module_version": "1.2.0",
      "_view_name": "StyleView",
      "bar_color": null,
      "description_width": ""
     }
    },
    "42539b87d043401f92dc6b43601b89e8": {
     "model_module": "@jupyter-widgets/controls",
     "model_module_version": "1.5.0",
     "model_name": "HTMLModel",
     "state": {
      "_dom_classes": [],
      "_model_module": "@jupyter-widgets/controls",
      "_model_module_version": "1.5.0",
      "_model_name": "HTMLModel",
      "_view_count": null,
      "_view_module": "@jupyter-widgets/controls",
      "_view_module_version": "1.5.0",
      "_view_name": "HTMLView",
      "description": "",
      "description_tooltip": null,
      "layout": "IPY_MODEL_7c8ab9c641314c91b7a51337dbece5db",
      "placeholder": "​",
      "style": "IPY_MODEL_8fcfc540e7c649758c33462d31224c29",
      "value": " 28881/28881 [00:00&lt;00:00, 711299.30it/s]"
     }
    },
    "428619ec3687490aba5387922614cff0": {
     "model_module": "@jupyter-widgets/controls",
     "model_module_version": "1.5.0",
     "model_name": "FloatProgressModel",
     "state": {
      "_dom_classes": [],
      "_model_module": "@jupyter-widgets/controls",
      "_model_module_version": "1.5.0",
      "_model_name": "FloatProgressModel",
      "_view_count": null,
      "_view_module": "@jupyter-widgets/controls",
      "_view_module_version": "1.5.0",
      "_view_name": "ProgressView",
      "bar_style": "success",
      "description": "",
      "description_tooltip": null,
      "layout": "IPY_MODEL_db657f4281874c30bc4aa591456d9323",
      "max": 28881,
      "min": 0,
      "orientation": "horizontal",
      "style": "IPY_MODEL_3632c3cd720e4e10a257ada1ce648f2a",
      "value": 28881
     }
    },
    "4df1f458d7864054a3977a68b092cffc": {
     "model_module": "@jupyter-widgets/base",
     "model_module_version": "1.2.0",
     "model_name": "LayoutModel",
     "state": {
      "_model_module": "@jupyter-widgets/base",
      "_model_module_version": "1.2.0",
      "_model_name": "LayoutModel",
      "_view_count": null,
      "_view_module": "@jupyter-widgets/base",
      "_view_module_version": "1.2.0",
      "_view_name": "LayoutView",
      "align_content": null,
      "align_items": null,
      "align_self": null,
      "border": null,
      "bottom": null,
      "display": null,
      "flex": null,
      "flex_flow": null,
      "grid_area": null,
      "grid_auto_columns": null,
      "grid_auto_flow": null,
      "grid_auto_rows": null,
      "grid_column": null,
      "grid_gap": null,
      "grid_row": null,
      "grid_template_areas": null,
      "grid_template_columns": null,
      "grid_template_rows": null,
      "height": null,
      "justify_content": null,
      "justify_items": null,
      "left": null,
      "margin": null,
      "max_height": null,
      "max_width": null,
      "min_height": null,
      "min_width": null,
      "object_fit": null,
      "object_position": null,
      "order": null,
      "overflow": null,
      "overflow_x": null,
      "overflow_y": null,
      "padding": null,
      "right": null,
      "top": null,
      "visibility": null,
      "width": null
     }
    },
    "4fd23458319e4116b1409770e89d362a": {
     "model_module": "@jupyter-widgets/controls",
     "model_module_version": "1.5.0",
     "model_name": "ProgressStyleModel",
     "state": {
      "_model_module": "@jupyter-widgets/controls",
      "_model_module_version": "1.5.0",
      "_model_name": "ProgressStyleModel",
      "_view_count": null,
      "_view_module": "@jupyter-widgets/base",
      "_view_module_version": "1.2.0",
      "_view_name": "StyleView",
      "bar_color": null,
      "description_width": ""
     }
    },
    "5a55176582bb400c826b96c2137f74ce": {
     "model_module": "@jupyter-widgets/controls",
     "model_module_version": "1.5.0",
     "model_name": "HTMLModel",
     "state": {
      "_dom_classes": [],
      "_model_module": "@jupyter-widgets/controls",
      "_model_module_version": "1.5.0",
      "_model_name": "HTMLModel",
      "_view_count": null,
      "_view_module": "@jupyter-widgets/controls",
      "_view_module_version": "1.5.0",
      "_view_name": "HTMLView",
      "description": "",
      "description_tooltip": null,
      "layout": "IPY_MODEL_b60642e2ba664bfc8569e924c6ad1200",
      "placeholder": "​",
      "style": "IPY_MODEL_a8040701bc364430ab4b0cda7632a141",
      "value": " 9912422/9912422 [00:00&lt;00:00, 42661019.81it/s]"
     }
    },
    "681f428deb214852b42bc99efd3be3ff": {
     "model_module": "@jupyter-widgets/base",
     "model_module_version": "1.2.0",
     "model_name": "LayoutModel",
     "state": {
      "_model_module": "@jupyter-widgets/base",
      "_model_module_version": "1.2.0",
      "_model_name": "LayoutModel",
      "_view_count": null,
      "_view_module": "@jupyter-widgets/base",
      "_view_module_version": "1.2.0",
      "_view_name": "LayoutView",
      "align_content": null,
      "align_items": null,
      "align_self": null,
      "border": null,
      "bottom": null,
      "display": null,
      "flex": null,
      "flex_flow": null,
      "grid_area": null,
      "grid_auto_columns": null,
      "grid_auto_flow": null,
      "grid_auto_rows": null,
      "grid_column": null,
      "grid_gap": null,
      "grid_row": null,
      "grid_template_areas": null,
      "grid_template_columns": null,
      "grid_template_rows": null,
      "height": null,
      "justify_content": null,
      "justify_items": null,
      "left": null,
      "margin": null,
      "max_height": null,
      "max_width": null,
      "min_height": null,
      "min_width": null,
      "object_fit": null,
      "object_position": null,
      "order": null,
      "overflow": null,
      "overflow_x": null,
      "overflow_y": null,
      "padding": null,
      "right": null,
      "top": null,
      "visibility": null,
      "width": null
     }
    },
    "6cb9acdda6484bfdb2b3c8489e4488de": {
     "model_module": "@jupyter-widgets/controls",
     "model_module_version": "1.5.0",
     "model_name": "HTMLModel",
     "state": {
      "_dom_classes": [],
      "_model_module": "@jupyter-widgets/controls",
      "_model_module_version": "1.5.0",
      "_model_name": "HTMLModel",
      "_view_count": null,
      "_view_module": "@jupyter-widgets/controls",
      "_view_module_version": "1.5.0",
      "_view_name": "HTMLView",
      "description": "",
      "description_tooltip": null,
      "layout": "IPY_MODEL_92308f803af74b5ab74062d000529d27",
      "placeholder": "​",
      "style": "IPY_MODEL_babcf99269d7486982edf2fc0b5cf7d5",
      "value": "100%"
     }
    },
    "6dfd7182111a43d1944b22f45d0a19c0": {
     "model_module": "@jupyter-widgets/controls",
     "model_module_version": "1.5.0",
     "model_name": "HTMLModel",
     "state": {
      "_dom_classes": [],
      "_model_module": "@jupyter-widgets/controls",
      "_model_module_version": "1.5.0",
      "_model_name": "HTMLModel",
      "_view_count": null,
      "_view_module": "@jupyter-widgets/controls",
      "_view_module_version": "1.5.0",
      "_view_name": "HTMLView",
      "description": "",
      "description_tooltip": null,
      "layout": "IPY_MODEL_1f684b942c75456e82fd7109f46eb191",
      "placeholder": "​",
      "style": "IPY_MODEL_8d9b0c20c70d461bb33e55e4575906b4",
      "value": "100%"
     }
    },
    "6f6ab657eb4f404fb2f0be83429ca4c9": {
     "model_module": "@jupyter-widgets/controls",
     "model_module_version": "1.5.0",
     "model_name": "DescriptionStyleModel",
     "state": {
      "_model_module": "@jupyter-widgets/controls",
      "_model_module_version": "1.5.0",
      "_model_name": "DescriptionStyleModel",
      "_view_count": null,
      "_view_module": "@jupyter-widgets/base",
      "_view_module_version": "1.2.0",
      "_view_name": "StyleView",
      "description_width": ""
     }
    },
    "72c6a97d007b450c9c010cd0ed655f18": {
     "model_module": "@jupyter-widgets/controls",
     "model_module_version": "1.5.0",
     "model_name": "ProgressStyleModel",
     "state": {
      "_model_module": "@jupyter-widgets/controls",
      "_model_module_version": "1.5.0",
      "_model_name": "ProgressStyleModel",
      "_view_count": null,
      "_view_module": "@jupyter-widgets/base",
      "_view_module_version": "1.2.0",
      "_view_name": "StyleView",
      "bar_color": null,
      "description_width": ""
     }
    },
    "73a89374cbc44dd4b427a65d9db3bd85": {
     "model_module": "@jupyter-widgets/controls",
     "model_module_version": "1.5.0",
     "model_name": "HTMLModel",
     "state": {
      "_dom_classes": [],
      "_model_module": "@jupyter-widgets/controls",
      "_model_module_version": "1.5.0",
      "_model_name": "HTMLModel",
      "_view_count": null,
      "_view_module": "@jupyter-widgets/controls",
      "_view_module_version": "1.5.0",
      "_view_name": "HTMLView",
      "description": "",
      "description_tooltip": null,
      "layout": "IPY_MODEL_e94384a90b4749b0bb416a2ce3837322",
      "placeholder": "​",
      "style": "IPY_MODEL_6f6ab657eb4f404fb2f0be83429ca4c9",
      "value": "100%"
     }
    },
    "77651612bfdd43cc8c5713efe93646fc": {
     "model_module": "@jupyter-widgets/controls",
     "model_module_version": "1.5.0",
     "model_name": "HBoxModel",
     "state": {
      "_dom_classes": [],
      "_model_module": "@jupyter-widgets/controls",
      "_model_module_version": "1.5.0",
      "_model_name": "HBoxModel",
      "_view_count": null,
      "_view_module": "@jupyter-widgets/controls",
      "_view_module_version": "1.5.0",
      "_view_name": "HBoxView",
      "box_style": "",
      "children": [
       "IPY_MODEL_73a89374cbc44dd4b427a65d9db3bd85",
       "IPY_MODEL_428619ec3687490aba5387922614cff0",
       "IPY_MODEL_42539b87d043401f92dc6b43601b89e8"
      ],
      "layout": "IPY_MODEL_283353d44ec943aea16fbce2b9ab4021"
     }
    },
    "7c8ab9c641314c91b7a51337dbece5db": {
     "model_module": "@jupyter-widgets/base",
     "model_module_version": "1.2.0",
     "model_name": "LayoutModel",
     "state": {
      "_model_module": "@jupyter-widgets/base",
      "_model_module_version": "1.2.0",
      "_model_name": "LayoutModel",
      "_view_count": null,
      "_view_module": "@jupyter-widgets/base",
      "_view_module_version": "1.2.0",
      "_view_name": "LayoutView",
      "align_content": null,
      "align_items": null,
      "align_self": null,
      "border": null,
      "bottom": null,
      "display": null,
      "flex": null,
      "flex_flow": null,
      "grid_area": null,
      "grid_auto_columns": null,
      "grid_auto_flow": null,
      "grid_auto_rows": null,
      "grid_column": null,
      "grid_gap": null,
      "grid_row": null,
      "grid_template_areas": null,
      "grid_template_columns": null,
      "grid_template_rows": null,
      "height": null,
      "justify_content": null,
      "justify_items": null,
      "left": null,
      "margin": null,
      "max_height": null,
      "max_width": null,
      "min_height": null,
      "min_width": null,
      "object_fit": null,
      "object_position": null,
      "order": null,
      "overflow": null,
      "overflow_x": null,
      "overflow_y": null,
      "padding": null,
      "right": null,
      "top": null,
      "visibility": null,
      "width": null
     }
    },
    "8d9b0c20c70d461bb33e55e4575906b4": {
     "model_module": "@jupyter-widgets/controls",
     "model_module_version": "1.5.0",
     "model_name": "DescriptionStyleModel",
     "state": {
      "_model_module": "@jupyter-widgets/controls",
      "_model_module_version": "1.5.0",
      "_model_name": "DescriptionStyleModel",
      "_view_count": null,
      "_view_module": "@jupyter-widgets/base",
      "_view_module_version": "1.2.0",
      "_view_name": "StyleView",
      "description_width": ""
     }
    },
    "8fcfc540e7c649758c33462d31224c29": {
     "model_module": "@jupyter-widgets/controls",
     "model_module_version": "1.5.0",
     "model_name": "DescriptionStyleModel",
     "state": {
      "_model_module": "@jupyter-widgets/controls",
      "_model_module_version": "1.5.0",
      "_model_name": "DescriptionStyleModel",
      "_view_count": null,
      "_view_module": "@jupyter-widgets/base",
      "_view_module_version": "1.2.0",
      "_view_name": "StyleView",
      "description_width": ""
     }
    },
    "92308f803af74b5ab74062d000529d27": {
     "model_module": "@jupyter-widgets/base",
     "model_module_version": "1.2.0",
     "model_name": "LayoutModel",
     "state": {
      "_model_module": "@jupyter-widgets/base",
      "_model_module_version": "1.2.0",
      "_model_name": "LayoutModel",
      "_view_count": null,
      "_view_module": "@jupyter-widgets/base",
      "_view_module_version": "1.2.0",
      "_view_name": "LayoutView",
      "align_content": null,
      "align_items": null,
      "align_self": null,
      "border": null,
      "bottom": null,
      "display": null,
      "flex": null,
      "flex_flow": null,
      "grid_area": null,
      "grid_auto_columns": null,
      "grid_auto_flow": null,
      "grid_auto_rows": null,
      "grid_column": null,
      "grid_gap": null,
      "grid_row": null,
      "grid_template_areas": null,
      "grid_template_columns": null,
      "grid_template_rows": null,
      "height": null,
      "justify_content": null,
      "justify_items": null,
      "left": null,
      "margin": null,
      "max_height": null,
      "max_width": null,
      "min_height": null,
      "min_width": null,
      "object_fit": null,
      "object_position": null,
      "order": null,
      "overflow": null,
      "overflow_x": null,
      "overflow_y": null,
      "padding": null,
      "right": null,
      "top": null,
      "visibility": null,
      "width": null
     }
    },
    "9bcbd31c33034126adeab4464e3ef73d": {
     "model_module": "@jupyter-widgets/controls",
     "model_module_version": "1.5.0",
     "model_name": "DescriptionStyleModel",
     "state": {
      "_model_module": "@jupyter-widgets/controls",
      "_model_module_version": "1.5.0",
      "_model_name": "DescriptionStyleModel",
      "_view_count": null,
      "_view_module": "@jupyter-widgets/base",
      "_view_module_version": "1.2.0",
      "_view_name": "StyleView",
      "description_width": ""
     }
    },
    "a32aef8210804968900721dba6b6d4e9": {
     "model_module": "@jupyter-widgets/base",
     "model_module_version": "1.2.0",
     "model_name": "LayoutModel",
     "state": {
      "_model_module": "@jupyter-widgets/base",
      "_model_module_version": "1.2.0",
      "_model_name": "LayoutModel",
      "_view_count": null,
      "_view_module": "@jupyter-widgets/base",
      "_view_module_version": "1.2.0",
      "_view_name": "LayoutView",
      "align_content": null,
      "align_items": null,
      "align_self": null,
      "border": null,
      "bottom": null,
      "display": null,
      "flex": null,
      "flex_flow": null,
      "grid_area": null,
      "grid_auto_columns": null,
      "grid_auto_flow": null,
      "grid_auto_rows": null,
      "grid_column": null,
      "grid_gap": null,
      "grid_row": null,
      "grid_template_areas": null,
      "grid_template_columns": null,
      "grid_template_rows": null,
      "height": null,
      "justify_content": null,
      "justify_items": null,
      "left": null,
      "margin": null,
      "max_height": null,
      "max_width": null,
      "min_height": null,
      "min_width": null,
      "object_fit": null,
      "object_position": null,
      "order": null,
      "overflow": null,
      "overflow_x": null,
      "overflow_y": null,
      "padding": null,
      "right": null,
      "top": null,
      "visibility": null,
      "width": null
     }
    },
    "a8040701bc364430ab4b0cda7632a141": {
     "model_module": "@jupyter-widgets/controls",
     "model_module_version": "1.5.0",
     "model_name": "DescriptionStyleModel",
     "state": {
      "_model_module": "@jupyter-widgets/controls",
      "_model_module_version": "1.5.0",
      "_model_name": "DescriptionStyleModel",
      "_view_count": null,
      "_view_module": "@jupyter-widgets/base",
      "_view_module_version": "1.2.0",
      "_view_name": "StyleView",
      "description_width": ""
     }
    },
    "b41e163541cc4d9baf18a3f18908deb3": {
     "model_module": "@jupyter-widgets/controls",
     "model_module_version": "1.5.0",
     "model_name": "HBoxModel",
     "state": {
      "_dom_classes": [],
      "_model_module": "@jupyter-widgets/controls",
      "_model_module_version": "1.5.0",
      "_model_name": "HBoxModel",
      "_view_count": null,
      "_view_module": "@jupyter-widgets/controls",
      "_view_module_version": "1.5.0",
      "_view_name": "HBoxView",
      "box_style": "",
      "children": [
       "IPY_MODEL_6cb9acdda6484bfdb2b3c8489e4488de",
       "IPY_MODEL_231bcacb60d34d8ca6616631b7d09198",
       "IPY_MODEL_f0e3f28a1c7641e3bf1f47ad05aa7063"
      ],
      "layout": "IPY_MODEL_0c712b356bb746dcae33c69f06c2d2d0"
     }
    },
    "b5d32061a4f74ca0a604ea2a422b7c05": {
     "model_module": "@jupyter-widgets/controls",
     "model_module_version": "1.5.0",
     "model_name": "FloatProgressModel",
     "state": {
      "_dom_classes": [],
      "_model_module": "@jupyter-widgets/controls",
      "_model_module_version": "1.5.0",
      "_model_name": "FloatProgressModel",
      "_view_count": null,
      "_view_module": "@jupyter-widgets/controls",
      "_view_module_version": "1.5.0",
      "_view_name": "ProgressView",
      "bar_style": "success",
      "description": "",
      "description_tooltip": null,
      "layout": "IPY_MODEL_1187e03ae062437c80629b458ed0bc92",
      "max": 9912422,
      "min": 0,
      "orientation": "horizontal",
      "style": "IPY_MODEL_72c6a97d007b450c9c010cd0ed655f18",
      "value": 9912422
     }
    },
    "b60642e2ba664bfc8569e924c6ad1200": {
     "model_module": "@jupyter-widgets/base",
     "model_module_version": "1.2.0",
     "model_name": "LayoutModel",
     "state": {
      "_model_module": "@jupyter-widgets/base",
      "_model_module_version": "1.2.0",
      "_model_name": "LayoutModel",
      "_view_count": null,
      "_view_module": "@jupyter-widgets/base",
      "_view_module_version": "1.2.0",
      "_view_name": "LayoutView",
      "align_content": null,
      "align_items": null,
      "align_self": null,
      "border": null,
      "bottom": null,
      "display": null,
      "flex": null,
      "flex_flow": null,
      "grid_area": null,
      "grid_auto_columns": null,
      "grid_auto_flow": null,
      "grid_auto_rows": null,
      "grid_column": null,
      "grid_gap": null,
      "grid_row": null,
      "grid_template_areas": null,
      "grid_template_columns": null,
      "grid_template_rows": null,
      "height": null,
      "justify_content": null,
      "justify_items": null,
      "left": null,
      "margin": null,
      "max_height": null,
      "max_width": null,
      "min_height": null,
      "min_width": null,
      "object_fit": null,
      "object_position": null,
      "order": null,
      "overflow": null,
      "overflow_x": null,
      "overflow_y": null,
      "padding": null,
      "right": null,
      "top": null,
      "visibility": null,
      "width": null
     }
    },
    "babcf99269d7486982edf2fc0b5cf7d5": {
     "model_module": "@jupyter-widgets/controls",
     "model_module_version": "1.5.0",
     "model_name": "DescriptionStyleModel",
     "state": {
      "_model_module": "@jupyter-widgets/controls",
      "_model_module_version": "1.5.0",
      "_model_name": "DescriptionStyleModel",
      "_view_count": null,
      "_view_module": "@jupyter-widgets/base",
      "_view_module_version": "1.2.0",
      "_view_name": "StyleView",
      "description_width": ""
     }
    },
    "c223000b0ee845c0b4e3441358ea4bf6": {
     "model_module": "@jupyter-widgets/controls",
     "model_module_version": "1.5.0",
     "model_name": "DescriptionStyleModel",
     "state": {
      "_model_module": "@jupyter-widgets/controls",
      "_model_module_version": "1.5.0",
      "_model_name": "DescriptionStyleModel",
      "_view_count": null,
      "_view_module": "@jupyter-widgets/base",
      "_view_module_version": "1.2.0",
      "_view_name": "StyleView",
      "description_width": ""
     }
    },
    "d8a864b8fdea4a7d976f70b9a5822e31": {
     "model_module": "@jupyter-widgets/controls",
     "model_module_version": "1.5.0",
     "model_name": "DescriptionStyleModel",
     "state": {
      "_model_module": "@jupyter-widgets/controls",
      "_model_module_version": "1.5.0",
      "_model_name": "DescriptionStyleModel",
      "_view_count": null,
      "_view_module": "@jupyter-widgets/base",
      "_view_module_version": "1.2.0",
      "_view_name": "StyleView",
      "description_width": ""
     }
    },
    "db657f4281874c30bc4aa591456d9323": {
     "model_module": "@jupyter-widgets/base",
     "model_module_version": "1.2.0",
     "model_name": "LayoutModel",
     "state": {
      "_model_module": "@jupyter-widgets/base",
      "_model_module_version": "1.2.0",
      "_model_name": "LayoutModel",
      "_view_count": null,
      "_view_module": "@jupyter-widgets/base",
      "_view_module_version": "1.2.0",
      "_view_name": "LayoutView",
      "align_content": null,
      "align_items": null,
      "align_self": null,
      "border": null,
      "bottom": null,
      "display": null,
      "flex": null,
      "flex_flow": null,
      "grid_area": null,
      "grid_auto_columns": null,
      "grid_auto_flow": null,
      "grid_auto_rows": null,
      "grid_column": null,
      "grid_gap": null,
      "grid_row": null,
      "grid_template_areas": null,
      "grid_template_columns": null,
      "grid_template_rows": null,
      "height": null,
      "justify_content": null,
      "justify_items": null,
      "left": null,
      "margin": null,
      "max_height": null,
      "max_width": null,
      "min_height": null,
      "min_width": null,
      "object_fit": null,
      "object_position": null,
      "order": null,
      "overflow": null,
      "overflow_x": null,
      "overflow_y": null,
      "padding": null,
      "right": null,
      "top": null,
      "visibility": null,
      "width": null
     }
    },
    "e2c8f7a549c6489694bb88a3f5fd76de": {
     "model_module": "@jupyter-widgets/controls",
     "model_module_version": "1.5.0",
     "model_name": "HBoxModel",
     "state": {
      "_dom_classes": [],
      "_model_module": "@jupyter-widgets/controls",
      "_model_module_version": "1.5.0",
      "_model_name": "HBoxModel",
      "_view_count": null,
      "_view_module": "@jupyter-widgets/controls",
      "_view_module_version": "1.5.0",
      "_view_name": "HBoxView",
      "box_style": "",
      "children": [
       "IPY_MODEL_6dfd7182111a43d1944b22f45d0a19c0",
       "IPY_MODEL_f920dd2fa90445a58cadd0e380ae4e9f",
       "IPY_MODEL_e32a296eaaef40aaa975d075b4a7f23e"
      ],
      "layout": "IPY_MODEL_0bfa056c21814945b0f0391b5ab4586e"
     }
    },
    "e32a296eaaef40aaa975d075b4a7f23e": {
     "model_module": "@jupyter-widgets/controls",
     "model_module_version": "1.5.0",
     "model_name": "HTMLModel",
     "state": {
      "_dom_classes": [],
      "_model_module": "@jupyter-widgets/controls",
      "_model_module_version": "1.5.0",
      "_model_name": "HTMLModel",
      "_view_count": null,
      "_view_module": "@jupyter-widgets/controls",
      "_view_module_version": "1.5.0",
      "_view_name": "HTMLView",
      "description": "",
      "description_tooltip": null,
      "layout": "IPY_MODEL_2cb1ad043dd447db9aaeac213799c6f5",
      "placeholder": "​",
      "style": "IPY_MODEL_9bcbd31c33034126adeab4464e3ef73d",
      "value": " 1648877/1648877 [00:00&lt;00:00, 10471288.57it/s]"
     }
    },
    "e3492771442d4f51987a1110cb9c597c": {
     "model_module": "@jupyter-widgets/controls",
     "model_module_version": "1.5.0",
     "model_name": "HBoxModel",
     "state": {
      "_dom_classes": [],
      "_model_module": "@jupyter-widgets/controls",
      "_model_module_version": "1.5.0",
      "_model_name": "HBoxModel",
      "_view_count": null,
      "_view_module": "@jupyter-widgets/controls",
      "_view_module_version": "1.5.0",
      "_view_name": "HBoxView",
      "box_style": "",
      "children": [
       "IPY_MODEL_fbe84bcf07124584b546b9502e8d94b6",
       "IPY_MODEL_b5d32061a4f74ca0a604ea2a422b7c05",
       "IPY_MODEL_5a55176582bb400c826b96c2137f74ce"
      ],
      "layout": "IPY_MODEL_0c6a1dda56bf43b0a9067f470ca4fc87"
     }
    },
    "e94384a90b4749b0bb416a2ce3837322": {
     "model_module": "@jupyter-widgets/base",
     "model_module_version": "1.2.0",
     "model_name": "LayoutModel",
     "state": {
      "_model_module": "@jupyter-widgets/base",
      "_model_module_version": "1.2.0",
      "_model_name": "LayoutModel",
      "_view_count": null,
      "_view_module": "@jupyter-widgets/base",
      "_view_module_version": "1.2.0",
      "_view_name": "LayoutView",
      "align_content": null,
      "align_items": null,
      "align_self": null,
      "border": null,
      "bottom": null,
      "display": null,
      "flex": null,
      "flex_flow": null,
      "grid_area": null,
      "grid_auto_columns": null,
      "grid_auto_flow": null,
      "grid_auto_rows": null,
      "grid_column": null,
      "grid_gap": null,
      "grid_row": null,
      "grid_template_areas": null,
      "grid_template_columns": null,
      "grid_template_rows": null,
      "height": null,
      "justify_content": null,
      "justify_items": null,
      "left": null,
      "margin": null,
      "max_height": null,
      "max_width": null,
      "min_height": null,
      "min_width": null,
      "object_fit": null,
      "object_position": null,
      "order": null,
      "overflow": null,
      "overflow_x": null,
      "overflow_y": null,
      "padding": null,
      "right": null,
      "top": null,
      "visibility": null,
      "width": null
     }
    },
    "f0e3f28a1c7641e3bf1f47ad05aa7063": {
     "model_module": "@jupyter-widgets/controls",
     "model_module_version": "1.5.0",
     "model_name": "HTMLModel",
     "state": {
      "_dom_classes": [],
      "_model_module": "@jupyter-widgets/controls",
      "_model_module_version": "1.5.0",
      "_model_name": "HTMLModel",
      "_view_count": null,
      "_view_module": "@jupyter-widgets/controls",
      "_view_module_version": "1.5.0",
      "_view_name": "HTMLView",
      "description": "",
      "description_tooltip": null,
      "layout": "IPY_MODEL_a32aef8210804968900721dba6b6d4e9",
      "placeholder": "​",
      "style": "IPY_MODEL_c223000b0ee845c0b4e3441358ea4bf6",
      "value": " 4542/4542 [00:00&lt;00:00, 115578.23it/s]"
     }
    },
    "f920dd2fa90445a58cadd0e380ae4e9f": {
     "model_module": "@jupyter-widgets/controls",
     "model_module_version": "1.5.0",
     "model_name": "FloatProgressModel",
     "state": {
      "_dom_classes": [],
      "_model_module": "@jupyter-widgets/controls",
      "_model_module_version": "1.5.0",
      "_model_name": "FloatProgressModel",
      "_view_count": null,
      "_view_module": "@jupyter-widgets/controls",
      "_view_module_version": "1.5.0",
      "_view_name": "ProgressView",
      "bar_style": "success",
      "description": "",
      "description_tooltip": null,
      "layout": "IPY_MODEL_4df1f458d7864054a3977a68b092cffc",
      "max": 1648877,
      "min": 0,
      "orientation": "horizontal",
      "style": "IPY_MODEL_4fd23458319e4116b1409770e89d362a",
      "value": 1648877
     }
    },
    "fbe84bcf07124584b546b9502e8d94b6": {
     "model_module": "@jupyter-widgets/controls",
     "model_module_version": "1.5.0",
     "model_name": "HTMLModel",
     "state": {
      "_dom_classes": [],
      "_model_module": "@jupyter-widgets/controls",
      "_model_module_version": "1.5.0",
      "_model_name": "HTMLModel",
      "_view_count": null,
      "_view_module": "@jupyter-widgets/controls",
      "_view_module_version": "1.5.0",
      "_view_name": "HTMLView",
      "description": "",
      "description_tooltip": null,
      "layout": "IPY_MODEL_0948f7d31d2443438a75a249fd923dc3",
      "placeholder": "​",
      "style": "IPY_MODEL_d8a864b8fdea4a7d976f70b9a5822e31",
      "value": "100%"
     }
    }
   }
  }
 },
 "nbformat": 4,
 "nbformat_minor": 1
}
