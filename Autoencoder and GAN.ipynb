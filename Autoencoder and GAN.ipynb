{
 "cells": [
  {
   "cell_type": "markdown",
   "metadata": {
    "id": "PQsLStfxfRrO"
   },
   "source": [
    "## Setup"
   ]
  },
  {
   "cell_type": "markdown",
   "metadata": {
    "id": "imuIDUkvUjqt"
   },
   "source": [
    "https://towardsdatascience.com/understanding-binary-cross-entropy-log-loss-a-visual-explanation-a3ac6025181a"
   ]
  },
  {
   "cell_type": "markdown",
   "metadata": {
    "id": "X2noEVRFmHTi"
   },
   "source": [
    "### Imports"
   ]
  },
  {
   "cell_type": "code",
   "execution_count": 111,
   "metadata": {
    "id": "aGu2hYn5VgKS"
   },
   "outputs": [],
   "source": [
    "import numpy as np\n",
    "import matplotlib.pyplot as plt\n",
    "import urllib.request\n",
    "from PIL import Image\n",
    "from imageio import *\n",
    "import torch\n",
    "from skimage.transform import resize\n",
    "from mpl_toolkits.axes_grid1.axes_rgb import make_rgb_axes, RGBAxes\n",
    "from torchvision.models import *\n",
    "from torchvision.datasets import MNIST,KMNIST,FashionMNIST\n",
    "from skimage.util import montage\n",
    "from scipy import stats\n",
    "from torchvision import *\n",
    "from torch.nn.functional import *"
   ]
  },
  {
   "cell_type": "code",
   "execution_count": 100,
   "metadata": {
    "colab": {
     "base_uri": "https://localhost:8080/"
    },
    "id": "O1xRGxv7AfoZ",
    "outputId": "079459c6-1389-4656-9d23-5d8bcab496a9"
   },
   "outputs": [
    {
     "name": "stdout",
     "output_type": "stream",
     "text": [
      "Defaulting to user installation because normal site-packages is not writeable\n",
      "Requirement already satisfied: wandb in /home/deepzoo/.local/lib/python3.10/site-packages (0.12.21)\n",
      "Requirement already satisfied: requests<3,>=2.0.0 in /usr/lib/python3/dist-packages (from wandb) (2.25.1)\n",
      "Requirement already satisfied: sentry-sdk>=1.0.0 in /home/deepzoo/.local/lib/python3.10/site-packages (from wandb) (1.9.0)\n",
      "Requirement already satisfied: six>=1.13.0 in /usr/lib/python3/dist-packages (from wandb) (1.16.0)\n",
      "Requirement already satisfied: promise<3,>=2.0 in /home/deepzoo/.local/lib/python3.10/site-packages (from wandb) (2.3)\n",
      "Requirement already satisfied: pathtools in /home/deepzoo/.local/lib/python3.10/site-packages (from wandb) (0.1.2)\n",
      "Requirement already satisfied: docker-pycreds>=0.4.0 in /home/deepzoo/.local/lib/python3.10/site-packages (from wandb) (0.4.0)\n",
      "Requirement already satisfied: psutil>=5.0.0 in /home/deepzoo/.local/lib/python3.10/site-packages (from wandb) (5.9.1)\n",
      "Requirement already satisfied: PyYAML in /usr/lib/python3/dist-packages (from wandb) (5.4.1)\n",
      "Requirement already satisfied: Click!=8.0.0,>=7.0 in /usr/lib/python3/dist-packages (from wandb) (8.0.3)\n",
      "Requirement already satisfied: shortuuid>=0.5.0 in /home/deepzoo/.local/lib/python3.10/site-packages (from wandb) (1.0.9)\n",
      "Requirement already satisfied: GitPython>=1.0.0 in /home/deepzoo/.local/lib/python3.10/site-packages (from wandb) (3.1.27)\n",
      "Requirement already satisfied: protobuf<4.0dev,>=3.12.0 in /usr/lib/python3/dist-packages (from wandb) (3.12.4)\n",
      "Requirement already satisfied: setproctitle in /home/deepzoo/.local/lib/python3.10/site-packages (from wandb) (1.3.0)\n",
      "Requirement already satisfied: setuptools in /home/deepzoo/.local/lib/python3.10/site-packages (from wandb) (45.0.0)\n",
      "Requirement already satisfied: gitdb<5,>=4.0.1 in /home/deepzoo/.local/lib/python3.10/site-packages (from GitPython>=1.0.0->wandb) (4.0.9)\n",
      "Requirement already satisfied: certifi in /home/deepzoo/.local/lib/python3.10/site-packages (from sentry-sdk>=1.0.0->wandb) (2022.6.15)\n",
      "Requirement already satisfied: urllib3>=1.10.0 in /usr/lib/python3/dist-packages (from sentry-sdk>=1.0.0->wandb) (1.26.5)\n",
      "Requirement already satisfied: smmap<6,>=3.0.1 in /home/deepzoo/.local/lib/python3.10/site-packages (from gitdb<5,>=4.0.1->GitPython>=1.0.0->wandb) (5.0.0)\n"
     ]
    }
   ],
   "source": [
    "!pip install wandb\n",
    "import wandb as wb"
   ]
  },
  {
   "cell_type": "code",
   "execution_count": 31,
   "metadata": {
    "id": "49UyUZ7KoHKG"
   },
   "outputs": [],
   "source": [
    "def plot(x):\n",
    "    if type(x) == torch.Tensor :\n",
    "        x = x.cpu().detach().numpy()\n",
    "\n",
    "    fig, ax = plt.subplots()\n",
    "    im = ax.imshow(x, cmap = 'gray')\n",
    "    ax.axis('off')\n",
    "    fig.set_size_inches(5, 5)\n",
    "    plt.show()\n",
    "\n",
    "def montage_plot(x):\n",
    "    x = np.pad(x, pad_width=((0, 0), (1, 1), (1, 1)), mode='constant', constant_values=0)\n",
    "    plot(montage(x))\n",
    "\n",
    "def GPU(data):\n",
    "    return torch.tensor(data, requires_grad=True, dtype=torch.float, device=torch.device('cuda'))\n",
    "\n",
    "def GPU_data(data):\n",
    "    return torch.tensor(data, requires_grad=False, dtype=torch.float, device=torch.device('cuda'))\n",
    "    \n",
    "def one_hot(y):\n",
    "    y2 = GPU_data(torch.zeros((y.shape[0],10)))\n",
    "    for i in range(y.shape[0]):\n",
    "        y2[i,int(y[i])] = 1\n",
    "    return y2\n",
    "\n",
    "\n",
    "\n",
    "def softmax(x):\n",
    "    s1 = torch.exp(x - torch.max(x,1)[0][:,None])\n",
    "    s = s1 / s1.sum(1)[:,None]\n",
    "    return s\n",
    "\n",
    "\n",
    "\n",
    "def cross_entropy(outputs, labels):            \n",
    "    return -torch.sum(softmax(outputs).log()[range(outputs.size()[0]), labels.long()])/outputs.size()[0]  \n",
    "\n",
    "\n",
    "\n",
    "def randn_trunc(s): #Truncated Normal Random Numbers\n",
    "    mu = 0 \n",
    "    sigma = 0.1\n",
    "    R = stats.truncnorm((-2*sigma - mu) / sigma, (2*sigma - mu) / sigma, loc=mu, scale=sigma)\n",
    "    return R.rvs(s)\n",
    "\n",
    "\n",
    "def acc(out,y):\n",
    "    with torch.no_grad():\n",
    "        return (torch.sum(torch.max(out,1)[1] == y).item())/y.shape[0]\n",
    "\n",
    "\n",
    "\n",
    "\n",
    "def GPU(data):\n",
    "    return torch.tensor(data, requires_grad=True, dtype=torch.float, device=torch.device('cuda'))\n",
    "\n",
    "def GPU_data(data):\n",
    "    return torch.tensor(data, requires_grad=False, dtype=torch.float, device=torch.device('cuda'))\n",
    "\n",
    "\n",
    "def CPU(data):\n",
    "    return torch.tensor(data, requires_grad=True, dtype=torch.float, device=torch.device('cpu'))\n",
    "\n",
    "def CPU_data(data):\n",
    "    return torch.tensor(data, requires_grad=False, dtype=torch.float, device=torch.device('cpu'))\n",
    "\n",
    "\n",
    "\n",
    "\n",
    "\n",
    "def plot(x):\n",
    "    if type(x) == torch.Tensor :\n",
    "        x = x.cpu().detach().numpy()\n",
    "\n",
    "    fig, ax = plt.subplots()\n",
    "    im = ax.imshow(x, cmap = 'gray')\n",
    "    ax.axis('off')\n",
    "    fig.set_size_inches(10, 10)\n",
    "    plt.show()\n",
    "    \n",
    "    \n",
    "def montage_plot(x):\n",
    "    x = np.pad(x, pad_width=((0, 0), (1, 1), (1, 1)), mode='constant', constant_values=0)\n",
    "    plot(montage(x))    \n",
    "\n",
    "\n",
    "def get_batch(mode):\n",
    "    b = c.b\n",
    "    if mode == \"train\":\n",
    "        r = np.random.randint(X.shape[0]-b) \n",
    "        x = X[r:r+b,:,:,:]\n",
    "        y = Y[r:r+b]\n",
    "    elif mode == \"test\":\n",
    "        r = np.random.randint(X_test.shape[0]-b)\n",
    "        x = X_test[r:r+b,:,:,:]\n",
    "        y = Y_test[r:r+b]\n",
    "    return x,y\n",
    "\n",
    "\n",
    "\n",
    "def vizvec(x): \n",
    "\n",
    "    fig, ax = plt.subplots()\n",
    "\n",
    "    min_val, max_val = 0, 15\n",
    "\n",
    "    ax.matshow(x, cmap=plt.cm.Blues)\n",
    "    \n",
    "    plt.axis('off')\n",
    "\n",
    "    for i in range(x.shape[0]):\n",
    "        for j in range(x.shape[1]):\n",
    "            c = x[i,j]\n",
    "            ax.text(j, i, str(c), va='center', ha='center')\n",
    "\n",
    "\n",
    "def gradient_step(w):\n",
    "\n",
    "    for j in range(len(w)): \n",
    "\n",
    "            w[j].data = w[j].data - c.h*w[j].grad.data\n",
    "            \n",
    "            w[j].grad.data.zero_()\n",
    "\n",
    "\n",
    "def make_plots():\n",
    "    \n",
    "    acc_train = acc(model(x,w),y)\n",
    "    \n",
    "    xt,yt = get_batch('test')\n",
    "\n",
    "    acc_test = acc(model(xt,w),yt)\n",
    "\n",
    "    wb.log({\"acc_train\": acc_train, \"acc_test\": acc_test})\n",
    "    \n",
    "    "
   ]
  },
  {
   "cell_type": "code",
   "execution_count": 32,
   "metadata": {
    "id": "NZaGcRW6Igar"
   },
   "outputs": [],
   "source": [
    "b = 1000\n",
    "\n",
    "def get_batch(mode):\n",
    "    if mode == \"train\":\n",
    "        r = np.random.randint(X.shape[0]-b) \n",
    "        x = X[r:r+b,:]\n",
    "        y = Y[r:r+b]\n",
    "    elif mode == \"test\":\n",
    "        r = np.random.randint(X_test.shape[0]-b)\n",
    "        x = X_test[r:r+b,:]\n",
    "        y = Y_test[r:r+b]\n",
    "    return x,y"
   ]
  },
  {
   "cell_type": "markdown",
   "metadata": {
    "id": "gkw9kmV4NyRo"
   },
   "source": [
    "\n",
    "## MNIST\n",
    "    "
   ]
  },
  {
   "cell_type": "markdown",
   "metadata": {
    "id": "Dc8TF76WPY1e"
   },
   "source": [
    "### Load Data"
   ]
  },
  {
   "cell_type": "code",
   "execution_count": 9,
   "metadata": {
    "colab": {
     "base_uri": "https://localhost:8080/",
     "height": 437,
     "referenced_widgets": [
      "e3492771442d4f51987a1110cb9c597c",
      "fbe84bcf07124584b546b9502e8d94b6",
      "b5d32061a4f74ca0a604ea2a422b7c05",
      "5a55176582bb400c826b96c2137f74ce",
      "0c6a1dda56bf43b0a9067f470ca4fc87",
      "0948f7d31d2443438a75a249fd923dc3",
      "d8a864b8fdea4a7d976f70b9a5822e31",
      "1187e03ae062437c80629b458ed0bc92",
      "72c6a97d007b450c9c010cd0ed655f18",
      "b60642e2ba664bfc8569e924c6ad1200",
      "a8040701bc364430ab4b0cda7632a141",
      "77651612bfdd43cc8c5713efe93646fc",
      "73a89374cbc44dd4b427a65d9db3bd85",
      "428619ec3687490aba5387922614cff0",
      "42539b87d043401f92dc6b43601b89e8",
      "283353d44ec943aea16fbce2b9ab4021",
      "e94384a90b4749b0bb416a2ce3837322",
      "6f6ab657eb4f404fb2f0be83429ca4c9",
      "db657f4281874c30bc4aa591456d9323",
      "3632c3cd720e4e10a257ada1ce648f2a",
      "7c8ab9c641314c91b7a51337dbece5db",
      "8fcfc540e7c649758c33462d31224c29",
      "e2c8f7a549c6489694bb88a3f5fd76de",
      "6dfd7182111a43d1944b22f45d0a19c0",
      "f920dd2fa90445a58cadd0e380ae4e9f",
      "e32a296eaaef40aaa975d075b4a7f23e",
      "0bfa056c21814945b0f0391b5ab4586e",
      "1f684b942c75456e82fd7109f46eb191",
      "8d9b0c20c70d461bb33e55e4575906b4",
      "4df1f458d7864054a3977a68b092cffc",
      "4fd23458319e4116b1409770e89d362a",
      "2cb1ad043dd447db9aaeac213799c6f5",
      "9bcbd31c33034126adeab4464e3ef73d",
      "b41e163541cc4d9baf18a3f18908deb3",
      "6cb9acdda6484bfdb2b3c8489e4488de",
      "231bcacb60d34d8ca6616631b7d09198",
      "f0e3f28a1c7641e3bf1f47ad05aa7063",
      "0c712b356bb746dcae33c69f06c2d2d0",
      "92308f803af74b5ab74062d000529d27",
      "babcf99269d7486982edf2fc0b5cf7d5",
      "681f428deb214852b42bc99efd3be3ff",
      "0adb8adecd2f436ca0e26989496d506b",
      "a32aef8210804968900721dba6b6d4e9",
      "c223000b0ee845c0b4e3441358ea4bf6"
     ]
    },
    "id": "mm7ZMYrVEdMX",
    "outputId": "8cc65104-9042-4919-b48b-ad769366ffcb"
   },
   "outputs": [],
   "source": [
    "# #MNIST\n",
    "train_set = MNIST('./data', train=True, download=True)\n",
    "test_set  = MNIST('./data', train=False, download=True)\n",
    "\n",
    "#KMNIST\n",
    "# train_set = KMNIST('./data', train=True, download=True)\n",
    "# test_set =  KMNIST('./data', train=False, download=True)\n",
    "\n",
    "# Fashion MNIST\n",
    "# train_set = FashionMNIST('./data', train=True, download=True)\n",
    "# test_set =  FashionMNIST('./data', train=False, download=True)"
   ]
  },
  {
   "cell_type": "code",
   "execution_count": 10,
   "metadata": {
    "id": "Ols0HivADS6a"
   },
   "outputs": [],
   "source": [
    "X = train_set.data.numpy()\n",
    "X_test = test_set.data.numpy()\n",
    "Y = train_set.targets.numpy()\n",
    "Y_test = test_set.targets.numpy()\n",
    "\n",
    "X = X[:,None,:,:]/255\n",
    "X_test = X_test[:,None,:,:]/255"
   ]
  },
  {
   "cell_type": "code",
   "execution_count": 11,
   "metadata": {
    "colab": {
     "base_uri": "https://localhost:8080/"
    },
    "id": "gfAjr0UBjgfs",
    "outputId": "7bf3eb63-dfb6-4854-d645-7fe30611cdc8"
   },
   "outputs": [
    {
     "data": {
      "text/plain": [
       "(60000, 1, 28, 28)"
      ]
     },
     "execution_count": 11,
     "metadata": {},
     "output_type": "execute_result"
    }
   ],
   "source": [
    "X.shape"
   ]
  },
  {
   "cell_type": "code",
   "execution_count": 12,
   "metadata": {
    "colab": {
     "base_uri": "https://localhost:8080/",
     "height": 575
    },
    "id": "Ye809_jCAAxr",
    "outputId": "daf3d56c-d46f-49c4-b1bd-00857b0149bb"
   },
   "outputs": [
    {
     "data": {
      "image/png": "[encoded data removed]",
      "text/plain": [
       "<Figure size 720x720 with 1 Axes>"
      ]
     },
     "metadata": {
      "needs_background": "light"
     },
     "output_type": "display_data"
    }
   ],
   "source": [
    "plot(X[100,0,:,:])"
   ]
  },
  {
   "cell_type": "code",
   "execution_count": 13,
   "metadata": {
    "colab": {
     "base_uri": "https://localhost:8080/"
    },
    "id": "evX7gb0YBzpe",
    "outputId": "f4f6447e-26eb-45c8-c9fa-de059f8bf710"
   },
   "outputs": [
    {
     "data": {
      "text/plain": [
       "5"
      ]
     },
     "execution_count": 13,
     "metadata": {},
     "output_type": "execute_result"
    }
   ],
   "source": [
    "Y[100]"
   ]
  },
  {
   "cell_type": "code",
   "execution_count": 14,
   "metadata": {
    "colab": {
     "base_uri": "https://localhost:8080/"
    },
    "id": "b1ExpQONSaC_",
    "outputId": "134b7a4b-30b6-49b5-aa39-90bd1fbb9bbe"
   },
   "outputs": [
    {
     "data": {
      "text/plain": [
       "(25, 28, 28)"
      ]
     },
     "execution_count": 14,
     "metadata": {},
     "output_type": "execute_result"
    }
   ],
   "source": [
    "X[0:25,0,:,:].shape"
   ]
  },
  {
   "cell_type": "code",
   "execution_count": 15,
   "metadata": {
    "colab": {
     "base_uri": "https://localhost:8080/",
     "height": 575
    },
    "id": "CHoMXjA6pWoa",
    "outputId": "ce335b2a-54c2-464f-97bd-ba0206ac20f4"
   },
   "outputs": [
    {
     "data": {
      "image/png": "[encoded data removed]",
      "text/plain": [
       "<Figure size 720x720 with 1 Axes>"
      ]
     },
     "metadata": {
      "needs_background": "light"
     },
     "output_type": "display_data"
    }
   ],
   "source": [
    "montage_plot(X[125:150,0,:,:])"
   ]
  },
  {
   "cell_type": "markdown",
   "metadata": {
    "id": "MMkIx6bTNy8g"
   },
   "source": [
    "\n",
    "### Autoencoder\n"
   ]
  },
  {
   "cell_type": "code",
   "execution_count": 43,
   "metadata": {
    "id": "zBt4rsdIefV_"
   },
   "outputs": [],
   "source": [
    "X = CPU_data(X)\n",
    "Y = CPU_data(Y)\n",
    "X_test = CPU_data(X_test)\n",
    "Y_test = CPU_data(Y_test)"
   ]
  },
  {
   "cell_type": "code",
   "execution_count": 103,
   "metadata": {
    "id": "N4StPT7VBG9O"
   },
   "outputs": [],
   "source": [
    "X = transforms.functional.normalize(X,0.5,0.5)\n",
    "X_test = transforms.functional.normalize(X_test,0.5,0.5)"
   ]
  },
  {
   "cell_type": "code",
   "execution_count": 104,
   "metadata": {
    "id": "UafuXvzKjSw7"
   },
   "outputs": [],
   "source": [
    "def Encoder(x,w):\n",
    "    x = relu(conv2d(x,w[0], stride=(2, 2), padding=(1, 1)))\n",
    "    x = relu(conv2d(x,w[1], stride=(2, 2), padding=(1, 1)))\n",
    "    x = x.view(x.size(0), 6272)\n",
    "    x = linear(x,w[2])\n",
    "    return x"
   ]
  },
  {
   "cell_type": "code",
   "execution_count": 105,
   "metadata": {
    "id": "ivvSdA3VjSw_"
   },
   "outputs": [],
   "source": [
    "def Decoder(x,w):\n",
    "    x = linear(x,w[3])\n",
    "    x = x.view(x.size(0), 128, 7, 7)\n",
    "    x = relu(conv_transpose2d(x,w[4], stride=(2, 2), padding=(1, 1)))\n",
    "    x = torch.tanh(conv_transpose2d(x,w[5], stride=(2, 2), padding=(1, 1)))\n",
    "    return x"
   ]
  },
  {
   "cell_type": "code",
   "execution_count": 106,
   "metadata": {
    "id": "R8TLNLTkjSxG"
   },
   "outputs": [],
   "source": [
    "def Autoencoder(x,w):\n",
    "    return Decoder(Encoder(x,w),w)"
   ]
  },
  {
   "cell_type": "code",
   "execution_count": 107,
   "metadata": {
    "id": "-iw6YTpBU8sr"
   },
   "outputs": [],
   "source": [
    "num_steps = 1000\n",
    "batch_size = 512\n",
    "learning_rate = 1e-3"
   ]
  },
  {
   "cell_type": "code",
   "execution_count": null,
   "metadata": {
    "id": "Au5YND2GU8sr",
    "scrolled": true
   },
   "outputs": [
    {
     "name": "stdout",
     "output_type": "stream",
     "text": [
      "1.6160975694656372\n",
      "0.16821084916591644\n"
     ]
    }
   ],
   "source": [
    "#Encode\n",
    "w0 = CPU(randn_trunc((64,1,4,4)))\n",
    "w1 = CPU(randn_trunc((128,64,4,4)))\n",
    "w2 = CPU(randn_trunc((10,6272)))\n",
    "#Decode\n",
    "w3 = CPU(randn_trunc((6272,10)))\n",
    "w4 = CPU(randn_trunc((128,64,4,4)))\n",
    "w5 = CPU(randn_trunc((64,1,4,4)))\n",
    "\n",
    "w = [w0,w1,w2,w3,w4,w5]\n",
    "\n",
    "optimizer = torch.optim.Adam(params=w, lr=learning_rate)\n",
    "\n",
    "for i in range(num_steps):\n",
    "\n",
    "    x_real,y = get_batch('train')\n",
    "    \n",
    "    x_fake = Autoencoder(x_real,w)\n",
    "    \n",
    "    loss = torch.mean((x_fake - x_real)**2)\n",
    "\n",
    "    optimizer.zero_grad()\n",
    "    loss.backward()\n",
    "    optimizer.step() \n",
    "\n",
    "    if i % 100 == 0: print(loss.item())"
   ]
  },
  {
   "cell_type": "code",
   "execution_count": 109,
   "metadata": {
    "id": "9KtDnM_cXeJf"
   },
   "outputs": [],
   "source": [
    "image_batch,y = get_batch('test')"
   ]
  },
  {
   "cell_type": "code",
   "execution_count": null,
   "metadata": {
    "id": "cUHiRtNJXeMM"
   },
   "outputs": [],
   "source": [
    "image_batch_recon = Autoencoder(image_batch,w)"
   ]
  },
  {
   "cell_type": "code",
   "execution_count": null,
   "metadata": {
    "id": "kAvWP-HRXeYy"
   },
   "outputs": [],
   "source": [
    "torch.mean((image_batch_recon - image_batch)**2)"
   ]
  },
  {
   "cell_type": "code",
   "execution_count": null,
   "metadata": {
    "id": "j9GNtjyxTrLg"
   },
   "outputs": [],
   "source": [
    "montage_plot(image_batch[0:25,0,:,:].cpu().detach().numpy())"
   ]
  },
  {
   "cell_type": "code",
   "execution_count": null,
   "metadata": {
    "id": "Mc87oPuJYFqx"
   },
   "outputs": [],
   "source": [
    "montage_plot(image_batch_recon[0:25,0,:,:].cpu().detach().numpy())"
   ]
  },
  {
   "cell_type": "markdown",
   "metadata": {
    "id": "x4_p3zNkNz85"
   },
   "source": [
    "\n",
    "### Generator\n",
    "\n"
   ]
  },
  {
   "cell_type": "markdown",
   "metadata": {
    "id": "UK8bENQBO5cf"
   },
   "source": [
    "Convolutional Transpose"
   ]
  },
  {
   "cell_type": "code",
   "execution_count": null,
   "metadata": {
    "id": "JlUcx8nAOv2J"
   },
   "outputs": [],
   "source": [
    "latent_size = 64\n",
    "hidden_size = 256\n",
    "image_size = 784\n",
    "b = 32"
   ]
  },
  {
   "cell_type": "code",
   "execution_count": null,
   "metadata": {
    "id": "6DdMqwO6Ov2R"
   },
   "outputs": [],
   "source": [
    "#MNIST\n",
    "# train_set = datasets.MNIST('./data', train=True, download=True)\n",
    "# test_set = datasets.MNIST('./data', train=False, download=True)\n",
    "\n",
    "#KMNIST\n",
    "#train_set = datasets.KMNIST('./data', train=True, download=True)\n",
    "#test_set = datasets.KMNIST('./data', train=False, download=True)\n",
    "\n",
    "#Fashion MNIST\n",
    "train_set = datasets.FashionMNIST('./data', train=True, download=True)\n",
    "test_set = datasets.FashionMNIST('./data', train=False, download=True)"
   ]
  },
  {
   "cell_type": "code",
   "execution_count": null,
   "metadata": {
    "id": "zDtyhqfpOv2W"
   },
   "outputs": [],
   "source": [
    "X = train_set.data.numpy()\n",
    "X_test = test_set.data.numpy()\n",
    "Y = train_set.targets.numpy()\n",
    "Y_test = test_set.targets.numpy()\n",
    "X = X[:,None,:,:]/255\n",
    "X_test = X_test[:,None,:,:]/255\n",
    "X = (X - 0.5)/0.5\n",
    "X_test = (X_test - 0.5)/0.5"
   ]
  },
  {
   "cell_type": "code",
   "execution_count": null,
   "metadata": {
    "id": "brvz6j8oOv2d"
   },
   "outputs": [],
   "source": [
    "n = 7\n",
    "\n",
    "index = np.where(Y == n)\n",
    "X = X[index]\n",
    "index = np.where(Y_test == n)\n",
    "X_test = X_test[index]"
   ]
  },
  {
   "cell_type": "code",
   "execution_count": null,
   "metadata": {
    "id": "8jCql6k3Ov2j"
   },
   "outputs": [],
   "source": [
    "X.shape,Y.shape,X_test.shape,Y_test.shape"
   ]
  },
  {
   "cell_type": "code",
   "execution_count": null,
   "metadata": {
    "id": "9KkJf-T3Ov2o"
   },
   "outputs": [],
   "source": [
    "###################################################"
   ]
  },
  {
   "cell_type": "code",
   "execution_count": null,
   "metadata": {
    "id": "6XeXzhnBOv2u"
   },
   "outputs": [],
   "source": [
    "X = GPU_data(X)\n",
    "X_test = GPU_data(X_test)\n",
    "Y = GPU_data(Y)\n",
    "Y_test = GPU_data(Y_test)"
   ]
  },
  {
   "cell_type": "code",
   "execution_count": null,
   "metadata": {
    "id": "rbvvO0rKOv23"
   },
   "outputs": [],
   "source": [
    "x,y = get_batch('train')"
   ]
  },
  {
   "cell_type": "code",
   "execution_count": null,
   "metadata": {
    "id": "-IiEebSMOv28"
   },
   "outputs": [],
   "source": [
    "montage_plot(x[0:25,0,:,:].detach().cpu().numpy())"
   ]
  },
  {
   "cell_type": "code",
   "execution_count": null,
   "metadata": {
    "id": "4zTk44kcNWFX"
   },
   "outputs": [],
   "source": [
    "#D\n",
    "w0 = GPU(randn_trunc((64,1,4,4)))\n",
    "w1 = GPU(randn_trunc((128,64,4,4)))\n",
    "w2 = GPU(randn_trunc((1,6272)))\n",
    "#G\n",
    "w3 = GPU(randn_trunc((6272,64)))\n",
    "w4 = GPU(randn_trunc((128,64,4,4)))\n",
    "w5 = GPU(randn_trunc((64,1,4,4)))\n",
    "\n",
    "w = [w0,w1,w2,w3,w4,w5]"
   ]
  },
  {
   "cell_type": "code",
   "execution_count": null,
   "metadata": {
    "id": "NvMtOAMFNXM8"
   },
   "outputs": [],
   "source": [
    "def D(x,w):\n",
    "    x = relu(conv2d(x,w[0], stride=(2, 2), padding=(1, 1)))\n",
    "    x = relu(conv2d(x,w[1], stride=(2, 2), padding=(1, 1)))\n",
    "    x = x.view(x.size(0), 6272)\n",
    "    x = linear(x,w[2])\n",
    "    x = torch.sigmoid(x)\n",
    "    return x"
   ]
  },
  {
   "cell_type": "code",
   "execution_count": null,
   "metadata": {
    "id": "0aP-EqS6NXNB"
   },
   "outputs": [],
   "source": [
    "def G(x,w):\n",
    "    x = linear(x,w[3])\n",
    "    x = x.view(x.size(0), 128, 7, 7)\n",
    "    x = relu(conv_transpose2d(x,w[4], stride=(2, 2), padding=(1, 1)))\n",
    "    x = torch.tanh(conv_transpose2d(x,w[5], stride=(2, 2), padding=(1, 1)))\n",
    "    return x"
   ]
  },
  {
   "cell_type": "code",
   "execution_count": null,
   "metadata": {
    "id": "KkPqjP3rOv3c"
   },
   "outputs": [],
   "source": [
    "d_optimizer = torch.optim.Adam(w[0:3], lr=0.0002)\n",
    "g_optimizer = torch.optim.Adam(w[3:], lr=0.0002)\n",
    "\n",
    "real_labels = Variable(torch.ones(batch_size, 1).cuda())\n",
    "fake_labels = Variable(torch.zeros(batch_size, 1).cuda())"
   ]
  },
  {
   "cell_type": "code",
   "execution_count": null,
   "metadata": {
    "id": "SwNovkpIOv3g"
   },
   "outputs": [],
   "source": [
    "num_epochs = 500 \n",
    "batches = X.shape[0]//batch_size\n",
    "steps = num_epochs*batches"
   ]
  },
  {
   "cell_type": "code",
   "execution_count": null,
   "metadata": {
    "id": "vA6CQvaoOv3k"
   },
   "outputs": [],
   "source": [
    "z1 = Variable(torch.randn(steps,batch_size,latent_size).cuda())\n",
    "z2 = Variable(torch.randn(steps,batch_size,latent_size).cuda())"
   ]
  },
  {
   "cell_type": "code",
   "execution_count": null,
   "metadata": {
    "id": "CQsuyre6Ov3n"
   },
   "outputs": [],
   "source": [
    "for i in range(steps):\n",
    "        \n",
    "    images,y = get_batch('train')\n",
    "        \n",
    "    d_loss = binary_cross_entropy(D(images,w), real_labels) + binary_cross_entropy(D(G(z1[i],w),w), fake_labels)\n",
    "    d_optimizer.zero_grad()\n",
    "    d_loss.backward()\n",
    "    d_optimizer.step()\n",
    "       \n",
    "    \n",
    "    g_loss = binary_cross_entropy(D(G(z2[i],w),w), real_labels)\n",
    "    g_optimizer.zero_grad()\n",
    "    g_loss.backward()\n",
    "    g_optimizer.step()\n",
    "\n",
    "    \n",
    "    if i % 2000 == 0:\n",
    "        out = G(z1[np.random.randint(steps)],w)\n",
    "        montage_plot(out.view(batch_size,1,28,28).detach().cpu().numpy()[0:25,0,:,:])"
   ]
  },
  {
   "cell_type": "code",
   "execution_count": null,
   "metadata": {
    "id": "tFl7V-HANWKD"
   },
   "outputs": [],
   "source": []
  },
  {
   "cell_type": "code",
   "execution_count": null,
   "metadata": {
    "id": "n5OJ6ifwcwWR"
   },
   "outputs": [],
   "source": []
  }
 ],
 "metadata": {
  "accelerator": "GPU",
  "colab": {
   "collapsed_sections": [
    "aqdMV6v-2o3h",
    "sAMFS1CV6Nr4"
   ],
   "name": "MPCR Bootcamp Book.ipynb",
   "provenance": []
  },
  "kernelspec": {
   "display_name": "Python 3 (ipykernel)",
   "language": "python",
   "name": "python3"
  },
  "language_info": {
   "codemirror_mode": {
    "name": "ipython",
    "version": 3
   },
   "file_extension": ".py",
   "mimetype": "text/x-python",
   "name": "python",
   "nbconvert_exporter": "python",
   "pygments_lexer": "ipython3",
   "version": "3.10.4"
  },
  "widgets": {
   "application/vnd.jupyter.widget-state+json": {
    "0948f7d31d2443438a75a249fd923dc3": {
     "model_module": "@jupyter-widgets/base",
     "model_module_version": "1.2.0",
     "model_name": "LayoutModel",
     "state": {
      "_model_module": "@jupyter-widgets/base",
      "_model_module_version": "1.2.0",
      "_model_name": "LayoutModel",
      "_view_count": null,
      "_view_module": "@jupyter-widgets/base",
      "_view_module_version": "1.2.0",
      "_view_name": "LayoutView",
      "align_content": null,
      "align_items": null,
      "align_self": null,
      "border": null,
      "bottom": null,
      "display": null,
      "flex": null,
      "flex_flow": null,
      "grid_area": null,
      "grid_auto_columns": null,
      "grid_auto_flow": null,
      "grid_auto_rows": null,
      "grid_column": null,
      "grid_gap": null,
      "grid_row": null,
      "grid_template_areas": null,
      "grid_template_columns": null,
      "grid_template_rows": null,
      "height": null,
      "justify_content": null,
      "justify_items": null,
      "left": null,
      "margin": null,
      "max_height": null,
      "max_width": null,
      "min_height": null,
      "min_width": null,
      "object_fit": null,
      "object_position": null,
      "order": null,
      "overflow": null,
      "overflow_x": null,
      "overflow_y": null,
      "padding": null,
      "right": null,
      "top": null,
      "visibility": null,
      "width": null
     }
    },
    "0adb8adecd2f436ca0e26989496d506b": {
     "model_module": "@jupyter-widgets/controls",
     "model_module_version": "1.5.0",
     "model_name": "ProgressStyleModel",
     "state": {
      "_model_module": "@jupyter-widgets/controls",
      "_model_module_version": "1.5.0",
      "_model_name": "ProgressStyleModel",
      "_view_count": null,
      "_view_module": "@jupyter-widgets/base",
      "_view_module_version": "1.2.0",
      "_view_name": "StyleView",
      "bar_color": null,
      "description_width": ""
     }
    },
    "0bfa056c21814945b0f0391b5ab4586e": {
     "model_module": "@jupyter-widgets/base",
     "model_module_version": "1.2.0",
     "model_name": "LayoutModel",
     "state": {
      "_model_module": "@jupyter-widgets/base",
      "_model_module_version": "1.2.0",
      "_model_name": "LayoutModel",
      "_view_count": null,
      "_view_module": "@jupyter-widgets/base",
      "_view_module_version": "1.2.0",
      "_view_name": "LayoutView",
      "align_content": null,
      "align_items": null,
      "align_self": null,
      "border": null,
      "bottom": null,
      "display": null,
      "flex": null,
      "flex_flow": null,
      "grid_area": null,
      "grid_auto_columns": null,
      "grid_auto_flow": null,
      "grid_auto_rows": null,
      "grid_column": null,
      "grid_gap": null,
      "grid_row": null,
      "grid_template_areas": null,
      "grid_template_columns": null,
      "grid_template_rows": null,
      "height": null,
      "justify_content": null,
      "justify_items": null,
      "left": null,
      "margin": null,
      "max_height": null,
      "max_width": null,
      "min_height": null,
      "min_width": null,
      "object_fit": null,
      "object_position": null,
      "order": null,
      "overflow": null,
      "overflow_x": null,
      "overflow_y": null,
      "padding": null,
      "right": null,
      "top": null,
      "visibility": null,
      "width": null
     }
    },
    "0c6a1dda56bf43b0a9067f470ca4fc87": {
     "model_module": "@jupyter-widgets/base",
     "model_module_version": "1.2.0",
     "model_name": "LayoutModel",
     "state": {
      "_model_module": "@jupyter-widgets/base",
      "_model_module_version": "1.2.0",
      "_model_name": "LayoutModel",
      "_view_count": null,
      "_view_module": "@jupyter-widgets/base",
      "_view_module_version": "1.2.0",
      "_view_name": "LayoutView",
      "align_content": null,
      "align_items": null,
      "align_self": null,
      "border": null,
      "bottom": null,
      "display": null,
      "flex": null,
      "flex_flow": null,
      "grid_area": null,
      "grid_auto_columns": null,
      "grid_auto_flow": null,
      "grid_auto_rows": null,
      "grid_column": null,
      "grid_gap": null,
      "grid_row": null,
      "grid_template_areas": null,
      "grid_template_columns": null,
      "grid_template_rows": null,
      "height": null,
      "justify_content": null,
      "justify_items": null,
      "left": null,
      "margin": null,
      "max_height": null,
      "max_width": null,
      "min_height": null,
      "min_width": null,
      "object_fit": null,
      "object_position": null,
      "order": null,
      "overflow": null,
      "overflow_x": null,
      "overflow_y": null,
      "padding": null,
      "right": null,
      "top": null,
      "visibility": null,
      "width": null
     }
    },
    "0c712b356bb746dcae33c69f06c2d2d0": {
     "model_module": "@jupyter-widgets/base",
     "model_module_version": "1.2.0",
     "model_name": "LayoutModel",
     "state": {
      "_model_module": "@jupyter-widgets/base",
      "_model_module_version": "1.2.0",
      "_model_name": "LayoutModel",
      "_view_count": null,
      "_view_module": "@jupyter-widgets/base",
      "_view_module_version": "1.2.0",
      "_view_name": "LayoutView",
      "align_content": null,
      "align_items": null,
      "align_self": null,
      "border": null,
      "bottom": null,
      "display": null,
      "flex": null,
      "flex_flow": null,
      "grid_area": null,
      "grid_auto_columns": null,
      "grid_auto_flow": null,
      "grid_auto_rows": null,
      "grid_column": null,
      "grid_gap": null,
      "grid_row": null,
      "grid_template_areas": null,
      "grid_template_columns": null,
      "grid_template_rows": null,
      "height": null,
      "justify_content": null,
      "justify_items": null,
      "left": null,
      "margin": null,
      "max_height": null,
      "max_width": null,
      "min_height": null,
      "min_width": null,
      "object_fit": null,
      "object_position": null,
      "order": null,
      "overflow": null,
      "overflow_x": null,
      "overflow_y": null,
      "padding": null,
      "right": null,
      "top": null,
      "visibility": null,
      "width": null
     }
    },
    "1187e03ae062437c80629b458ed0bc92": {
     "model_module": "@jupyter-widgets/base",
     "model_module_version": "1.2.0",
     "model_name": "LayoutModel",
     "state": {
      "_model_module": "@jupyter-widgets/base",
      "_model_module_version": "1.2.0",
      "_model_name": "LayoutModel",
      "_view_count": null,
      "_view_module": "@jupyter-widgets/base",
      "_view_module_version": "1.2.0",
      "_view_name": "LayoutView",
      "align_content": null,
      "align_items": null,
      "align_self": null,
      "border": null,
      "bottom": null,
      "display": null,
      "flex": null,
      "flex_flow": null,
      "grid_area": null,
      "grid_auto_columns": null,
      "grid_auto_flow": null,
      "grid_auto_rows": null,
      "grid_column": null,
      "grid_gap": null,
      "grid_row": null,
      "grid_template_areas": null,
      "grid_template_columns": null,
      "grid_template_rows": null,
      "height": null,
      "justify_content": null,
      "justify_items": null,
      "left": null,
      "margin": null,
      "max_height": null,
      "max_width": null,
      "min_height": null,
      "min_width": null,
      "object_fit": null,
      "object_position": null,
      "order": null,
      "overflow": null,
      "overflow_x": null,
      "overflow_y": null,
      "padding": null,
      "right": null,
      "top": null,
      "visibility": null,
      "width": null
     }
    },
    "1f684b942c75456e82fd7109f46eb191": {
     "model_module": "@jupyter-widgets/base",
     "model_module_version": "1.2.0",
     "model_name": "LayoutModel",
     "state": {
      "_model_module": "@jupyter-widgets/base",
      "_model_module_version": "1.2.0",
      "_model_name": "LayoutModel",
      "_view_count": null,
      "_view_module": "@jupyter-widgets/base",
      "_view_module_version": "1.2.0",
      "_view_name": "LayoutView",
      "align_content": null,
      "align_items": null,
      "align_self": null,
      "border": null,
      "bottom": null,
      "display": null,
      "flex": null,
      "flex_flow": null,
      "grid_area": null,
      "grid_auto_columns": null,
      "grid_auto_flow": null,
      "grid_auto_rows": null,
      "grid_column": null,
      "grid_gap": null,
      "grid_row": null,
      "grid_template_areas": null,
      "grid_template_columns": null,
      "grid_template_rows": null,
      "height": null,
      "justify_content": null,
      "justify_items": null,
      "left": null,
      "margin": null,
      "max_height": null,
      "max_width": null,
      "min_height": null,
      "min_width": null,
      "object_fit": null,
      "object_position": null,
      "order": null,
      "overflow": null,
      "overflow_x": null,
      "overflow_y": null,
      "padding": null,
      "right": null,
      "top": null,
      "visibility": null,
      "width": null
     }
    },
    "231bcacb60d34d8ca6616631b7d09198": {
     "model_module": "@jupyter-widgets/controls",
     "model_module_version": "1.5.0",
     "model_name": "FloatProgressModel",
     "state": {
      "_dom_classes": [],
      "_model_module": "@jupyter-widgets/controls",
      "_model_module_version": "1.5.0",
      "_model_name": "FloatProgressModel",
      "_view_count": null,
      "_view_module": "@jupyter-widgets/controls",
      "_view_module_version": "1.5.0",
      "_view_name": "ProgressView",
      "bar_style": "success",
      "description": "",
      "description_tooltip": null,
      "layout": "IPY_MODEL_681f428deb214852b42bc99efd3be3ff",
      "max": 4542,
      "min": 0,
      "orientation": "horizontal",
      "style": "IPY_MODEL_0adb8adecd2f436ca0e26989496d506b",
      "value": 4542
     }
    },
    "283353d44ec943aea16fbce2b9ab4021": {
     "model_module": "@jupyter-widgets/base",
     "model_module_version": "1.2.0",
     "model_name": "LayoutModel",
     "state": {
      "_model_module": "@jupyter-widgets/base",
      "_model_module_version": "1.2.0",
      "_model_name": "LayoutModel",
      "_view_count": null,
      "_view_module": "@jupyter-widgets/base",
      "_view_module_version": "1.2.0",
      "_view_name": "LayoutView",
      "align_content": null,
      "align_items": null,
      "align_self": null,
      "border": null,
      "bottom": null,
      "display": null,
      "flex": null,
      "flex_flow": null,
      "grid_area": null,
      "grid_auto_columns": null,
      "grid_auto_flow": null,
      "grid_auto_rows": null,
      "grid_column": null,
      "grid_gap": null,
      "grid_row": null,
      "grid_template_areas": null,
      "grid_template_columns": null,
      "grid_template_rows": null,
      "height": null,
      "justify_content": null,
      "justify_items": null,
      "left": null,
      "margin": null,
      "max_height": null,
      "max_width": null,
      "min_height": null,
      "min_width": null,
      "object_fit": null,
      "object_position": null,
      "order": null,
      "overflow": null,
      "overflow_x": null,
      "overflow_y": null,
      "padding": null,
      "right": null,
      "top": null,
      "visibility": null,
      "width": null
     }
    },
    "2cb1ad043dd447db9aaeac213799c6f5": {
     "model_module": "@jupyter-widgets/base",
     "model_module_version": "1.2.0",
     "model_name": "LayoutModel",
     "state": {
      "_model_module": "@jupyter-widgets/base",
      "_model_module_version": "1.2.0",
      "_model_name": "LayoutModel",
      "_view_count": null,
      "_view_module": "@jupyter-widgets/base",
      "_view_module_version": "1.2.0",
      "_view_name": "LayoutView",
      "align_content": null,
      "align_items": null,
      "align_self": null,
      "border": null,
      "bottom": null,
      "display": null,
      "flex": null,
      "flex_flow": null,
      "grid_area": null,
      "grid_auto_columns": null,
      "grid_auto_flow": null,
      "grid_auto_rows": null,
      "grid_column": null,
      "grid_gap": null,
      "grid_row": null,
      "grid_template_areas": null,
      "grid_template_columns": null,
      "grid_template_rows": null,
      "height": null,
      "justify_content": null,
      "justify_items": null,
      "left": null,
      "margin": null,
      "max_height": null,
      "max_width": null,
      "min_height": null,
      "min_width": null,
      "object_fit": null,
      "object_position": null,
      "order": null,
      "overflow": null,
      "overflow_x": null,
      "overflow_y": null,
      "padding": null,
      "right": null,
      "top": null,
      "visibility": null,
      "width": null
     }
    },
    "3632c3cd720e4e10a257ada1ce648f2a": {
     "model_module": "@jupyter-widgets/controls",
     "model_module_version": "1.5.0",
     "model_name": "ProgressStyleModel",
     "state": {
      "_model_module": "@jupyter-widgets/controls",
      "_model_module_version": "1.5.0",
      "_model_name": "ProgressStyleModel",
      "_view_count": null,
      "_view_module": "@jupyter-widgets/base",
      "_view_module_version": "1.2.0",
      "_view_name": "StyleView",
      "bar_color": null,
      "description_width": ""
     }
    },
    "42539b87d043401f92dc6b43601b89e8": {
     "model_module": "@jupyter-widgets/controls",
     "model_module_version": "1.5.0",
     "model_name": "HTMLModel",
     "state": {
      "_dom_classes": [],
      "_model_module": "@jupyter-widgets/controls",
      "_model_module_version": "1.5.0",
      "_model_name": "HTMLModel",
      "_view_count": null,
      "_view_module": "@jupyter-widgets/controls",
      "_view_module_version": "1.5.0",
      "_view_name": "HTMLView",
      "description": "",
      "description_tooltip": null,
      "layout": "IPY_MODEL_7c8ab9c641314c91b7a51337dbece5db",
      "placeholder": "​",
      "style": "IPY_MODEL_8fcfc540e7c649758c33462d31224c29",
      "value": " 28881/28881 [00:00&lt;00:00, 711299.30it/s]"
     }
    },
    "428619ec3687490aba5387922614cff0": {
     "model_module": "@jupyter-widgets/controls",
     "model_module_version": "1.5.0",
     "model_name": "FloatProgressModel",
     "state": {
      "_dom_classes": [],
      "_model_module": "@jupyter-widgets/controls",
      "_model_module_version": "1.5.0",
      "_model_name": "FloatProgressModel",
      "_view_count": null,
      "_view_module": "@jupyter-widgets/controls",
      "_view_module_version": "1.5.0",
      "_view_name": "ProgressView",
      "bar_style": "success",
      "description": "",
      "description_tooltip": null,
      "layout": "IPY_MODEL_db657f4281874c30bc4aa591456d9323",
      "max": 28881,
      "min": 0,
      "orientation": "horizontal",
      "style": "IPY_MODEL_3632c3cd720e4e10a257ada1ce648f2a",
      "value": 28881
     }
    },
    "4df1f458d7864054a3977a68b092cffc": {
     "model_module": "@jupyter-widgets/base",
     "model_module_version": "1.2.0",
     "model_name": "LayoutModel",
     "state": {
      "_model_module": "@jupyter-widgets/base",
      "_model_module_version": "1.2.0",
      "_model_name": "LayoutModel",
      "_view_count": null,
      "_view_module": "@jupyter-widgets/base",
      "_view_module_version": "1.2.0",
      "_view_name": "LayoutView",
      "align_content": null,
      "align_items": null,
      "align_self": null,
      "border": null,
      "bottom": null,
      "display": null,
      "flex": null,
      "flex_flow": null,
      "grid_area": null,
      "grid_auto_columns": null,
      "grid_auto_flow": null,
      "grid_auto_rows": null,
      "grid_column": null,
      "grid_gap": null,
      "grid_row": null,
      "grid_template_areas": null,
      "grid_template_columns": null,
      "grid_template_rows": null,
      "height": null,
      "justify_content": null,
      "justify_items": null,
      "left": null,
      "margin": null,
      "max_height": null,
      "max_width": null,
      "min_height": null,
      "min_width": null,
      "object_fit": null,
      "object_position": null,
      "order": null,
      "overflow": null,
      "overflow_x": null,
      "overflow_y": null,
      "padding": null,
      "right": null,
      "top": null,
      "visibility": null,
      "width": null
     }
    },
    "4fd23458319e4116b1409770e89d362a": {
     "model_module": "@jupyter-widgets/controls",
     "model_module_version": "1.5.0",
     "model_name": "ProgressStyleModel",
     "state": {
      "_model_module": "@jupyter-widgets/controls",
      "_model_module_version": "1.5.0",
      "_model_name": "ProgressStyleModel",
      "_view_count": null,
      "_view_module": "@jupyter-widgets/base",
      "_view_module_version": "1.2.0",
      "_view_name": "StyleView",
      "bar_color": null,
      "description_width": ""
     }
    },
    "5a55176582bb400c826b96c2137f74ce": {
     "model_module": "@jupyter-widgets/controls",
     "model_module_version": "1.5.0",
     "model_name": "HTMLModel",
     "state": {
      "_dom_classes": [],
      "_model_module": "@jupyter-widgets/controls",
      "_model_module_version": "1.5.0",
      "_model_name": "HTMLModel",
      "_view_count": null,
      "_view_module": "@jupyter-widgets/controls",
      "_view_module_version": "1.5.0",
      "_view_name": "HTMLView",
      "description": "",
      "description_tooltip": null,
      "layout": "IPY_MODEL_b60642e2ba664bfc8569e924c6ad1200",
      "placeholder": "​",
      "style": "IPY_MODEL_a8040701bc364430ab4b0cda7632a141",
      "value": " 9912422/9912422 [00:00&lt;00:00, 42661019.81it/s]"
     }
    },
    "681f428deb214852b42bc99efd3be3ff": {
     "model_module": "@jupyter-widgets/base",
     "model_module_version": "1.2.0",
     "model_name": "LayoutModel",
     "state": {
      "_model_module": "@jupyter-widgets/base",
      "_model_module_version": "1.2.0",
      "_model_name": "LayoutModel",
      "_view_count": null,
      "_view_module": "@jupyter-widgets/base",
      "_view_module_version": "1.2.0",
      "_view_name": "LayoutView",
      "align_content": null,
      "align_items": null,
      "align_self": null,
      "border": null,
      "bottom": null,
      "display": null,
      "flex": null,
      "flex_flow": null,
      "grid_area": null,
      "grid_auto_columns": null,
      "grid_auto_flow": null,
      "grid_auto_rows": null,
      "grid_column": null,
      "grid_gap": null,
      "grid_row": null,
      "grid_template_areas": null,
      "grid_template_columns": null,
      "grid_template_rows": null,
      "height": null,
      "justify_content": null,
      "justify_items": null,
      "left": null,
      "margin": null,
      "max_height": null,
      "max_width": null,
      "min_height": null,
      "min_width": null,
      "object_fit": null,
      "object_position": null,
      "order": null,
      "overflow": null,
      "overflow_x": null,
      "overflow_y": null,
      "padding": null,
      "right": null,
      "top": null,
      "visibility": null,
      "width": null
     }
    },
    "6cb9acdda6484bfdb2b3c8489e4488de": {
     "model_module": "@jupyter-widgets/controls",
     "model_module_version": "1.5.0",
     "model_name": "HTMLModel",
     "state": {
      "_dom_classes": [],
      "_model_module": "@jupyter-widgets/controls",
      "_model_module_version": "1.5.0",
      "_model_name": "HTMLModel",
      "_view_count": null,
      "_view_module": "@jupyter-widgets/controls",
      "_view_module_version": "1.5.0",
      "_view_name": "HTMLView",
      "description": "",
      "description_tooltip": null,
      "layout": "IPY_MODEL_92308f803af74b5ab74062d000529d27",
      "placeholder": "​",
      "style": "IPY_MODEL_babcf99269d7486982edf2fc0b5cf7d5",
      "value": "100%"
     }
    },
    "6dfd7182111a43d1944b22f45d0a19c0": {
     "model_module": "@jupyter-widgets/controls",
     "model_module_version": "1.5.0",
     "model_name": "HTMLModel",
     "state": {
      "_dom_classes": [],
      "_model_module": "@jupyter-widgets/controls",
      "_model_module_version": "1.5.0",
      "_model_name": "HTMLModel",
      "_view_count": null,
      "_view_module": "@jupyter-widgets/controls",
      "_view_module_version": "1.5.0",
      "_view_name": "HTMLView",
      "description": "",
      "description_tooltip": null,
      "layout": "IPY_MODEL_1f684b942c75456e82fd7109f46eb191",
      "placeholder": "​",
      "style": "IPY_MODEL_8d9b0c20c70d461bb33e55e4575906b4",
      "value": "100%"
     }
    },
    "6f6ab657eb4f404fb2f0be83429ca4c9": {
     "model_module": "@jupyter-widgets/controls",
     "model_module_version": "1.5.0",
     "model_name": "DescriptionStyleModel",
     "state": {
      "_model_module": "@jupyter-widgets/controls",
      "_model_module_version": "1.5.0",
      "_model_name": "DescriptionStyleModel",
      "_view_count": null,
      "_view_module": "@jupyter-widgets/base",
      "_view_module_version": "1.2.0",
      "_view_name": "StyleView",
      "description_width": ""
     }
    },
    "72c6a97d007b450c9c010cd0ed655f18": {
     "model_module": "@jupyter-widgets/controls",
     "model_module_version": "1.5.0",
     "model_name": "ProgressStyleModel",
     "state": {
      "_model_module": "@jupyter-widgets/controls",
      "_model_module_version": "1.5.0",
      "_model_name": "ProgressStyleModel",
      "_view_count": null,
      "_view_module": "@jupyter-widgets/base",
      "_view_module_version": "1.2.0",
      "_view_name": "StyleView",
      "bar_color": null,
      "description_width": ""
     }
    },
    "73a89374cbc44dd4b427a65d9db3bd85": {
     "model_module": "@jupyter-widgets/controls",
     "model_module_version": "1.5.0",
     "model_name": "HTMLModel",
     "state": {
      "_dom_classes": [],
      "_model_module": "@jupyter-widgets/controls",
      "_model_module_version": "1.5.0",
      "_model_name": "HTMLModel",
      "_view_count": null,
      "_view_module": "@jupyter-widgets/controls",
      "_view_module_version": "1.5.0",
      "_view_name": "HTMLView",
      "description": "",
      "description_tooltip": null,
      "layout": "IPY_MODEL_e94384a90b4749b0bb416a2ce3837322",
      "placeholder": "​",
      "style": "IPY_MODEL_6f6ab657eb4f404fb2f0be83429ca4c9",
      "value": "100%"
     }
    },
    "77651612bfdd43cc8c5713efe93646fc": {
     "model_module": "@jupyter-widgets/controls",
     "model_module_version": "1.5.0",
     "model_name": "HBoxModel",
     "state": {
      "_dom_classes": [],
      "_model_module": "@jupyter-widgets/controls",
      "_model_module_version": "1.5.0",
      "_model_name": "HBoxModel",
      "_view_count": null,
      "_view_module": "@jupyter-widgets/controls",
      "_view_module_version": "1.5.0",
      "_view_name": "HBoxView",
      "box_style": "",
      "children": [
       "IPY_MODEL_73a89374cbc44dd4b427a65d9db3bd85",
       "IPY_MODEL_428619ec3687490aba5387922614cff0",
       "IPY_MODEL_42539b87d043401f92dc6b43601b89e8"
      ],
      "layout": "IPY_MODEL_283353d44ec943aea16fbce2b9ab4021"
     }
    },
    "7c8ab9c641314c91b7a51337dbece5db": {
     "model_module": "@jupyter-widgets/base",
     "model_module_version": "1.2.0",
     "model_name": "LayoutModel",
     "state": {
      "_model_module": "@jupyter-widgets/base",
      "_model_module_version": "1.2.0",
      "_model_name": "LayoutModel",
      "_view_count": null,
      "_view_module": "@jupyter-widgets/base",
      "_view_module_version": "1.2.0",
      "_view_name": "LayoutView",
      "align_content": null,
      "align_items": null,
      "align_self": null,
      "border": null,
      "bottom": null,
      "display": null,
      "flex": null,
      "flex_flow": null,
      "grid_area": null,
      "grid_auto_columns": null,
      "grid_auto_flow": null,
      "grid_auto_rows": null,
      "grid_column": null,
      "grid_gap": null,
      "grid_row": null,
      "grid_template_areas": null,
      "grid_template_columns": null,
      "grid_template_rows": null,
      "height": null,
      "justify_content": null,
      "justify_items": null,
      "left": null,
      "margin": null,
      "max_height": null,
      "max_width": null,
      "min_height": null,
      "min_width": null,
      "object_fit": null,
      "object_position": null,
      "order": null,
      "overflow": null,
      "overflow_x": null,
      "overflow_y": null,
      "padding": null,
      "right": null,
      "top": null,
      "visibility": null,
      "width": null
     }
    },
    "8d9b0c20c70d461bb33e55e4575906b4": {
     "model_module": "@jupyter-widgets/controls",
     "model_module_version": "1.5.0",
     "model_name": "DescriptionStyleModel",
     "state": {
      "_model_module": "@jupyter-widgets/controls",
      "_model_module_version": "1.5.0",
      "_model_name": "DescriptionStyleModel",
      "_view_count": null,
      "_view_module": "@jupyter-widgets/base",
      "_view_module_version": "1.2.0",
      "_view_name": "StyleView",
      "description_width": ""
     }
    },
    "8fcfc540e7c649758c33462d31224c29": {
     "model_module": "@jupyter-widgets/controls",
     "model_module_version": "1.5.0",
     "model_name": "DescriptionStyleModel",
     "state": {
      "_model_module": "@jupyter-widgets/controls",
      "_model_module_version": "1.5.0",
      "_model_name": "DescriptionStyleModel",
      "_view_count": null,
      "_view_module": "@jupyter-widgets/base",
      "_view_module_version": "1.2.0",
      "_view_name": "StyleView",
      "description_width": ""
     }
    },
    "92308f803af74b5ab74062d000529d27": {
     "model_module": "@jupyter-widgets/base",
     "model_module_version": "1.2.0",
     "model_name": "LayoutModel",
     "state": {
      "_model_module": "@jupyter-widgets/base",
      "_model_module_version": "1.2.0",
      "_model_name": "LayoutModel",
      "_view_count": null,
      "_view_module": "@jupyter-widgets/base",
      "_view_module_version": "1.2.0",
      "_view_name": "LayoutView",
      "align_content": null,
      "align_items": null,
      "align_self": null,
      "border": null,
      "bottom": null,
      "display": null,
      "flex": null,
      "flex_flow": null,
      "grid_area": null,
      "grid_auto_columns": null,
      "grid_auto_flow": null,
      "grid_auto_rows": null,
      "grid_column": null,
      "grid_gap": null,
      "grid_row": null,
      "grid_template_areas": null,
      "grid_template_columns": null,
      "grid_template_rows": null,
      "height": null,
      "justify_content": null,
      "justify_items": null,
      "left": null,
      "margin": null,
      "max_height": null,
      "max_width": null,
      "min_height": null,
      "min_width": null,
      "object_fit": null,
      "object_position": null,
      "order": null,
      "overflow": null,
      "overflow_x": null,
      "overflow_y": null,
      "padding": null,
      "right": null,
      "top": null,
      "visibility": null,
      "width": null
     }
    },
    "9bcbd31c33034126adeab4464e3ef73d": {
     "model_module": "@jupyter-widgets/controls",
     "model_module_version": "1.5.0",
     "model_name": "DescriptionStyleModel",
     "state": {
      "_model_module": "@jupyter-widgets/controls",
      "_model_module_version": "1.5.0",
      "_model_name": "DescriptionStyleModel",
      "_view_count": null,
      "_view_module": "@jupyter-widgets/base",
      "_view_module_version": "1.2.0",
      "_view_name": "StyleView",
      "description_width": ""
     }
    },
    "a32aef8210804968900721dba6b6d4e9": {
     "model_module": "@jupyter-widgets/base",
     "model_module_version": "1.2.0",
     "model_name": "LayoutModel",
     "state": {
      "_model_module": "@jupyter-widgets/base",
      "_model_module_version": "1.2.0",
      "_model_name": "LayoutModel",
      "_view_count": null,
      "_view_module": "@jupyter-widgets/base",
      "_view_module_version": "1.2.0",
      "_view_name": "LayoutView",
      "align_content": null,
      "align_items": null,
      "align_self": null,
      "border": null,
      "bottom": null,
      "display": null,
      "flex": null,
      "flex_flow": null,
      "grid_area": null,
      "grid_auto_columns": null,
      "grid_auto_flow": null,
      "grid_auto_rows": null,
      "grid_column": null,
      "grid_gap": null,
      "grid_row": null,
      "grid_template_areas": null,
      "grid_template_columns": null,
      "grid_template_rows": null,
      "height": null,
      "justify_content": null,
      "justify_items": null,
      "left": null,
      "margin": null,
      "max_height": null,
      "max_width": null,
      "min_height": null,
      "min_width": null,
      "object_fit": null,
      "object_position": null,
      "order": null,
      "overflow": null,
      "overflow_x": null,
      "overflow_y": null,
      "padding": null,
      "right": null,
      "top": null,
      "visibility": null,
      "width": null
     }
    },
    "a8040701bc364430ab4b0cda7632a141": {
     "model_module": "@jupyter-widgets/controls",
     "model_module_version": "1.5.0",
     "model_name": "DescriptionStyleModel",
     "state": {
      "_model_module": "@jupyter-widgets/controls",
      "_model_module_version": "1.5.0",
      "_model_name": "DescriptionStyleModel",
      "_view_count": null,
      "_view_module": "@jupyter-widgets/base",
      "_view_module_version": "1.2.0",
      "_view_name": "StyleView",
      "description_width": ""
     }
    },
    "b41e163541cc4d9baf18a3f18908deb3": {
     "model_module": "@jupyter-widgets/controls",
     "model_module_version": "1.5.0",
     "model_name": "HBoxModel",
     "state": {
      "_dom_classes": [],
      "_model_module": "@jupyter-widgets/controls",
      "_model_module_version": "1.5.0",
      "_model_name": "HBoxModel",
      "_view_count": null,
      "_view_module": "@jupyter-widgets/controls",
      "_view_module_version": "1.5.0",
      "_view_name": "HBoxView",
      "box_style": "",
      "children": [
       "IPY_MODEL_6cb9acdda6484bfdb2b3c8489e4488de",
       "IPY_MODEL_231bcacb60d34d8ca6616631b7d09198",
       "IPY_MODEL_f0e3f28a1c7641e3bf1f47ad05aa7063"
      ],
      "layout": "IPY_MODEL_0c712b356bb746dcae33c69f06c2d2d0"
     }
    },
    "b5d32061a4f74ca0a604ea2a422b7c05": {
     "model_module": "@jupyter-widgets/controls",
     "model_module_version": "1.5.0",
     "model_name": "FloatProgressModel",
     "state": {
      "_dom_classes": [],
      "_model_module": "@jupyter-widgets/controls",
      "_model_module_version": "1.5.0",
      "_model_name": "FloatProgressModel",
      "_view_count": null,
      "_view_module": "@jupyter-widgets/controls",
      "_view_module_version": "1.5.0",
      "_view_name": "ProgressView",
      "bar_style": "success",
      "description": "",
      "description_tooltip": null,
      "layout": "IPY_MODEL_1187e03ae062437c80629b458ed0bc92",
      "max": 9912422,
      "min": 0,
      "orientation": "horizontal",
      "style": "IPY_MODEL_72c6a97d007b450c9c010cd0ed655f18",
      "value": 9912422
     }
    },
    "b60642e2ba664bfc8569e924c6ad1200": {
     "model_module": "@jupyter-widgets/base",
     "model_module_version": "1.2.0",
     "model_name": "LayoutModel",
     "state": {
      "_model_module": "@jupyter-widgets/base",
      "_model_module_version": "1.2.0",
      "_model_name": "LayoutModel",
      "_view_count": null,
      "_view_module": "@jupyter-widgets/base",
      "_view_module_version": "1.2.0",
      "_view_name": "LayoutView",
      "align_content": null,
      "align_items": null,
      "align_self": null,
      "border": null,
      "bottom": null,
      "display": null,
      "flex": null,
      "flex_flow": null,
      "grid_area": null,
      "grid_auto_columns": null,
      "grid_auto_flow": null,
      "grid_auto_rows": null,
      "grid_column": null,
      "grid_gap": null,
      "grid_row": null,
      "grid_template_areas": null,
      "grid_template_columns": null,
      "grid_template_rows": null,
      "height": null,
      "justify_content": null,
      "justify_items": null,
      "left": null,
      "margin": null,
      "max_height": null,
      "max_width": null,
      "min_height": null,
      "min_width": null,
      "object_fit": null,
      "object_position": null,
      "order": null,
      "overflow": null,
      "overflow_x": null,
      "overflow_y": null,
      "padding": null,
      "right": null,
      "top": null,
      "visibility": null,
      "width": null
     }
    },
    "babcf99269d7486982edf2fc0b5cf7d5": {
     "model_module": "@jupyter-widgets/controls",
     "model_module_version": "1.5.0",
     "model_name": "DescriptionStyleModel",
     "state": {
      "_model_module": "@jupyter-widgets/controls",
      "_model_module_version": "1.5.0",
      "_model_name": "DescriptionStyleModel",
      "_view_count": null,
      "_view_module": "@jupyter-widgets/base",
      "_view_module_version": "1.2.0",
      "_view_name": "StyleView",
      "description_width": ""
     }
    },
    "c223000b0ee845c0b4e3441358ea4bf6": {
     "model_module": "@jupyter-widgets/controls",
     "model_module_version": "1.5.0",
     "model_name": "DescriptionStyleModel",
     "state": {
      "_model_module": "@jupyter-widgets/controls",
      "_model_module_version": "1.5.0",
      "_model_name": "DescriptionStyleModel",
      "_view_count": null,
      "_view_module": "@jupyter-widgets/base",
      "_view_module_version": "1.2.0",
      "_view_name": "StyleView",
      "description_width": ""
     }
    },
    "d8a864b8fdea4a7d976f70b9a5822e31": {
     "model_module": "@jupyter-widgets/controls",
     "model_module_version": "1.5.0",
     "model_name": "DescriptionStyleModel",
     "state": {
      "_model_module": "@jupyter-widgets/controls",
      "_model_module_version": "1.5.0",
      "_model_name": "DescriptionStyleModel",
      "_view_count": null,
      "_view_module": "@jupyter-widgets/base",
      "_view_module_version": "1.2.0",
      "_view_name": "StyleView",
      "description_width": ""
     }
    },
    "db657f4281874c30bc4aa591456d9323": {
     "model_module": "@jupyter-widgets/base",
     "model_module_version": "1.2.0",
     "model_name": "LayoutModel",
     "state": {
      "_model_module": "@jupyter-widgets/base",
      "_model_module_version": "1.2.0",
      "_model_name": "LayoutModel",
      "_view_count": null,
      "_view_module": "@jupyter-widgets/base",
      "_view_module_version": "1.2.0",
      "_view_name": "LayoutView",
      "align_content": null,
      "align_items": null,
      "align_self": null,
      "border": null,
      "bottom": null,
      "display": null,
      "flex": null,
      "flex_flow": null,
      "grid_area": null,
      "grid_auto_columns": null,
      "grid_auto_flow": null,
      "grid_auto_rows": null,
      "grid_column": null,
      "grid_gap": null,
      "grid_row": null,
      "grid_template_areas": null,
      "grid_template_columns": null,
      "grid_template_rows": null,
      "height": null,
      "justify_content": null,
      "justify_items": null,
      "left": null,
      "margin": null,
      "max_height": null,
      "max_width": null,
      "min_height": null,
      "min_width": null,
      "object_fit": null,
      "object_position": null,
      "order": null,
      "overflow": null,
      "overflow_x": null,
      "overflow_y": null,
      "padding": null,
      "right": null,
      "top": null,
      "visibility": null,
      "width": null
     }
    },
    "e2c8f7a549c6489694bb88a3f5fd76de": {
     "model_module": "@jupyter-widgets/controls",
     "model_module_version": "1.5.0",
     "model_name": "HBoxModel",
     "state": {
      "_dom_classes": [],
      "_model_module": "@jupyter-widgets/controls",
      "_model_module_version": "1.5.0",
      "_model_name": "HBoxModel",
      "_view_count": null,
      "_view_module": "@jupyter-widgets/controls",
      "_view_module_version": "1.5.0",
      "_view_name": "HBoxView",
      "box_style": "",
      "children": [
       "IPY_MODEL_6dfd7182111a43d1944b22f45d0a19c0",
       "IPY_MODEL_f920dd2fa90445a58cadd0e380ae4e9f",
       "IPY_MODEL_e32a296eaaef40aaa975d075b4a7f23e"
      ],
      "layout": "IPY_MODEL_0bfa056c21814945b0f0391b5ab4586e"
     }
    },
    "e32a296eaaef40aaa975d075b4a7f23e": {
     "model_module": "@jupyter-widgets/controls",
     "model_module_version": "1.5.0",
     "model_name": "HTMLModel",
     "state": {
      "_dom_classes": [],
      "_model_module": "@jupyter-widgets/controls",
      "_model_module_version": "1.5.0",
      "_model_name": "HTMLModel",
      "_view_count": null,
      "_view_module": "@jupyter-widgets/controls",
      "_view_module_version": "1.5.0",
      "_view_name": "HTMLView",
      "description": "",
      "description_tooltip": null,
      "layout": "IPY_MODEL_2cb1ad043dd447db9aaeac213799c6f5",
      "placeholder": "​",
      "style": "IPY_MODEL_9bcbd31c33034126adeab4464e3ef73d",
      "value": " 1648877/1648877 [00:00&lt;00:00, 10471288.57it/s]"
     }
    },
    "e3492771442d4f51987a1110cb9c597c": {
     "model_module": "@jupyter-widgets/controls",
     "model_module_version": "1.5.0",
     "model_name": "HBoxModel",
     "state": {
      "_dom_classes": [],
      "_model_module": "@jupyter-widgets/controls",
      "_model_module_version": "1.5.0",
      "_model_name": "HBoxModel",
      "_view_count": null,
      "_view_module": "@jupyter-widgets/controls",
      "_view_module_version": "1.5.0",
      "_view_name": "HBoxView",
      "box_style": "",
      "children": [
       "IPY_MODEL_fbe84bcf07124584b546b9502e8d94b6",
       "IPY_MODEL_b5d32061a4f74ca0a604ea2a422b7c05",
       "IPY_MODEL_5a55176582bb400c826b96c2137f74ce"
      ],
      "layout": "IPY_MODEL_0c6a1dda56bf43b0a9067f470ca4fc87"
     }
    },
    "e94384a90b4749b0bb416a2ce3837322": {
     "model_module": "@jupyter-widgets/base",
     "model_module_version": "1.2.0",
     "model_name": "LayoutModel",
     "state": {
      "_model_module": "@jupyter-widgets/base",
      "_model_module_version": "1.2.0",
      "_model_name": "LayoutModel",
      "_view_count": null,
      "_view_module": "@jupyter-widgets/base",
      "_view_module_version": "1.2.0",
      "_view_name": "LayoutView",
      "align_content": null,
      "align_items": null,
      "align_self": null,
      "border": null,
      "bottom": null,
      "display": null,
      "flex": null,
      "flex_flow": null,
      "grid_area": null,
      "grid_auto_columns": null,
      "grid_auto_flow": null,
      "grid_auto_rows": null,
      "grid_column": null,
      "grid_gap": null,
      "grid_row": null,
      "grid_template_areas": null,
      "grid_template_columns": null,
      "grid_template_rows": null,
      "height": null,
      "justify_content": null,
      "justify_items": null,
      "left": null,
      "margin": null,
      "max_height": null,
      "max_width": null,
      "min_height": null,
      "min_width": null,
      "object_fit": null,
      "object_position": null,
      "order": null,
      "overflow": null,
      "overflow_x": null,
      "overflow_y": null,
      "padding": null,
      "right": null,
      "top": null,
      "visibility": null,
      "width": null
     }
    },
    "f0e3f28a1c7641e3bf1f47ad05aa7063": {
     "model_module": "@jupyter-widgets/controls",
     "model_module_version": "1.5.0",
     "model_name": "HTMLModel",
     "state": {
      "_dom_classes": [],
      "_model_module": "@jupyter-widgets/controls",
      "_model_module_version": "1.5.0",
      "_model_name": "HTMLModel",
      "_view_count": null,
      "_view_module": "@jupyter-widgets/controls",
      "_view_module_version": "1.5.0",
      "_view_name": "HTMLView",
      "description": "",
      "description_tooltip": null,
      "layout": "IPY_MODEL_a32aef8210804968900721dba6b6d4e9",
      "placeholder": "​",
      "style": "IPY_MODEL_c223000b0ee845c0b4e3441358ea4bf6",
      "value": " 4542/4542 [00:00&lt;00:00, 115578.23it/s]"
     }
    },
    "f920dd2fa90445a58cadd0e380ae4e9f": {
     "model_module": "@jupyter-widgets/controls",
     "model_module_version": "1.5.0",
     "model_name": "FloatProgressModel",
     "state": {
      "_dom_classes": [],
      "_model_module": "@jupyter-widgets/controls",
      "_model_module_version": "1.5.0",
      "_model_name": "FloatProgressModel",
      "_view_count": null,
      "_view_module": "@jupyter-widgets/controls",
      "_view_module_version": "1.5.0",
      "_view_name": "ProgressView",
      "bar_style": "success",
      "description": "",
      "description_tooltip": null,
      "layout": "IPY_MODEL_4df1f458d7864054a3977a68b092cffc",
      "max": 1648877,
      "min": 0,
      "orientation": "horizontal",
      "style": "IPY_MODEL_4fd23458319e4116b1409770e89d362a",
      "value": 1648877
     }
    },
    "fbe84bcf07124584b546b9502e8d94b6": {
     "model_module": "@jupyter-widgets/controls",
     "model_module_version": "1.5.0",
     "model_name": "HTMLModel",
     "state": {
      "_dom_classes": [],
      "_model_module": "@jupyter-widgets/controls",
      "_model_module_version": "1.5.0",
      "_model_name": "HTMLModel",
      "_view_count": null,
      "_view_module": "@jupyter-widgets/controls",
      "_view_module_version": "1.5.0",
      "_view_name": "HTMLView",
      "description": "",
      "description_tooltip": null,
      "layout": "IPY_MODEL_0948f7d31d2443438a75a249fd923dc3",
      "placeholder": "​",
      "style": "IPY_MODEL_d8a864b8fdea4a7d976f70b9a5822e31",
      "value": "100%"
     }
    }
   }
  }
 },
 "nbformat": 4,
 "nbformat_minor": 1
}
